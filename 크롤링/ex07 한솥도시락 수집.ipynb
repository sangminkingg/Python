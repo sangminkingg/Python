{
 "cells": [
  {
   "cell_type": "code",
   "execution_count": 1,
   "id": "9381d499",
   "metadata": {},
   "outputs": [],
   "source": [
    "from selenium import webdriver as wb\n",
    "from selenium.webdriver.common.keys import Keys\n",
    "from selenium.webdriver.common.by import By\n",
    "import time"
   ]
  },
  {
   "cell_type": "code",
   "execution_count": 4,
   "id": "b0051a57",
   "metadata": {},
   "outputs": [],
   "source": [
    "# 1. 크롬브라우저를 실행\n",
    "# 1.1 한솥메뉴사이트로 이동\n",
    "driver = wb.Chrome()\n",
    "driver.get(\"https://www.hsd.co.kr/menu/menu_list\")"
   ]
  },
  {
   "cell_type": "code",
   "execution_count": null,
   "id": "c3ea32a5",
   "metadata": {},
   "outputs": [],
   "source": [
    "# 상품명, 상품가격정보를 수집"
   ]
  },
  {
   "cell_type": "code",
   "execution_count": 16,
   "id": "31a195c7",
   "metadata": {},
   "outputs": [
    {
     "data": {
      "text/plain": [
       "'오븐구이 오리도시락'"
      ]
     },
     "execution_count": 16,
     "metadata": {},
     "output_type": "execute_result"
    }
   ],
   "source": [
    "title = driver.find_elements(By.CLASS_NAME, (\"h.fz_03\"))\n",
    "title[0].text"
   ]
  },
  {
   "cell_type": "code",
   "execution_count": 18,
   "id": "7a90f2f1",
   "metadata": {},
   "outputs": [
    {
     "data": {
      "text/plain": [
       "'6,900원'"
      ]
     },
     "execution_count": 18,
     "metadata": {},
     "output_type": "execute_result"
    }
   ],
   "source": [
    "price = driver.find_elements(By.CLASS_NAME, (\"item-price\"))\n",
    "price[0].text"
   ]
  },
  {
   "cell_type": "code",
   "execution_count": 19,
   "id": "a6364718",
   "metadata": {},
   "outputs": [],
   "source": [
    "hanList= []\n",
    "han = driver.find_elements(By.CLASS_NAME, (\"item-text\"))\n",
    "for i in range(len(han)):\n",
    "    hanList.append(han[i].text)"
   ]
  },
  {
   "cell_type": "code",
   "execution_count": 24,
   "id": "682cee69",
   "metadata": {
    "collapsed": true
   },
   "outputs": [
    {
     "data": {
      "text/plain": [
       "['오븐구이 오리도시락\\n6,900원',\n",
       " '열무 감초고추장 비빔밥\\n4,500원',\n",
       " '열무 두부강된장 비빔밥\\n4,900원',\n",
       " '핫 치즈 닭갈비 덮밥\\n5,900원',\n",
       " '오리지널 치즈 닭갈비 덮밥\\n5,900원',\n",
       " '1993 왕돈까스 도시락\\n9,300원',\n",
       " '한입 족발 도시락\\n8,500원',\n",
       " '매화(순살 고등어 간장구이)\\n10,000원',\n",
       " '진달래\\n7,500원',\n",
       " '개나리(순살 고등어 간장구이)\\n8,000원',\n",
       " '돈까스도련님고기고기\\n6,000원',\n",
       " '탕수육도련님고기고기\\n5,800원',\n",
       " '새치 고기고기\\n6,700원',\n",
       " '돈치 고기고기\\n5,800원',\n",
       " '숯불직화구이\\n6,500원',\n",
       " '소불고기\\n5,400원',\n",
       " '메가치킨제육\\n7,000원',\n",
       " '칠리 찹쌀탕수육도련님\\n4,200원',\n",
       " '동백\\n5,800원',\n",
       " '치킨제육\\n4,700원',\n",
       " '돈까스도련님\\n4,500원',\n",
       " '제육볶음\\n4,200원',\n",
       " '돈치스팸 도시락\\n4,900원',\n",
       " '제육 김치찌개 정식\\n8,200원',\n",
       " '제육 김치 부대찌개 정식\\n8,500원',\n",
       " '돈치스팸 김치 부대찌개 정식\\n8,500원',\n",
       " '빅치킨마요 김치 부대찌개 정식\\n7,500원',\n",
       " '치킨마요 김치 부대찌개 정식\\n6,900원',\n",
       " '빅치킨마요 김치찌개 정식\\n7,000원',\n",
       " '치킨마요 김치찌개 정식\\n6,500원',\n",
       " '메가스팸마요\\n5,600원',\n",
       " '스팸마요\\n3,700원',\n",
       " '메가치킨마요\\n5,800원',\n",
       " '왕치킨마요\\n4,800원',\n",
       " '빅치킨마요\\n4,100원',\n",
       " '치킨마요\\n3,500원',\n",
       " '참치마요\\n3,200원',\n",
       " '돈치마요\\n3,800원',\n",
       " '돈까스 카레\\n4,500원',\n",
       " '스팸 김치볶음밥\\n4,700원',\n",
       " '김치볶음밥\\n3,900원',\n",
       " '스팸철판볶음밥\\n4,500원',\n",
       " '소불고기 철판볶음밥\\n4,700원',\n",
       " '나시고랭\\n6,000원',\n",
       " '묵은지 김치찌개\\n4,500원',\n",
       " '김치 부대찌개\\n5,800원',\n",
       " '숯불직화구이 덮밥\\n5,900원',\n",
       " '마파두부 덮밥\\n5,000원',\n",
       " '왕카레돈까스덮밥\\n5,900원',\n",
       " '새우돈까스 덮밥\\n4,100원',\n",
       " '돈까스 덮밥\\n4,000원',\n",
       " '소불고기 감초고추장 비빔밥\\n5,200원',\n",
       " '시골제육 두부강된장 비빔밥\\n5,000원',\n",
       " '참치야채 감초고추장\\n3,300원',\n",
       " '튼튼도시락\\n5,000원',\n",
       " '토네이도 소세지 파스타\\n5,500원',\n",
       " '트리플 치즈 파스타\\n5,500원',\n",
       " '토마토 미트 파스타\\n4,500원']"
      ]
     },
     "execution_count": 24,
     "metadata": {},
     "output_type": "execute_result"
    }
   ],
   "source": [
    "hanList"
   ]
  },
  {
   "cell_type": "code",
   "execution_count": 44,
   "id": "76d7f6f0",
   "metadata": {
    "collapsed": true
   },
   "outputs": [
    {
     "name": "stdout",
     "output_type": "stream",
     "text": [
      "오븐구이 오리도시락\n",
      "열무 감초고추장 비빔밥\n",
      "열무 두부강된장 비빔밥\n",
      "핫 치즈 닭갈비 덮밥\n",
      "오리지널 치즈 닭갈비 덮밥\n",
      "1993 왕돈까스 도시락\n",
      "한입 족발 도시락\n",
      "매화(순살 고등어 간장구이)\n",
      "진달래\n",
      "개나리(순살 고등어 간장구이)\n",
      "돈까스도련님고기고기\n",
      "탕수육도련님고기고기\n",
      "새치 고기고기\n",
      "돈치 고기고기\n",
      "숯불직화구이\n",
      "소불고기\n",
      "메가치킨제육\n",
      "칠리 찹쌀탕수육도련님\n",
      "동백\n",
      "치킨제육\n",
      "돈까스도련님\n",
      "제육볶음\n",
      "돈치스팸 도시락\n",
      "제육 김치찌개 정식\n",
      "제육 김치 부대찌개 정식\n",
      "돈치스팸 김치 부대찌개 정식\n",
      "빅치킨마요 김치 부대찌개 정식\n",
      "치킨마요 김치 부대찌개 정식\n",
      "빅치킨마요 김치찌개 정식\n",
      "치킨마요 김치찌개 정식\n",
      "메가스팸마요\n",
      "스팸마요\n",
      "메가치킨마요\n",
      "왕치킨마요\n",
      "빅치킨마요\n",
      "치킨마요\n",
      "참치마요\n",
      "돈치마요\n",
      "돈까스 카레\n",
      "스팸 김치볶음밥\n",
      "김치볶음밥\n",
      "스팸철판볶음밥\n",
      "소불고기 철판볶음밥\n",
      "나시고랭\n",
      "묵은지 김치찌개\n",
      "김치 부대찌개\n",
      "숯불직화구이 덮밥\n",
      "마파두부 덮밥\n",
      "왕카레돈까스덮밥\n",
      "새우돈까스 덮밥\n",
      "돈까스 덮밥\n",
      "소불고기 감초고추장 비빔밥\n",
      "시골제육 두부강된장 비빔밥\n",
      "참치야채 감초고추장\n",
      "튼튼도시락\n",
      "토네이도 소세지 파스타\n",
      "트리플 치즈 파스타\n",
      "토마토 미트 파스타\n",
      "반찬 계란말이\n",
      "반찬 묵은지김치찌개\n",
      "반찬 카레\n",
      "반찬 순살 고등어데리야끼\n",
      "반찬 김치 부대찌개\n",
      "반찬 치킨\n",
      "반찬 고기고기\n",
      "반찬 돈까스 도련님\n",
      "반찬 제육볶음\n",
      "반찬 토네이도 소세지\n",
      "반찬 반달돈까스\n",
      "뉴 감자고로케\n",
      "미니 찹쌀핫도그\n",
      "미니 찹쌀탕수육\n",
      "케이준후라이\n",
      "고메이 크림 고로케\n",
      "후라이드 순살(소)_스리라차마요소스\n",
      "후라이드 순살(중)\n",
      "후라이드 순살(소)_양념치킨소스\n",
      "후라이드 순살(소)_케이준소스\n",
      "오리지널 닭강정(중)\n",
      "오리지널 닭강정(소)\n",
      "무생채\n",
      "열무김치\n",
      "오징어젓갈\n",
      "오이지무침\n",
      "한솥 두부강된장소스\n",
      "한솥 감초볶음고추장소스\n",
      "볶음김치\n",
      "김치\n",
      "무말랭이 무침\n",
      "한솥밥\n",
      "현미밥\n",
      "리얼 티라미수 찰떡\n",
      "리얼꿀 미니호떡\n"
     ]
    }
   ],
   "source": [
    "# 실습 풀이\n",
    "title = driver.find_elements(By.CLASS_NAME, \"h.fz_03\")\n",
    "for i in title:\n",
    "    print(i.text)"
   ]
  },
  {
   "cell_type": "code",
   "execution_count": 45,
   "id": "da7d2274",
   "metadata": {
    "collapsed": true
   },
   "outputs": [
    {
     "name": "stdout",
     "output_type": "stream",
     "text": [
      "6,900\n",
      "4,500\n",
      "4,900\n",
      "5,900\n",
      "5,900\n",
      "9,300\n",
      "8,500\n",
      "10,000\n",
      "7,500\n",
      "8,000\n",
      "6,000\n",
      "5,800\n",
      "6,700\n",
      "5,800\n",
      "6,500\n",
      "5,400\n",
      "7,000\n",
      "4,200\n",
      "5,800\n",
      "4,700\n",
      "4,500\n",
      "4,200\n",
      "4,900\n",
      "8,200\n",
      "8,500\n",
      "8,500\n",
      "7,500\n",
      "6,900\n",
      "7,000\n",
      "6,500\n",
      "5,600\n",
      "3,700\n",
      "5,800\n",
      "4,800\n",
      "4,100\n",
      "3,500\n",
      "3,200\n",
      "3,800\n",
      "4,500\n",
      "4,700\n",
      "3,900\n",
      "4,500\n",
      "4,700\n",
      "6,000\n",
      "4,500\n",
      "5,800\n",
      "5,900\n",
      "5,000\n",
      "5,900\n",
      "4,100\n",
      "4,000\n",
      "5,200\n",
      "5,000\n",
      "3,300\n",
      "5,000\n",
      "5,500\n",
      "5,500\n",
      "4,500\n",
      "2,500\n",
      "4,000\n",
      "2,800\n",
      "3,600\n",
      "4,500\n",
      "3,600\n",
      "3,400\n",
      "3,800\n",
      "3,200\n",
      "2,600\n",
      "2,800\n",
      "2,700\n",
      "2,500\n",
      "2,200\n",
      "1,700\n",
      "3,500\n",
      "4,000\n",
      "7,500\n",
      "4,000\n",
      "4,000\n",
      "8,000\n",
      "3,400\n",
      "400\n",
      "500\n",
      "400\n",
      "700\n",
      "1,800\n",
      "500\n",
      "400\n",
      "300\n",
      "300\n",
      "1,000\n",
      "1,700\n",
      "1,500\n",
      "2,200\n"
     ]
    }
   ],
   "source": [
    "# By.CSS_SELECTOR = 선택자를 직접 명시할 떄 사용\n",
    "# 주의점! 아이디는 # , 클래스는 ., 클래스를 항상 명시해야한다!\n",
    "price = driver.find_elements(By.CSS_SELECTOR, \".item-price>strong\")\n",
    "for i in price :\n",
    "    print(i.text)"
   ]
  },
  {
   "cell_type": "code",
   "execution_count": 42,
   "id": "d4dfe906",
   "metadata": {},
   "outputs": [],
   "source": [
    "# 더보기 버튼을 끝까지 누르는 로직\n",
    "# 개발자 도구에서 html코드에서 copy selector를 한다.\n",
    "btn = driver.find_element(By.CSS_SELECTOR, \"#btn_more > span > a\")\n",
    "btn.click()"
   ]
  },
  {
   "cell_type": "code",
   "execution_count": null,
   "id": "11c9ed49",
   "metadata": {},
   "outputs": [],
   "source": [
    "# 더보기를 반복해서 끝까지 실행!\n",
    "# 반복의 횟수가 다 다르기 때문에, while문을 활용!\n",
    "while True :\n",
    "    btn = driver.find_element(By.CSS_SELECTOR, \"#btn_more > span > a\")\n",
    "    btn.click()\n",
    "    time.sleep(1)"
   ]
  },
  {
   "cell_type": "markdown",
   "id": "89910132",
   "metadata": {},
   "source": [
    "# 예외처리\n",
    "- 오류가 나기전까지 실행하다가 오류가 났을 때는 다른코드를 실행!\n",
    "- try = 오류 나기 전까지 코드\n",
    "- except = 오류가 났을 때 코드\n"
   ]
  },
  {
   "cell_type": "code",
   "execution_count": 43,
   "id": "2383ba3c",
   "metadata": {},
   "outputs": [
    {
     "name": "stdout",
     "output_type": "stream",
     "text": [
      "더보기 완료!\n"
     ]
    }
   ],
   "source": [
    "try :\n",
    "    # 오류 나기 전\n",
    "    while True :\n",
    "        btn = driver.find_element(By.CSS_SELECTOR, \"#btn_more > span > a\")\n",
    "        btn.click()\n",
    "        time.sleep(1)\n",
    "except :\n",
    "    # 오류 난 후\n",
    "    print(\"더보기 완료!\")"
   ]
  },
  {
   "cell_type": "markdown",
   "id": "148aec70",
   "metadata": {},
   "source": [
    "# 한셀에 완벽한 크롤링 코드 짜기"
   ]
  },
  {
   "cell_type": "code",
   "execution_count": null,
   "id": "4b6daf60",
   "metadata": {},
   "outputs": [],
   "source": [
    "#1. 크롬창 실행 후 > 한솥메뉴 사이트 요청\n",
    "#2. 더보기를 끝까지 누르는 로직 작성\n",
    "#3. 가격정보와 메뉴명을 수집\n",
    "#4. 순수한 텍스트 정보만 추출 => 비어있는 리스트에 텍스트만 담기\n",
    "#5. 데이터프레임 제작 => pandas\n",
    "#6. 한글이 깨지지 않고 csv파일을 제작\n",
    "#7. 크롬창을 종료!"
   ]
  },
  {
   "cell_type": "code",
   "execution_count": 70,
   "id": "d13aea53",
   "metadata": {},
   "outputs": [
    {
     "name": "stderr",
     "output_type": "stream",
     "text": [
      "C:\\Users\\AI\\AppData\\Local\\Temp\\ipykernel_4048\\1737766588.py:16: TqdmDeprecationWarning: This function will be removed in tqdm==5.0.0\n",
      "Please use `tqdm.notebook.tqdm` instead of `tqdm.tqdm_notebook`\n",
      "  for i in tq(range(len(title))):\n"
     ]
    },
    {
     "data": {
      "application/vnd.jupyter.widget-view+json": {
       "model_id": "607008e51a7642c0857627c6b81c4652",
       "version_major": 2,
       "version_minor": 0
      },
      "text/plain": [
       "  0%|          | 0/93 [00:00<?, ?it/s]"
      ]
     },
     "metadata": {},
     "output_type": "display_data"
    }
   ],
   "source": [
    "import pandas as pd\n",
    "driver = wb.Chrome()\n",
    "driver.get(\"https://www.hsd.co.kr/menu/menu_list\")\n",
    "titleList = []\n",
    "priceList = []\n",
    "try :\n",
    "    while True :\n",
    "        btn = driver.find_element(By.CSS_SELECTOR, \"#btn_more > span\")\n",
    "        btn.click()\n",
    "        time.sleep(1)\n",
    "except:\n",
    "    pass\n",
    "\n",
    "title = driver.find_elements(By.CLASS_NAME, \"h.fz_03\")\n",
    "price = driver.find_elements(By.CSS_SELECTOR, \"div.item-text > div > strong\")\n",
    "for i in tq(range(len(title))):\n",
    "    priceList.append(price[i].text)\n",
    "    titleList.append(title[i].text) \n",
    "        \n",
    "menu = {\"메뉴명\":titleList, \"가격\":priceList}\n",
    "pd.DataFrame(menu)\n",
    "handata = pd.DataFrame(menu)\n",
    "handata.to_csv(\"한솥메뉴정보.csv\", encoding='euc-kr')\n",
    "driver.close()"
   ]
  },
  {
   "cell_type": "code",
   "execution_count": 59,
   "id": "0f0f6b28",
   "metadata": {},
   "outputs": [],
   "source": [
    "from tqdm import tqdm_notebook as tq"
   ]
  },
  {
   "cell_type": "markdown",
   "id": "d60b30ef",
   "metadata": {},
   "source": [
    "# 선택자 한번에 복사해오는 방법\n",
    "- F12개발자 도구에서 원하는 요소 찾기\n",
    "- 마우스 우클릭 > copy > copy selector\n",
    "- [주의점]\n",
    "- copy selector를 사용시 무조건 선택한 하나만 가지고옴\n",
    "- 복수개를 요청할때는 선택자의 수정이 필요함\n",
    "- ex) li:nth-child(3) > a 는 하나만 요청 / 복수개로 변경시에는 li > a 로 수정!"
   ]
  },
  {
   "cell_type": "markdown",
   "id": "855c5192",
   "metadata": {},
   "source": [
    "# ActionChain\n",
    "- ActionChains 사용법\n",
    "- 1. 내가 액션을 줄 모든 요소들을 수집\n",
    "- 2. ActionChains(\"브라우저\") 호출\n",
    "- 3. ActionChains(\"브라우저\").기능(요소명).기능(요소명).perform()"
   ]
  },
  {
   "cell_type": "code",
   "execution_count": 71,
   "id": "a798d297",
   "metadata": {},
   "outputs": [],
   "source": [
    "# 이벤트를 묶어서 실행하는 라이브러리\n",
    "from selenium.webdriver import ActionChains"
   ]
  },
  {
   "cell_type": "code",
   "execution_count": 72,
   "id": "720b245b",
   "metadata": {},
   "outputs": [],
   "source": [
    "driver = wb.Chrome()\n",
    "driver.get(\"https://www.hsd.co.kr/\")"
   ]
  },
  {
   "cell_type": "code",
   "execution_count": 75,
   "id": "b49b9fb0",
   "metadata": {},
   "outputs": [],
   "source": [
    "#1. 메뉴탭에 마우스를 올리기!\n",
    "#2. 올 상태에서 전체메뉴를 클릭\n",
    "# ActionChains 마지막에 perform()을 입력해줘야 실행된다.\n",
    "menu = driver.find_element(By.CSS_SELECTOR, \"#gnb > div.gnb_menu > ul > li:nth-child(3) > p > a\")\n",
    "allList = driver.find_element(By.CSS_SELECTOR, \"#gnb > div.gnb_menu > ul > li:nth-child(3) > div > ul > li:nth-child(1) > a\")\n",
    "ActionChains(driver).move_to_element(menu).click(allList).perform()"
   ]
  },
  {
   "cell_type": "markdown",
   "id": "da78449a",
   "metadata": {},
   "source": [
    "## 화면에 크롬창이 안보이게 실행(백그라운드 실행)\n",
    "- 크롬옵션을 설정\n",
    "- 크롬드라이버의 경로를 명시!"
   ]
  },
  {
   "cell_type": "code",
   "execution_count": 4,
   "id": "66bd7401",
   "metadata": {},
   "outputs": [
    {
     "name": "stderr",
     "output_type": "stream",
     "text": [
      "C:\\Users\\AI\\AppData\\Local\\Temp\\ipykernel_12752\\1607500326.py:5: DeprecationWarning: executable_path has been deprecated, please pass in a Service object\n",
      "  driver = wb.Chrome(executable_path=\"C:/Users/AI/크롤링/chromedriver.exe\",chrome_options= options)\n",
      "C:\\Users\\AI\\AppData\\Local\\Temp\\ipykernel_12752\\1607500326.py:5: DeprecationWarning: use options instead of chrome_options\n",
      "  driver = wb.Chrome(executable_path=\"C:/Users/AI/크롤링/chromedriver.exe\",chrome_options= options)\n"
     ]
    }
   ],
   "source": [
    "options = wb.ChromeOptions()\n",
    "options.add_argument(\"headless\") \n",
    "\n",
    "import pandas as pd\n",
    "driver = wb.Chrome(executable_path=\"C:/Users/AI/크롤링/chromedriver.exe\",chrome_options= options)\n",
    "driver.get(\"https://www.hsd.co.kr/menu/menu_list\")\n",
    "titleList = []\n",
    "priceList = []\n",
    "try :\n",
    "    while True :\n",
    "        btn = driver.find_element(By.CSS_SELECTOR, \"#btn_more > span\")\n",
    "        btn.click()\n",
    "        time.sleep(1)\n",
    "except:\n",
    "    pass\n",
    "\n",
    "title = driver.find_elements(By.CLASS_NAME, \"h.fz_03\")\n",
    "price = driver.find_elements(By.CSS_SELECTOR, \"div.item-text > div > strong\")\n",
    "for i in range(len(title)):\n",
    "    priceList.append(price[i].text)\n",
    "    titleList.append(title[i].text) \n",
    "        \n",
    "menu = {\"메뉴명\":titleList, \"가격\":priceList}\n",
    "pd.DataFrame(menu)\n",
    "driver.close()"
   ]
  },
  {
   "cell_type": "code",
   "execution_count": 3,
   "id": "5608351f",
   "metadata": {},
   "outputs": [
    {
     "data": {
      "text/html": [
       "<div>\n",
       "<style scoped>\n",
       "    .dataframe tbody tr th:only-of-type {\n",
       "        vertical-align: middle;\n",
       "    }\n",
       "\n",
       "    .dataframe tbody tr th {\n",
       "        vertical-align: top;\n",
       "    }\n",
       "\n",
       "    .dataframe thead th {\n",
       "        text-align: right;\n",
       "    }\n",
       "</style>\n",
       "<table border=\"1\" class=\"dataframe\">\n",
       "  <thead>\n",
       "    <tr style=\"text-align: right;\">\n",
       "      <th></th>\n",
       "      <th>메뉴명</th>\n",
       "      <th>가격</th>\n",
       "    </tr>\n",
       "  </thead>\n",
       "  <tbody>\n",
       "    <tr>\n",
       "      <th>0</th>\n",
       "      <td>오븐구이 오리도시락</td>\n",
       "      <td>6,900</td>\n",
       "    </tr>\n",
       "    <tr>\n",
       "      <th>1</th>\n",
       "      <td>열무 감초고추장 비빔밥</td>\n",
       "      <td>4,500</td>\n",
       "    </tr>\n",
       "    <tr>\n",
       "      <th>2</th>\n",
       "      <td>열무 두부강된장 비빔밥</td>\n",
       "      <td>4,900</td>\n",
       "    </tr>\n",
       "    <tr>\n",
       "      <th>3</th>\n",
       "      <td>핫 치즈 닭갈비 덮밥</td>\n",
       "      <td>5,900</td>\n",
       "    </tr>\n",
       "    <tr>\n",
       "      <th>4</th>\n",
       "      <td>오리지널 치즈 닭갈비 덮밥</td>\n",
       "      <td>5,900</td>\n",
       "    </tr>\n",
       "    <tr>\n",
       "      <th>...</th>\n",
       "      <td>...</td>\n",
       "      <td>...</td>\n",
       "    </tr>\n",
       "    <tr>\n",
       "      <th>116</th>\n",
       "      <td>무말랭이 무침</td>\n",
       "      <td>300</td>\n",
       "    </tr>\n",
       "    <tr>\n",
       "      <th>117</th>\n",
       "      <td>한솥밥</td>\n",
       "      <td>1,000</td>\n",
       "    </tr>\n",
       "    <tr>\n",
       "      <th>118</th>\n",
       "      <td>현미밥</td>\n",
       "      <td>1,700</td>\n",
       "    </tr>\n",
       "    <tr>\n",
       "      <th>119</th>\n",
       "      <td>리얼 티라미수 찰떡</td>\n",
       "      <td>1,500</td>\n",
       "    </tr>\n",
       "    <tr>\n",
       "      <th>120</th>\n",
       "      <td>리얼꿀 미니호떡</td>\n",
       "      <td>2,200</td>\n",
       "    </tr>\n",
       "  </tbody>\n",
       "</table>\n",
       "<p>121 rows × 2 columns</p>\n",
       "</div>"
      ],
      "text/plain": [
       "                메뉴명     가격\n",
       "0        오븐구이 오리도시락  6,900\n",
       "1      열무 감초고추장 비빔밥  4,500\n",
       "2      열무 두부강된장 비빔밥  4,900\n",
       "3       핫 치즈 닭갈비 덮밥  5,900\n",
       "4    오리지널 치즈 닭갈비 덮밥  5,900\n",
       "..              ...    ...\n",
       "116         무말랭이 무침    300\n",
       "117             한솥밥  1,000\n",
       "118             현미밥  1,700\n",
       "119      리얼 티라미수 찰떡  1,500\n",
       "120        리얼꿀 미니호떡  2,200\n",
       "\n",
       "[121 rows x 2 columns]"
      ]
     },
     "execution_count": 3,
     "metadata": {},
     "output_type": "execute_result"
    }
   ],
   "source": [
    "pd.DataFrame(menu)"
   ]
  },
  {
   "cell_type": "code",
   "execution_count": null,
   "id": "0fe2285c",
   "metadata": {},
   "outputs": [],
   "source": []
  },
  {
   "cell_type": "code",
   "execution_count": null,
   "id": "64af3c8b",
   "metadata": {},
   "outputs": [],
   "source": []
  },
  {
   "cell_type": "code",
   "execution_count": null,
   "id": "98b53560",
   "metadata": {},
   "outputs": [],
   "source": []
  },
  {
   "cell_type": "code",
   "execution_count": null,
   "id": "35673fde",
   "metadata": {},
   "outputs": [],
   "source": []
  }
 ],
 "metadata": {
  "kernelspec": {
   "display_name": "Python 3 (ipykernel)",
   "language": "python",
   "name": "python3"
  },
  "language_info": {
   "codemirror_mode": {
    "name": "ipython",
    "version": 3
   },
   "file_extension": ".py",
   "mimetype": "text/x-python",
   "name": "python",
   "nbconvert_exporter": "python",
   "pygments_lexer": "ipython3",
   "version": "3.9.12"
  },
  "toc": {
   "base_numbering": 1,
   "nav_menu": {},
   "number_sections": true,
   "sideBar": true,
   "skip_h1_title": false,
   "title_cell": "Table of Contents",
   "title_sidebar": "Contents",
   "toc_cell": false,
   "toc_position": {},
   "toc_section_display": true,
   "toc_window_display": false
  }
 },
 "nbformat": 4,
 "nbformat_minor": 5
}
