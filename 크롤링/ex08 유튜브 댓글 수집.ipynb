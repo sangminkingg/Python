{
 "cells": [
  {
   "cell_type": "code",
   "execution_count": 1,
   "id": "9a2f511b",
   "metadata": {},
   "outputs": [],
   "source": [
    "from selenium import webdriver as wb\n",
    "from selenium.webdriver.common.keys import Keys\n",
    "from selenium.webdriver.common.by import By\n",
    "import time"
   ]
  },
  {
   "cell_type": "code",
   "execution_count": 2,
   "id": "aff66412",
   "metadata": {},
   "outputs": [],
   "source": [
    "# 1. 브라우저를 실행 > 유튜브채널 사이트로 !\n",
    "driver = wb.Chrome()\n",
    "driver.get(\"https://www.youtube.com/watch?v=WNV0Ki0HOvo&ab_channel=%EC%9A%B0%EC%99%81%EA%B5%B3%EC%9D%98%EA%B2%8C%EC%9E%84%EB%B0%A9%EC%86%A1\")\n"
   ]
  },
  {
   "cell_type": "code",
   "execution_count": 10,
   "id": "718c1f79",
   "metadata": {
    "collapsed": true
   },
   "outputs": [
    {
     "name": "stdout",
     "output_type": "stream",
     "text": [
      "동료를 팔아버린 자신의 행태에 자책하고 있는 모습 ㅠㅠ\n",
      "\n",
      "너무 멋있으십니다 덕수할배,,,,\n",
      "분명 무슨 상품을 소개하는지 모를텐데 은근 설명이 설득력 있고, 제품이랑 연관성 있는게 쥰내 웃김ㅋㅋㅋㅋㅋㅋㅋ\n",
      "진짜 광대아플 정도로 웃었다\n",
      "왜 합방 해달라고 난리치는지 알겠음\n",
      "이때 덕수할아바이 현웃터진거 진짜 배잡고웃음 ㅋㅋㅋ\n",
      "진짜 이날 합방 내내 킬포가 엄청 많아서 계속 웃겼는뎈ㅋㅋㅋㅋㅋㅋ\n",
      "할아버이 왁파고 대면하고 나서 소리내서 웃지 않고 아바타가 소리없이 폭소하는게 더 웃김ㅋㅋㅋㅋㅋㅋㅋㅋㅋ\n",
      "덕수 할아바이 물건 왁파고인거 확인하고 꿀렁거리는거 보고 진짜 올해 들어서 제일 심하게 웃었다ㅋㅋㅋㅋㅋㅋㅋㅋㅋㅋㅋㅋㅋㅋㅋㅋㅋㅋㅋㅋ\n",
      "할아바이 왁파고 보자마자 마이크 끄고 웃는게 킬포 ㅋㅋㅋㅋ 트래커 무빙까지 완벽\n",
      "왁파고 멕일대로 다멕이고 둘이 어색한 몇초 보내고 할아바이 현웃터져서 마이크끄고 배잡고 웃는게 레전드였음ㅋㅋㅋㅋ\n",
      "판매원 할아바이와 500원짜리 문방구 로봇의 감동적인 스토리...!\n",
      "아니 게다가 다들 몬가 오묘하게 이상한쪽으로 설명이 잘맞아서 웃김 ㅋㅋㅋㅋㅋ\n",
      "왁파고때가 제일 웃겼던게 심지어 같은팀일줄도 모르고 준내 까다가 마지막에 500원 말하면서\n",
      "나중에 왁파고인지 알고나니까 현웃터지고 주저 앉는게 레전드였음ㅋㅋㅋㅋㅋㅋㅋㅋㅋㅋ\n",
      "3:49 진짜 배찢어지게 웃었던 개레전드 투샷ㅋㅋㅋㅋㅋㅋㅋ\n",
      "그윽하게 보는 500원이랑 할아바이 웃느라 부들부들 떠는거까지 올해의 퓰리처상걈\n",
      "3:49 자기 팀원을 500원에 팔아버린 덕수 할배,\n",
      "자리에서 뛰쳐나와 레전드 투샷을 만든 500원,\n",
      "컨셉 깨질까봐 마이크 끄고 웃는 것까지... 이번 합방 레전드 장면ㅋㅋㅋㅋㅋㅋ\n",
      "게임이 끝나고 쳐다보던 왁파고의 섭섭함이 표정이 없어도 분명히 보였다\n",
      "할아바이 진짜 상현행동인게 그 짧은 시간에 컨셉 안깨지고 마이크 끄고 웃음 ㅋㅋㅋㅋㅋㅋㅋㅋㅋㅋㅋㅋㅋㅋㅋㅋㅋㅋ\n",
      "아니 이건 진짜 덕수 할배가 웃음 안나오게 하려고 마이크막고 할깍할깍 대는게개웃겨 ㅋㅋㅋ\n",
      "3:50 할아바이 진심 배잡고 웃으실때 ㅋㅋㄱ웃는게 트래커에 다 잡혀서ㅋㅋㅋㅋ너무 웃겼음ㅠㅠㅠ\n",
      "그와중에 마이크 끄고 웃는거 진짜 프로의식\n",
      "할아바이 진짜 소리끄고 웃는 소리가 뭔가 미안하고 절망하는 듯하는 모습으로도 보여서 미안함과 개웃김이 동시에 느껴지는 그 갭때문에 보고있는 내가 더 웃겨짐 ㅋㅋㅋㅋㅋㅋ\n",
      "이번편은 물건이랑 설명이 진짜 매치하는거 같애서 더 웃긴듯 ㅋㅋㅋㅋㅋㅋ\n",
      "진짜 레전드 합방ㅋㅋㅋㅋㅋㅋㅋ 고멤 합방 보면서 이렇게 웃었던 방송은 없었던거 같네요ㅋㅋㅋㅋㅋㅋㅋㅋㅋ\n"
     ]
    }
   ],
   "source": [
    "#2. 댓글정보 수집  # 유튜브는 id가 중복됌 중복된 데이터를 크롤링하려면 여러개를 검사하자\n",
    "review = driver.find_elements(By.ID, \"content-text\")\n",
    "for i in review :\n",
    "    print(i.text)"
   ]
  },
  {
   "cell_type": "code",
   "execution_count": 11,
   "id": "84055785",
   "metadata": {},
   "outputs": [
    {
     "data": {
      "text/plain": [
       "20"
      ]
     },
     "execution_count": 11,
     "metadata": {},
     "output_type": "execute_result"
    }
   ],
   "source": [
    "# 수집한 댓글의 길이 체크\n",
    "len(review)"
   ]
  },
  {
   "cell_type": "markdown",
   "id": "2a48ae48",
   "metadata": {},
   "source": [
    "# 스크롤 내리는 방법\n",
    "- 키보드의 END키를 활용!\n",
    "- 전체 페이지를 움직이기 때문에 body태그를 접근\n",
    "- body태그에게 키보드의 END값을 전달>- body태그에게 키보드의 END값을 전달>\n",
    "- 반복 작업시 while문은 사용급지 > body는 계속 존재 > 무한 루프\n",
    "- for문을 활용해서 많은양의 반복을 통해 진행 추천!"
   ]
  },
  {
   "cell_type": "code",
   "execution_count": 12,
   "id": "6c7d1160",
   "metadata": {
    "collapsed": true
   },
   "outputs": [
    {
     "ename": "KeyboardInterrupt",
     "evalue": "",
     "output_type": "error",
     "traceback": [
      "\u001b[1;31m---------------------------------------------------------------------------\u001b[0m",
      "\u001b[1;31mKeyboardInterrupt\u001b[0m                         Traceback (most recent call last)",
      "Input \u001b[1;32mIn [12]\u001b[0m, in \u001b[0;36m<cell line: 2>\u001b[1;34m()\u001b[0m\n\u001b[0;32m      2\u001b[0m body \u001b[38;5;241m=\u001b[39m driver\u001b[38;5;241m.\u001b[39mfind_element(By\u001b[38;5;241m.\u001b[39mTAG_NAME,\u001b[38;5;124m\"\u001b[39m\u001b[38;5;124mbody\u001b[39m\u001b[38;5;124m\"\u001b[39m)\n\u001b[0;32m      3\u001b[0m body\u001b[38;5;241m.\u001b[39msend_keys(Keys\u001b[38;5;241m.\u001b[39mEND)\n\u001b[1;32m----> 4\u001b[0m \u001b[43mtime\u001b[49m\u001b[38;5;241;43m.\u001b[39;49m\u001b[43msleep\u001b[49m\u001b[43m(\u001b[49m\u001b[38;5;241;43m0.5\u001b[39;49m\u001b[43m)\u001b[49m\n",
      "\u001b[1;31mKeyboardInterrupt\u001b[0m: "
     ]
    }
   ],
   "source": [
    "# while True : 를 사용한다면 body태그가 사라지지 않아 계속 END명령을 내리게됌\n",
    "for i in range(100):\n",
    "    body = driver.find_element(By.TAG_NAME,\"body\")\n",
    "    body.send_keys(Keys.END)\n",
    "    time.sleep(0.5)"
   ]
  },
  {
   "cell_type": "code",
   "execution_count": null,
   "id": "51a2bed4",
   "metadata": {},
   "outputs": [],
   "source": []
  },
  {
   "cell_type": "code",
   "execution_count": null,
   "id": "60602574",
   "metadata": {},
   "outputs": [],
   "source": []
  },
  {
   "cell_type": "code",
   "execution_count": null,
   "id": "3d6aadaa",
   "metadata": {},
   "outputs": [],
   "source": []
  },
  {
   "cell_type": "code",
   "execution_count": null,
   "id": "817aef0f",
   "metadata": {},
   "outputs": [],
   "source": []
  },
  {
   "cell_type": "code",
   "execution_count": null,
   "id": "0010a949",
   "metadata": {},
   "outputs": [],
   "source": []
  },
  {
   "cell_type": "code",
   "execution_count": null,
   "id": "d2b25a01",
   "metadata": {},
   "outputs": [],
   "source": []
  },
  {
   "cell_type": "code",
   "execution_count": null,
   "id": "2c5e5f9a",
   "metadata": {},
   "outputs": [],
   "source": []
  },
  {
   "cell_type": "code",
   "execution_count": null,
   "id": "cc074ae8",
   "metadata": {},
   "outputs": [],
   "source": []
  },
  {
   "cell_type": "code",
   "execution_count": null,
   "id": "d445f552",
   "metadata": {},
   "outputs": [],
   "source": []
  },
  {
   "cell_type": "code",
   "execution_count": null,
   "id": "a0984376",
   "metadata": {},
   "outputs": [],
   "source": []
  },
  {
   "cell_type": "code",
   "execution_count": null,
   "id": "58b7de03",
   "metadata": {},
   "outputs": [],
   "source": []
  },
  {
   "cell_type": "code",
   "execution_count": null,
   "id": "43893ec9",
   "metadata": {},
   "outputs": [],
   "source": []
  },
  {
   "cell_type": "code",
   "execution_count": null,
   "id": "a85ea5ee",
   "metadata": {},
   "outputs": [],
   "source": []
  },
  {
   "cell_type": "code",
   "execution_count": null,
   "id": "c700b048",
   "metadata": {},
   "outputs": [],
   "source": []
  },
  {
   "cell_type": "code",
   "execution_count": null,
   "id": "f0120318",
   "metadata": {},
   "outputs": [],
   "source": []
  },
  {
   "cell_type": "code",
   "execution_count": null,
   "id": "26e631a8",
   "metadata": {},
   "outputs": [],
   "source": []
  },
  {
   "cell_type": "code",
   "execution_count": null,
   "id": "3c69abf6",
   "metadata": {},
   "outputs": [],
   "source": []
  },
  {
   "cell_type": "code",
   "execution_count": null,
   "id": "26440ccf",
   "metadata": {},
   "outputs": [],
   "source": []
  },
  {
   "cell_type": "code",
   "execution_count": null,
   "id": "f8c11a9d",
   "metadata": {},
   "outputs": [],
   "source": []
  }
 ],
 "metadata": {
  "kernelspec": {
   "display_name": "Python 3 (ipykernel)",
   "language": "python",
   "name": "python3"
  },
  "language_info": {
   "codemirror_mode": {
    "name": "ipython",
    "version": 3
   },
   "file_extension": ".py",
   "mimetype": "text/x-python",
   "name": "python",
   "nbconvert_exporter": "python",
   "pygments_lexer": "ipython3",
   "version": "3.9.12"
  },
  "toc": {
   "base_numbering": 1,
   "nav_menu": {},
   "number_sections": true,
   "sideBar": true,
   "skip_h1_title": false,
   "title_cell": "Table of Contents",
   "title_sidebar": "Contents",
   "toc_cell": false,
   "toc_position": {},
   "toc_section_display": true,
   "toc_window_display": false
  }
 },
 "nbformat": 4,
 "nbformat_minor": 5
}
