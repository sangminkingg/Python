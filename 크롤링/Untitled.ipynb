{
 "cells": [
  {
   "cell_type": "code",
   "execution_count": 14,
   "id": "22da6a00",
   "metadata": {},
   "outputs": [],
   "source": [
    "from selenium import webdriver as wb\n",
    "from selenium.webdriver.common.keys import Keys\n",
    "from selenium.webdriver.common.by import By\n",
    "import time\n",
    "import os\n",
    "driver = wb.Chrome()\n",
    "driver.get(\"https://www.google.com/search?q=sansevieria+moonshine+leaf&tbm=isch&ved=2ahUKEwj0sc-Jt975AhWKSfUHHbK-D9EQ2-cCegQIABAA&oq=sansevieria+moonshine+leaf&gs_lcp=CgNpbWcQDFAAWABgAGgAcAB4AIABAIgBAJIBAJgBAKoBC2d3cy13aXotaW1n&sclient=img&ei=5owFY_SmDYqT1e8Psv2-iA0&bih=961&biw=1920&rlz=1C1IBEF_koKR1011KR1011&hl=ko\")"
   ]
  },
  {
   "cell_type": "code",
   "execution_count": null,
   "id": "bda4a366",
   "metadata": {},
   "outputs": [],
   "source": [
    "rg_i Q4LuWd\n",
    ".rg_i.Q4LuWd\n",
    "btn = mye4qd"
   ]
  },
  {
   "cell_type": "code",
   "execution_count": 16,
   "id": "8b511a0a",
   "metadata": {
    "collapsed": true
   },
   "outputs": [
    {
     "data": {
      "text/plain": [
       "'data:image/jpeg;base64,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'"
      ]
     },
     "execution_count": 16,
     "metadata": {},
     "output_type": "execute_result"
    }
   ],
   "source": [
    "img = driver.find_elements(By.CSS_SELECTOR, \".rg_i.Q4LuWd\")\n",
    "img[0].get_attribute(\"src\")"
   ]
  },
  {
   "cell_type": "code",
   "execution_count": 6,
   "id": "44ecf6a2",
   "metadata": {},
   "outputs": [],
   "source": [
    "from urllib.request import urlretrieve"
   ]
  },
  {
   "cell_type": "code",
   "execution_count": 17,
   "id": "804ffd37",
   "metadata": {},
   "outputs": [
    {
     "ename": "TypeError",
     "evalue": "expected string or bytes-like object",
     "output_type": "error",
     "traceback": [
      "\u001b[1;31m---------------------------------------------------------------------------\u001b[0m",
      "\u001b[1;31mTypeError\u001b[0m                                 Traceback (most recent call last)",
      "Input \u001b[1;32mIn [17]\u001b[0m, in \u001b[0;36m<cell line: 5>\u001b[1;34m()\u001b[0m\n\u001b[0;32m      4\u001b[0m cnt \u001b[38;5;241m=\u001b[39m \u001b[38;5;241m0\u001b[39m;\n\u001b[0;32m      5\u001b[0m \u001b[38;5;28;01mfor\u001b[39;00m i \u001b[38;5;129;01min\u001b[39;00m srcList:\n\u001b[1;32m----> 6\u001b[0m     \u001b[43murlretrieve\u001b[49m\u001b[43m(\u001b[49m\u001b[43mi\u001b[49m\u001b[43m,\u001b[49m\u001b[38;5;124;43m\"\u001b[39;49m\u001b[38;5;124;43mC:/Users/AI/Desktop/이미지/\u001b[39;49m\u001b[38;5;124;43m\"\u001b[39;49m\u001b[38;5;241;43m+\u001b[39;49m\u001b[38;5;28;43mstr\u001b[39;49m\u001b[43m(\u001b[49m\u001b[43mcnt\u001b[49m\u001b[43m)\u001b[49m\u001b[38;5;241;43m+\u001b[39;49m\u001b[38;5;124;43m\"\u001b[39;49m\u001b[38;5;124;43m.jpg\u001b[39;49m\u001b[38;5;124;43m\"\u001b[39;49m\u001b[43m)\u001b[49m\n\u001b[0;32m      7\u001b[0m     cnt \u001b[38;5;241m+\u001b[39m\u001b[38;5;241m=\u001b[39m \u001b[38;5;241m1\u001b[39m;\n\u001b[0;32m      8\u001b[0m     time\u001b[38;5;241m.\u001b[39msleep(\u001b[38;5;241m1\u001b[39m)\n",
      "File \u001b[1;32mC:\\ProgramData\\Anaconda3\\lib\\urllib\\request.py:237\u001b[0m, in \u001b[0;36murlretrieve\u001b[1;34m(url, filename, reporthook, data)\u001b[0m\n\u001b[0;32m    221\u001b[0m \u001b[38;5;28;01mdef\u001b[39;00m \u001b[38;5;21murlretrieve\u001b[39m(url, filename\u001b[38;5;241m=\u001b[39m\u001b[38;5;28;01mNone\u001b[39;00m, reporthook\u001b[38;5;241m=\u001b[39m\u001b[38;5;28;01mNone\u001b[39;00m, data\u001b[38;5;241m=\u001b[39m\u001b[38;5;28;01mNone\u001b[39;00m):\n\u001b[0;32m    222\u001b[0m     \u001b[38;5;124;03m\"\"\"\u001b[39;00m\n\u001b[0;32m    223\u001b[0m \u001b[38;5;124;03m    Retrieve a URL into a temporary location on disk.\u001b[39;00m\n\u001b[0;32m    224\u001b[0m \n\u001b[1;32m   (...)\u001b[0m\n\u001b[0;32m    235\u001b[0m \u001b[38;5;124;03m    data file as well as the resulting HTTPMessage object.\u001b[39;00m\n\u001b[0;32m    236\u001b[0m \u001b[38;5;124;03m    \"\"\"\u001b[39;00m\n\u001b[1;32m--> 237\u001b[0m     url_type, path \u001b[38;5;241m=\u001b[39m \u001b[43m_splittype\u001b[49m\u001b[43m(\u001b[49m\u001b[43murl\u001b[49m\u001b[43m)\u001b[49m\n\u001b[0;32m    239\u001b[0m     \u001b[38;5;28;01mwith\u001b[39;00m contextlib\u001b[38;5;241m.\u001b[39mclosing(urlopen(url, data)) \u001b[38;5;28;01mas\u001b[39;00m fp:\n\u001b[0;32m    240\u001b[0m         headers \u001b[38;5;241m=\u001b[39m fp\u001b[38;5;241m.\u001b[39minfo()\n",
      "File \u001b[1;32mC:\\ProgramData\\Anaconda3\\lib\\urllib\\parse.py:1040\u001b[0m, in \u001b[0;36m_splittype\u001b[1;34m(url)\u001b[0m\n\u001b[0;32m   1037\u001b[0m \u001b[38;5;28;01mif\u001b[39;00m _typeprog \u001b[38;5;129;01mis\u001b[39;00m \u001b[38;5;28;01mNone\u001b[39;00m:\n\u001b[0;32m   1038\u001b[0m     _typeprog \u001b[38;5;241m=\u001b[39m re\u001b[38;5;241m.\u001b[39mcompile(\u001b[38;5;124m'\u001b[39m\u001b[38;5;124m([^/:]+):(.*)\u001b[39m\u001b[38;5;124m'\u001b[39m, re\u001b[38;5;241m.\u001b[39mDOTALL)\n\u001b[1;32m-> 1040\u001b[0m match \u001b[38;5;241m=\u001b[39m \u001b[43m_typeprog\u001b[49m\u001b[38;5;241;43m.\u001b[39;49m\u001b[43mmatch\u001b[49m\u001b[43m(\u001b[49m\u001b[43murl\u001b[49m\u001b[43m)\u001b[49m\n\u001b[0;32m   1041\u001b[0m \u001b[38;5;28;01mif\u001b[39;00m match:\n\u001b[0;32m   1042\u001b[0m     scheme, data \u001b[38;5;241m=\u001b[39m match\u001b[38;5;241m.\u001b[39mgroups()\n",
      "\u001b[1;31mTypeError\u001b[0m: expected string or bytes-like object"
     ]
    }
   ],
   "source": [
    "srcList = []\n",
    "for i in img :\n",
    "    srcList.append(i.get_attribute(\"src\"))\n",
    "cnt = 0;\n",
    "for i in srcList:\n",
    "    urlretrieve(i,\"C:/Users/AI/Desktop/이미지/\"+str(cnt)+\".jpg\")\n",
    "    cnt += 1;\n",
    "    time.sleep(1)"
   ]
  },
  {
   "cell_type": "code",
   "execution_count": 13,
   "id": "c5b52c91",
   "metadata": {},
   "outputs": [],
   "source": [
    "srcList = []\n",
    "try :\n",
    "    while True :\n",
    "        for i in img :\n",
    "            srcList.append(i.get_attribute(\"src\"))\n",
    "        cnt = 0;\n",
    "        for i in srcList:\n",
    "            urlretrieve(i,\"C:/Users/AI/Desktop/이미지/\"+str(cnt)+\".jpg\")\n",
    "            cnt += 1;\n",
    "            time.sleep(1)\n",
    "except:\n",
    "    pass"
   ]
  },
  {
   "cell_type": "code",
   "execution_count": null,
   "id": "4d0c1a4e",
   "metadata": {},
   "outputs": [],
   "source": []
  },
  {
   "cell_type": "code",
   "execution_count": null,
   "id": "5f360258",
   "metadata": {},
   "outputs": [],
   "source": []
  },
  {
   "cell_type": "code",
   "execution_count": null,
   "id": "b1ef2c89",
   "metadata": {},
   "outputs": [],
   "source": []
  }
 ],
 "metadata": {
  "kernelspec": {
   "display_name": "Python 3 (ipykernel)",
   "language": "python",
   "name": "python3"
  },
  "language_info": {
   "codemirror_mode": {
    "name": "ipython",
    "version": 3
   },
   "file_extension": ".py",
   "mimetype": "text/x-python",
   "name": "python",
   "nbconvert_exporter": "python",
   "pygments_lexer": "ipython3",
   "version": "3.9.12"
  }
 },
 "nbformat": 4,
 "nbformat_minor": 5
}
