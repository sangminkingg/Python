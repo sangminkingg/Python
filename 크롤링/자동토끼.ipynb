{
 "cells": [
  {
   "cell_type": "markdown",
   "id": "18a0ef7a",
   "metadata": {},
   "source": [
    "앨리스 강의 영상 자동으로 들을 수 있게 코드를 짰어요.\n",
    "필요하신 분 개인DM으로 연락주시면 파일 보내드릴게요.\n",
    "필수 강의 중 영상만 자동으로 듣다보니 강의에 따라 이수조건을 채우려면 추가로 객관식문제나 코드문제를 풀어야할 수도 있어요.\n",
    "7월 말까지 급하게 들어야되서 시간상 절약하려고 코드를 짠것 뿐이고, 너무 남용하진 말고 부족한 부분은 직접 들으시는 게 좋을 것 같아요~\n",
    "파일은 어제 실습했던 크롤링 폴더 안에 넣고 실행시키면 되요.\n",
    "\n",
    "정상적인 방법은 아니다보니 다른 분들께 배포는 하지말아주세요.\n",
    "문제 일으키고 싶지 않아요....\n"
   ]
  },
  {
   "cell_type": "code",
   "execution_count": 37,
   "id": "d11bffee",
   "metadata": {},
   "outputs": [],
   "source": [
    "from selenium import webdriver as wb\n",
    "from selenium.webdriver.common.by import By\n",
    "import requests as req\n",
    "from bs4 import BeautifulSoup as bs\n",
    "import time"
   ]
  },
  {
   "cell_type": "markdown",
   "id": "e171eda5",
   "metadata": {},
   "source": [
    "## chrome 실행"
   ]
  },
  {
   "cell_type": "code",
   "execution_count": 39,
   "id": "9c337e12",
   "metadata": {},
   "outputs": [],
   "source": [
    "url = \"https://accounts.elice.io/accounts/signin/history?continue_to=https%3A%2F%2Fgwangju-ai.elice.io%2F&lang=ko&org=gwangju-ai\"\n",
    "\n",
    "driver = wb.Chrome()\n",
    "driver.get(url)\n",
    "\n",
    "## 로그인 필요."
   ]
  },
  {
   "cell_type": "markdown",
   "id": "2c83c193",
   "metadata": {},
   "source": [
    "## 로그인은 직접 로그인"
   ]
  },
  {
   "cell_type": "code",
   "execution_count": 38,
   "id": "2b865a5a",
   "metadata": {},
   "outputs": [
    {
     "ename": "WebDriverException",
     "evalue": "Message: chrome not reachable\n  (Session info: chrome=103.0.5060.114)\nStacktrace:\nBacktrace:\n\tOrdinal0 [0x00C06463+2188387]\n\tOrdinal0 [0x00B9E461+1762401]\n\tOrdinal0 [0x00AB3C40+801856]\n\tOrdinal0 [0x00AA8932+756018]\n\tOrdinal0 [0x00AA9168+758120]\n\tOrdinal0 [0x00AAAA22+764450]\n\tOrdinal0 [0x00AA4379+738169]\n\tOrdinal0 [0x00AB50D0+807120]\n\tOrdinal0 [0x00B0C402+1164290]\n\tOrdinal0 [0x00AFC5F6+1099254]\n\tOrdinal0 [0x00AD6BE0+945120]\n\tOrdinal0 [0x00AD7AD6+948950]\n\tGetHandleVerifier [0x00EA71F2+2712546]\n\tGetHandleVerifier [0x00E9886D+2652765]\n\tGetHandleVerifier [0x00C9002A+520730]\n\tGetHandleVerifier [0x00C8EE06+516086]\n\tOrdinal0 [0x00BA468B+1787531]\n\tOrdinal0 [0x00BA8E88+1805960]\n\tOrdinal0 [0x00BA8F75+1806197]\n\tOrdinal0 [0x00BB1DF1+1842673]\n\tBaseThreadInitThunk [0x76176739+25]\n\tRtlGetFullPathName_UEx [0x77518FEF+1215]\n\tRtlGetFullPathName_UEx [0x77518FBD+1165]\n",
     "output_type": "error",
     "traceback": [
      "\u001b[1;31m---------------------------------------------------------------------------\u001b[0m",
      "\u001b[1;31mWebDriverException\u001b[0m                        Traceback (most recent call last)",
      "Input \u001b[1;32mIn [38]\u001b[0m, in \u001b[0;36m<cell line: 3>\u001b[1;34m()\u001b[0m\n\u001b[0;32m      1\u001b[0m \u001b[38;5;66;03m# 듣고자 하는 강의 들어가기(아래 target_url입력후 아래 코드를 실행시켜도 되고, 직접 들어가서 아래 코드 생략 가능)\u001b[39;00m\n\u001b[0;32m      2\u001b[0m target_url \u001b[38;5;241m=\u001b[39m \u001b[38;5;124m\"\u001b[39m\u001b[38;5;124mhttps://gwangju-ai.elice.io/courses/23692/lectures/all\u001b[39m\u001b[38;5;124m\"\u001b[39m\n\u001b[1;32m----> 3\u001b[0m \u001b[43mdriver\u001b[49m\u001b[38;5;241;43m.\u001b[39;49m\u001b[43mget\u001b[49m\u001b[43m(\u001b[49m\u001b[43mtarget_url\u001b[49m\u001b[43m)\u001b[49m\n",
      "File \u001b[1;32m~\\Anaconda3\\lib\\site-packages\\selenium\\webdriver\\remote\\webdriver.py:447\u001b[0m, in \u001b[0;36mWebDriver.get\u001b[1;34m(self, url)\u001b[0m\n\u001b[0;32m    443\u001b[0m \u001b[38;5;28;01mdef\u001b[39;00m \u001b[38;5;21mget\u001b[39m(\u001b[38;5;28mself\u001b[39m, url: \u001b[38;5;28mstr\u001b[39m) \u001b[38;5;241m-\u001b[39m\u001b[38;5;241m>\u001b[39m \u001b[38;5;28;01mNone\u001b[39;00m:\n\u001b[0;32m    444\u001b[0m     \u001b[38;5;124;03m\"\"\"\u001b[39;00m\n\u001b[0;32m    445\u001b[0m \u001b[38;5;124;03m    Loads a web page in the current browser session.\u001b[39;00m\n\u001b[0;32m    446\u001b[0m \u001b[38;5;124;03m    \"\"\"\u001b[39;00m\n\u001b[1;32m--> 447\u001b[0m     \u001b[38;5;28;43mself\u001b[39;49m\u001b[38;5;241;43m.\u001b[39;49m\u001b[43mexecute\u001b[49m\u001b[43m(\u001b[49m\u001b[43mCommand\u001b[49m\u001b[38;5;241;43m.\u001b[39;49m\u001b[43mGET\u001b[49m\u001b[43m,\u001b[49m\u001b[43m \u001b[49m\u001b[43m{\u001b[49m\u001b[38;5;124;43m'\u001b[39;49m\u001b[38;5;124;43murl\u001b[39;49m\u001b[38;5;124;43m'\u001b[39;49m\u001b[43m:\u001b[49m\u001b[43m \u001b[49m\u001b[43murl\u001b[49m\u001b[43m}\u001b[49m\u001b[43m)\u001b[49m\n",
      "File \u001b[1;32m~\\Anaconda3\\lib\\site-packages\\selenium\\webdriver\\remote\\webdriver.py:435\u001b[0m, in \u001b[0;36mWebDriver.execute\u001b[1;34m(self, driver_command, params)\u001b[0m\n\u001b[0;32m    433\u001b[0m response \u001b[38;5;241m=\u001b[39m \u001b[38;5;28mself\u001b[39m\u001b[38;5;241m.\u001b[39mcommand_executor\u001b[38;5;241m.\u001b[39mexecute(driver_command, params)\n\u001b[0;32m    434\u001b[0m \u001b[38;5;28;01mif\u001b[39;00m response:\n\u001b[1;32m--> 435\u001b[0m     \u001b[38;5;28;43mself\u001b[39;49m\u001b[38;5;241;43m.\u001b[39;49m\u001b[43merror_handler\u001b[49m\u001b[38;5;241;43m.\u001b[39;49m\u001b[43mcheck_response\u001b[49m\u001b[43m(\u001b[49m\u001b[43mresponse\u001b[49m\u001b[43m)\u001b[49m\n\u001b[0;32m    436\u001b[0m     response[\u001b[38;5;124m'\u001b[39m\u001b[38;5;124mvalue\u001b[39m\u001b[38;5;124m'\u001b[39m] \u001b[38;5;241m=\u001b[39m \u001b[38;5;28mself\u001b[39m\u001b[38;5;241m.\u001b[39m_unwrap_value(\n\u001b[0;32m    437\u001b[0m         response\u001b[38;5;241m.\u001b[39mget(\u001b[38;5;124m'\u001b[39m\u001b[38;5;124mvalue\u001b[39m\u001b[38;5;124m'\u001b[39m, \u001b[38;5;28;01mNone\u001b[39;00m))\n\u001b[0;32m    438\u001b[0m     \u001b[38;5;28;01mreturn\u001b[39;00m response\n",
      "File \u001b[1;32m~\\Anaconda3\\lib\\site-packages\\selenium\\webdriver\\remote\\errorhandler.py:247\u001b[0m, in \u001b[0;36mErrorHandler.check_response\u001b[1;34m(self, response)\u001b[0m\n\u001b[0;32m    245\u001b[0m         alert_text \u001b[38;5;241m=\u001b[39m value[\u001b[38;5;124m'\u001b[39m\u001b[38;5;124malert\u001b[39m\u001b[38;5;124m'\u001b[39m]\u001b[38;5;241m.\u001b[39mget(\u001b[38;5;124m'\u001b[39m\u001b[38;5;124mtext\u001b[39m\u001b[38;5;124m'\u001b[39m)\n\u001b[0;32m    246\u001b[0m     \u001b[38;5;28;01mraise\u001b[39;00m exception_class(message, screen, stacktrace, alert_text)  \u001b[38;5;66;03m# type: ignore[call-arg]  # mypy is not smart enough here\u001b[39;00m\n\u001b[1;32m--> 247\u001b[0m \u001b[38;5;28;01mraise\u001b[39;00m exception_class(message, screen, stacktrace)\n",
      "\u001b[1;31mWebDriverException\u001b[0m: Message: chrome not reachable\n  (Session info: chrome=103.0.5060.114)\nStacktrace:\nBacktrace:\n\tOrdinal0 [0x00C06463+2188387]\n\tOrdinal0 [0x00B9E461+1762401]\n\tOrdinal0 [0x00AB3C40+801856]\n\tOrdinal0 [0x00AA8932+756018]\n\tOrdinal0 [0x00AA9168+758120]\n\tOrdinal0 [0x00AAAA22+764450]\n\tOrdinal0 [0x00AA4379+738169]\n\tOrdinal0 [0x00AB50D0+807120]\n\tOrdinal0 [0x00B0C402+1164290]\n\tOrdinal0 [0x00AFC5F6+1099254]\n\tOrdinal0 [0x00AD6BE0+945120]\n\tOrdinal0 [0x00AD7AD6+948950]\n\tGetHandleVerifier [0x00EA71F2+2712546]\n\tGetHandleVerifier [0x00E9886D+2652765]\n\tGetHandleVerifier [0x00C9002A+520730]\n\tGetHandleVerifier [0x00C8EE06+516086]\n\tOrdinal0 [0x00BA468B+1787531]\n\tOrdinal0 [0x00BA8E88+1805960]\n\tOrdinal0 [0x00BA8F75+1806197]\n\tOrdinal0 [0x00BB1DF1+1842673]\n\tBaseThreadInitThunk [0x76176739+25]\n\tRtlGetFullPathName_UEx [0x77518FEF+1215]\n\tRtlGetFullPathName_UEx [0x77518FBD+1165]\n"
     ]
    }
   ],
   "source": [
    "# 듣고자 하는 강의 들어가기(아래 target_url입력후 아래 코드를 실행시켜도 되고, 직접 들어가서 아래 코드 생략 가능)\n",
    "target_url = \"https://gwangju-ai.elice.io/courses/23692/lectures/all\"\n",
    "driver.get(target_url)"
   ]
  },
  {
   "cell_type": "markdown",
   "id": "8291cba8",
   "metadata": {},
   "source": [
    "## 해당사이트로 이동하여 실행시키는게 더 간편할 듯!!!\n",
    "- url양식 = https://gwangju-ai.elice.io/courses/23692/lectures/all"
   ]
  },
  {
   "cell_type": "markdown",
   "id": "12d1e202",
   "metadata": {},
   "source": [
    "# 들어야할 강의 목록(위 url 양식 참조)으로 이동 후 아래코드 실행!!\n",
    "## 주의사항 \n",
    "- 처음 학습시 [첫 번째 자료부터 학습을 시작해볼까요?]가 뜨는데 첫 번째 강의를 수동으로 들어주어야 아래 코드가 정상 실행됨!!"
   ]
  },
  {
   "cell_type": "code",
   "execution_count": 42,
   "id": "53f867b9",
   "metadata": {},
   "outputs": [
    {
     "name": "stdout",
     "output_type": "stream",
     "text": [
      "--01 퍼셉트론 시작!!--\n",
      "[이론1] 딥러닝 개론 완료!! 1/10\n",
      "[이론2] 퍼셉트론(Perceptron) 완료!! 2/10\n",
      "[이론3] 퍼셉트론 선형 분류기 완료!! 3/10\n",
      "[이론4] 비 선형적인 문제 완료!! 4/10\n",
      "[이론5] 다층 퍼셉트론 완료!! 5/10\n",
      "--01 퍼셉트론 종료!!--\n",
      "--02 텐서플로우와 딥러닝 학습 방법 시작!!--\n",
      "[이론1] 딥러닝 모델의 학습 방법 완료!! 1/8\n",
      "[이론2] 텐서플로우(TensorFlow) 완료!! 2/8\n",
      "[이론3] 텐서플로우 기초 사용법 완료!! 3/8\n",
      "[이론4] 텐서플로우로 딥러닝 모델 구현하기 완료!! 4/8\n",
      "--02 텐서플로우와 딥러닝 학습 방법 종료!!--\n",
      "--03 딥러닝 학습의 문제점 시작!!--\n",
      "[이론1] 딥러닝 모델 학습의 문제점 완료!! 1/10\n",
      "[이론2] 학습 속도 문제와 최적화 알고리즘 완료!! 2/10\n",
      "[이론3] 기울기 소실 문제와 방지 기법 완료!! 3/10\n",
      "[이론4] 초기값 설정 문제와 방지 기법 완료!! 4/10\n",
      "[이론5] 과적합 문제와 방지 기법 완료!! 5/10\n",
      "--03 딥러닝 학습의 문제점 종료!!--\n",
      "--04 다양한 분야의 딥러닝 시작!!--\n",
      "[이론1] 다양한 분야의 딥러닝 완료!! 1/12\n",
      "[이론2] 이미지 처리를 위한 딥러닝 완료!! 2/12\n",
      "[이론3] 합성곱 신경망(CNN) 완료!! 3/12\n",
      "[이론4] 자연어 처리를 위한 딥러닝 완료!! 4/12\n",
      "[이론5] 워드 임베딩(Word Embedding) 완료!! 5/12\n",
      "[이론6] 순환 신경망(RNN) 완료!! 6/12\n",
      "--04 다양한 분야의 딥러닝 종료!!--\n",
      "----끝----\n"
     ]
    }
   ],
   "source": [
    "# 해당 사이트의 url 리스트 추가\n",
    "select_url = driver.find_elements(By.CLASS_NAME, \"eb-course-lecture-card__pointer\")\n",
    "url_list=[]\n",
    "for url in select_url:\n",
    "    url_list.append(url.get_attribute(\"href\"))\n",
    "\n",
    "# chapter 이동\n",
    "for url in url_list:\n",
    "    driver.get(url)\n",
    "    time.sleep(5)\n",
    "    header = driver.find_elements(By.CLASS_NAME,\"eb-course-lecture-header__title\")\n",
    "    header = header[0].text\n",
    "    print (f\"--{header} 시작!!--\")\n",
    "    \n",
    "    ## 초기 길이 설정\n",
    "    grade_e = driver.find_elements(By.CLASS_NAME, \"eb-course-lecture-page\")\n",
    "    video_e = driver.find_elements(By.CLASS_NAME, \"eb-course-lecture-page__title-icon\")\n",
    "    total_len = len(grade_e)\n",
    "    \n",
    "    ## total 학습 \n",
    "    total = (driver.find_element(By.CLASS_NAME, \"eb-text--role-primary\")).text\n",
    "    total = total.split(\"/\")[1]\n",
    "    cnt = 0\n",
    "    \n",
    "    ## 동영상 반복 실행\n",
    "    for i in range(total_len):\n",
    "        grade = driver.find_elements(By.CLASS_NAME, \"eb-course-lecture-page\")\n",
    "        video = driver.find_elements(By.CLASS_NAME, \"eb-course-lecture-page__title-icon\")\n",
    "        title = driver.find_elements(By.CLASS_NAME,\"eb-course-lecture-page__title\")\n",
    "        try:\n",
    "            grade[i].find_element(By.CLASS_NAME, \"eb-badge--role-dark\").text\n",
    "        except:\n",
    "            try:\n",
    "                if video[i].find_element(By.CLASS_NAME, \"icon-video\") is not None:\n",
    "                    title = title[i].text\n",
    "                    video[i].click()\n",
    "                    \n",
    "                    # time.sleep(강의 시청 시간 조절!!!!!!!)\n",
    "                    time.sleep(40)\n",
    "                    \n",
    "                    driver.back()\n",
    "                    cnt +=1\n",
    "                    print (f\"{title} 완료!! {cnt}/{total}\")\n",
    "                    time.sleep(5)\n",
    "            except:\n",
    "                pass \n",
    "            \n",
    "            \n",
    "    print (f\"--{header} 종료!!--\")\n",
    "    ## chapter 끝나고 뒤로가기 하지 않고, 바로 다음 chapter로 바로 이동!!\n",
    "\n",
    "print (\"----끝----\")"
   ]
  },
  {
   "cell_type": "code",
   "execution_count": null,
   "id": "d33e0761",
   "metadata": {},
   "outputs": [],
   "source": []
  },
  {
   "cell_type": "code",
   "execution_count": null,
   "id": "1b08a6a9",
   "metadata": {},
   "outputs": [],
   "source": []
  },
  {
   "cell_type": "code",
   "execution_count": null,
   "id": "f2385b33",
   "metadata": {},
   "outputs": [],
   "source": []
  },
  {
   "cell_type": "code",
   "execution_count": null,
   "id": "ee0e4283",
   "metadata": {},
   "outputs": [],
   "source": []
  },
  {
   "cell_type": "code",
   "execution_count": null,
   "id": "92597aa4",
   "metadata": {},
   "outputs": [],
   "source": []
  },
  {
   "cell_type": "code",
   "execution_count": null,
   "id": "48521a4c",
   "metadata": {},
   "outputs": [],
   "source": []
  }
 ],
 "metadata": {
  "kernelspec": {
   "display_name": "Python 3 (ipykernel)",
   "language": "python",
   "name": "python3"
  },
  "language_info": {
   "codemirror_mode": {
    "name": "ipython",
    "version": 3
   },
   "file_extension": ".py",
   "mimetype": "text/x-python",
   "name": "python",
   "nbconvert_exporter": "python",
   "pygments_lexer": "ipython3",
   "version": "3.9.12"
  },
  "toc": {
   "base_numbering": 1,
   "nav_menu": {},
   "number_sections": true,
   "sideBar": true,
   "skip_h1_title": false,
   "title_cell": "Table of Contents",
   "title_sidebar": "Contents",
   "toc_cell": false,
   "toc_position": {},
   "toc_section_display": true,
   "toc_window_display": false
  }
 },
 "nbformat": 4,
 "nbformat_minor": 5
}
