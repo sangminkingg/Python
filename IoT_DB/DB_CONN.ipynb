{
 "cells": [
  {
   "cell_type": "code",
   "execution_count": null,
   "id": "a41f6ec4",
   "metadata": {},
   "outputs": [],
   "source": [
    "ip_list = {'192.168.70.128':'김상민', '192.168.70.21':'박진우'}"
   ]
  },
  {
   "cell_type": "code",
   "execution_count": null,
   "id": "d110055a",
   "metadata": {},
   "outputs": [],
   "source": [
    "from flask import Flask, request\n",
    "\n",
    "# app : Sever실행, 경로를 잡아주는 객체\n",
    "app =Flask(__name__)\n",
    "\n",
    "@app.route('/')\n",
    "def index():\n",
    "    ip = request.remote_addr\n",
    "    if ip == '192.168.70.21':\n",
    "        return '방가방가햄토리'\n",
    "    else:\n",
    "        return '<h1>Hello World<h1>'\n",
    "\n",
    "if __name__ == '__main__':\n",
    "    app.run(host='192.168.70.128', port=5099)"
   ]
  },
  {
   "cell_type": "code",
   "execution_count": 6,
   "id": "4d6ea738",
   "metadata": {},
   "outputs": [
    {
     "name": "stdout",
     "output_type": "stream",
     "text": [
      " * Serving Flask app \"__main__\" (lazy loading)\n",
      " * Environment: production\n",
      "\u001b[31m   WARNING: This is a development server. Do not use it in a production deployment.\u001b[0m\n",
      "\u001b[2m   Use a production WSGI server instead.\u001b[0m\n",
      " * Debug mode: off\n"
     ]
    },
    {
     "name": "stderr",
     "output_type": "stream",
     "text": [
      " * Running on http://192.168.70.128:5035/ (Press CTRL+C to quit)\n",
      "192.168.70.128 - - [22/Sep/2022 12:21:46] \"GET /sel_emp HTTP/1.1\" 200 -\n"
     ]
    }
   ],
   "source": [
    "from flask import Flask, redirect\n",
    "\n",
    "app = Flask(__name__)\n",
    "\n",
    "@app.route('/')\n",
    "def index():\n",
    "    url='http://sangmin.dothome.co.kr/'\n",
    "    return redirect(url)\n",
    "\n",
    "@app.route('/sel_emp')\n",
    "def se_emp():\n",
    "    dao = DAO()\n",
    "    r = dao.select()\n",
    "    \n",
    "    result = '</br>'.join(map(str, r))\n",
    "    \n",
    "    return result\n",
    "    \n",
    "    \n",
    "if __name__ == '__main__':\n",
    "    app.run(host='192.168.70.128', port=5035)"
   ]
  },
  {
   "cell_type": "code",
   "execution_count": null,
   "id": "3e345224",
   "metadata": {},
   "outputs": [],
   "source": [
    "import os\n",
    "LOCATION = r\"C:/Users/AI/instantclient_21_6\"\n",
    "os.environ[\"PATH\"] = LOCATION + \";\" + os.environ[\"PATH\"]"
   ]
  },
  {
   "cell_type": "markdown",
   "id": "d5ae8067",
   "metadata": {},
   "source": [
    "# Instant client \n"
   ]
  },
  {
   "cell_type": "code",
   "execution_count": null,
   "id": "f5732b9c",
   "metadata": {},
   "outputs": [],
   "source": [
    "!pip install cx_Oracle"
   ]
  },
  {
   "cell_type": "code",
   "execution_count": null,
   "id": "c6a8c269",
   "metadata": {},
   "outputs": [],
   "source": [
    "!pip install --upgrade --force-reinstall cx_Oracle"
   ]
  },
  {
   "cell_type": "code",
   "execution_count": 5,
   "id": "d7e839cd",
   "metadata": {},
   "outputs": [],
   "source": [
    "import cx_Oracle"
   ]
  },
  {
   "cell_type": "markdown",
   "id": "229dd653",
   "metadata": {},
   "source": [
    "# DB 연결\n",
    "- 1) Connection\n",
    "- 2) Cursor\n",
    "- 3) Execute\n",
    "- 4) Close"
   ]
  },
  {
   "cell_type": "code",
   "execution_count": null,
   "id": "d586cd99",
   "metadata": {},
   "outputs": [],
   "source": [
    "# connection\n",
    "\n",
    "db_id = 'hr'\n",
    "db_pw = 'hr'\n",
    "db_url ='127.0.01:1521/xe'\n",
    "conn = cx_Oracle.connect(db_id, db_pw, db_url)\n",
    "\n",
    "# 2.Cursor\n",
    "curs = conn.cursor()\n",
    "\n",
    "# 3. Execute\n",
    "sql = 'select last_name, salary from employees'\n",
    "result = curs.execute(sql)\n",
    "result.fetchall()\n",
    "\n",
    "# 4. Close\n",
    "# 연결통로들 닫을 때는, 열었던 역순으로 닫는다.\n",
    "if curs != None:\n",
    "    curs.close()\n",
    "if conn != None:\n",
    "    conn.close()"
   ]
  },
  {
   "cell_type": "code",
   "execution_count": null,
   "id": "ed38ecfe",
   "metadata": {},
   "outputs": [],
   "source": [
    "class DAO:\n",
    "    "
   ]
  },
  {
   "cell_type": "code",
   "execution_count": null,
   "id": "bef83537",
   "metadata": {},
   "outputs": [],
   "source": [
    "# Python  점수를 저장하려고 함\n",
    "score = 100\n",
    "# score의 타입은???\n",
    "type(score)\n",
    "# 이름을 저장하려고 함\n",
    "name ='나예호'\n",
    "\n",
    "type(name)\n",
    "\n",
    "# 나예호와 Python점수를 동시에 저장\n",
    "# class를 사용한다"
   ]
  },
  {
   "cell_type": "code",
   "execution_count": null,
   "id": "0c71e854",
   "metadata": {},
   "outputs": [],
   "source": [
    "# VO(Value Object)\n",
    "# 사용자 정의 데이터 타입\n",
    "\n",
    "# Design Pattern\n",
    "# 코드를 작성\n",
    "# Refactoring\n",
    "\n",
    "# 가장 보편적, 가장 많이 사용된 Design Pattern\n",
    "# MVC : Model, View, Constroller"
   ]
  },
  {
   "cell_type": "code",
   "execution_count": null,
   "id": "bdeff309",
   "metadata": {},
   "outputs": [],
   "source": [
    "class Scores:\n",
    "    \n",
    "    name=''\n",
    "    score=0\n",
    "    \n",
    "    def print_info(self):\n",
    "        print('이름 : {}/ 점수 : {}'.format(self.name, self.score))"
   ]
  },
  {
   "cell_type": "code",
   "execution_count": null,
   "id": "3f83a5b5",
   "metadata": {},
   "outputs": [],
   "source": [
    "s1 = Scores()\n",
    "s1.name = '나예호'\n",
    "s1.score = 100\n",
    "\n",
    "print(s1.name, s1.score)"
   ]
  },
  {
   "cell_type": "code",
   "execution_count": 14,
   "id": "c601a577",
   "metadata": {},
   "outputs": [],
   "source": [
    "import cx_Oracle\n",
    "import pandas as pd\n",
    "class DAO:\n",
    "    def select(self):\n",
    "        db_id = 'hr'\n",
    "        db_pw = 'hr'\n",
    "        db_url = '127.0.01:1521/xe'\n",
    "        conn = cx_Oracle.connect(db_id, db_pw, db_url)\n",
    "        \n",
    "        curs = conn.cursor()\n",
    "        \n",
    "        sql='select last_name, salary from employees'\n",
    "        result=  curs.execute(sql)\n",
    "        r = result.fetchall()\n",
    "\n",
    "        if curs != None:\n",
    "            curs.close()\n",
    "        if conn != None:\n",
    "            conn.close()\n",
    "        return r\n",
    "    \n",
    "    def select_df(self):\n",
    "        conn, curs = self.conn_db()\n",
    "        \n",
    "        sql = \"select * from member\"\n",
    "        df = pd.read_sql(sql, conn)\n",
    "        conn.close\n",
    "        return df\n",
    "    \n",
    "    def conn_db(self):\n",
    "        db_id = 'hr'\n",
    "        db_pw = 'hr'\n",
    "        db_url = '127.0.01:1521/xe'\n",
    "        conn = cx_Oracle.connect(db_id, db_pw, db_url)\n",
    "        \n",
    "        curs = conn.cursor()\n",
    "        return conn, curs\n",
    "    \n",
    "    def insert(self, join_id, join_pw, join_name):\n",
    "        conn, curs = conn_db()\n",
    "        \n",
    "        sql= '''insert into member(memid, id, pw, name)\n",
    "                values (mem_memid_seq.nextval, :1, :2, :3)'''\n",
    "        curs.execute(sql, (join_id, join_pw, join_name))\n",
    "        \n",
    "        conn.commit()\n",
    "        \n",
    "        if curs != None:\n",
    "            curs.close()\n",
    "        if conn != None:\n",
    "            conn.close()\n",
    "        \n",
    "        \n",
    "    def login(self, login_id, login_pw):\n",
    "        conn, curs = self.conn_db()\n",
    "        \n",
    "        sql = '''select count(*) from member where id =:1 and pw=:2 '''\n",
    "        result = curs.execute(sql, (login_id, login_pw))\n",
    "        cnt = result.fetchall()[0]\n",
    "        \n",
    "        if curs != None:\n",
    "            curs.close()\n",
    "        if conn != None:\n",
    "            conn.close()\n",
    "            \n",
    "        return cnt[0]\n",
    "    \n",
    "    def check(self, login_id):\n",
    "        conn, curs = self.conn_db()\n",
    "        \n",
    "        sql = '''select count(*) from member where id =:1'''\n",
    "        #login_id가 리스트값으로 전달되어서 []안에 넣어줌 or (login_id,)\n",
    "        result = curs.execute(sql, [login_id]) \n",
    "        cnt = result.fetchone() \n",
    "        \n",
    "        if curs != None:\n",
    "            curs.close()\n",
    "        if conn != None:\n",
    "            conn.close()\n",
    "            \n",
    "        return cnt[0]"
   ]
  },
  {
   "cell_type": "code",
   "execution_count": 15,
   "id": "ce1212fa",
   "metadata": {},
   "outputs": [
    {
     "data": {
      "text/plain": [
       "0"
      ]
     },
     "execution_count": 15,
     "metadata": {},
     "output_type": "execute_result"
    }
   ],
   "source": [
    "dao = DAO()\n",
    "dao.check('suzy')"
   ]
  },
  {
   "cell_type": "code",
   "execution_count": 1,
   "id": "99bfe73b",
   "metadata": {},
   "outputs": [
    {
     "name": "stdout",
     "output_type": "stream",
     "text": [
      " * Serving Flask app \"__main__\" (lazy loading)\n",
      " * Environment: production\n",
      "\u001b[31m   WARNING: This is a development server. Do not use it in a production deployment.\u001b[0m\n",
      "\u001b[2m   Use a production WSGI server instead.\u001b[0m\n",
      " * Debug mode: off\n"
     ]
    },
    {
     "name": "stderr",
     "output_type": "stream",
     "text": [
      " * Running on http://192.168.70.145:5066/ (Press CTRL+C to quit)\n",
      "[2022-09-26 10:44:13,977] ERROR in app: Exception on /join [POST]\n",
      "Traceback (most recent call last):\n",
      "  File \"C:\\ProgramData\\Anaconda3\\lib\\site-packages\\flask\\app.py\", line 2447, in wsgi_app\n",
      "    response = self.full_dispatch_request()\n",
      "  File \"C:\\ProgramData\\Anaconda3\\lib\\site-packages\\flask\\app.py\", line 1952, in full_dispatch_request\n",
      "    rv = self.handle_user_exception(e)\n",
      "  File \"C:\\ProgramData\\Anaconda3\\lib\\site-packages\\flask\\app.py\", line 1821, in handle_user_exception\n",
      "    reraise(exc_type, exc_value, tb)\n",
      "  File \"C:\\ProgramData\\Anaconda3\\lib\\site-packages\\flask\\_compat.py\", line 39, in reraise\n",
      "    raise value\n",
      "  File \"C:\\ProgramData\\Anaconda3\\lib\\site-packages\\flask\\app.py\", line 1950, in full_dispatch_request\n",
      "    rv = self.dispatch_request()\n",
      "  File \"C:\\ProgramData\\Anaconda3\\lib\\site-packages\\flask\\app.py\", line 1936, in dispatch_request\n",
      "    return self.view_functions[rule.endpoint](**req.view_args)\n",
      "  File \"C:\\Users\\AI\\AppData\\Local\\Temp\\ipykernel_31720\\562813637.py\", line 16, in join\n",
      "    dao = DAO()\n",
      "NameError: name 'DAO' is not defined\n",
      "192.168.70.145 - - [26/Sep/2022 10:44:13] \"POST /join HTTP/1.1\" 500 -\n"
     ]
    },
    {
     "name": "stdout",
     "output_type": "stream",
     "text": [
      "suzy 12344 배수지\n"
     ]
    },
    {
     "name": "stderr",
     "output_type": "stream",
     "text": [
      "[2022-09-26 10:44:18,148] ERROR in app: Exception on /join [POST]\n",
      "Traceback (most recent call last):\n",
      "  File \"C:\\ProgramData\\Anaconda3\\lib\\site-packages\\flask\\app.py\", line 2447, in wsgi_app\n",
      "    response = self.full_dispatch_request()\n",
      "  File \"C:\\ProgramData\\Anaconda3\\lib\\site-packages\\flask\\app.py\", line 1952, in full_dispatch_request\n",
      "    rv = self.handle_user_exception(e)\n",
      "  File \"C:\\ProgramData\\Anaconda3\\lib\\site-packages\\flask\\app.py\", line 1821, in handle_user_exception\n",
      "    reraise(exc_type, exc_value, tb)\n",
      "  File \"C:\\ProgramData\\Anaconda3\\lib\\site-packages\\flask\\_compat.py\", line 39, in reraise\n",
      "    raise value\n",
      "  File \"C:\\ProgramData\\Anaconda3\\lib\\site-packages\\flask\\app.py\", line 1950, in full_dispatch_request\n",
      "    rv = self.dispatch_request()\n",
      "  File \"C:\\ProgramData\\Anaconda3\\lib\\site-packages\\flask\\app.py\", line 1936, in dispatch_request\n",
      "    return self.view_functions[rule.endpoint](**req.view_args)\n",
      "  File \"C:\\Users\\AI\\AppData\\Local\\Temp\\ipykernel_31720\\562813637.py\", line 16, in join\n",
      "    dao = DAO()\n",
      "NameError: name 'DAO' is not defined\n",
      "192.168.70.145 - - [26/Sep/2022 10:44:18] \"POST /join HTTP/1.1\" 500 -\n"
     ]
    },
    {
     "name": "stdout",
     "output_type": "stream",
     "text": [
      "suzy 12344 배수지\n"
     ]
    },
    {
     "name": "stderr",
     "output_type": "stream",
     "text": [
      "[2022-09-26 10:44:24,684] ERROR in app: Exception on /join [POST]\n",
      "Traceback (most recent call last):\n",
      "  File \"C:\\ProgramData\\Anaconda3\\lib\\site-packages\\flask\\app.py\", line 2447, in wsgi_app\n",
      "    response = self.full_dispatch_request()\n",
      "  File \"C:\\ProgramData\\Anaconda3\\lib\\site-packages\\flask\\app.py\", line 1952, in full_dispatch_request\n",
      "    rv = self.handle_user_exception(e)\n",
      "  File \"C:\\ProgramData\\Anaconda3\\lib\\site-packages\\flask\\app.py\", line 1821, in handle_user_exception\n",
      "    reraise(exc_type, exc_value, tb)\n",
      "  File \"C:\\ProgramData\\Anaconda3\\lib\\site-packages\\flask\\_compat.py\", line 39, in reraise\n",
      "    raise value\n",
      "  File \"C:\\ProgramData\\Anaconda3\\lib\\site-packages\\flask\\app.py\", line 1950, in full_dispatch_request\n",
      "    rv = self.dispatch_request()\n",
      "  File \"C:\\ProgramData\\Anaconda3\\lib\\site-packages\\flask\\app.py\", line 1936, in dispatch_request\n",
      "    return self.view_functions[rule.endpoint](**req.view_args)\n",
      "  File \"C:\\Users\\AI\\AppData\\Local\\Temp\\ipykernel_31720\\562813637.py\", line 16, in join\n",
      "    dao = DAO()\n",
      "NameError: name 'DAO' is not defined\n",
      "192.168.70.145 - - [26/Sep/2022 10:44:24] \"POST /join HTTP/1.1\" 500 -\n"
     ]
    },
    {
     "name": "stdout",
     "output_type": "stream",
     "text": [
      "suzy 12344 배수지\n"
     ]
    },
    {
     "name": "stderr",
     "output_type": "stream",
     "text": [
      "[2022-09-26 10:46:29,793] ERROR in app: Exception on /join [POST]\n",
      "Traceback (most recent call last):\n",
      "  File \"C:\\ProgramData\\Anaconda3\\lib\\site-packages\\flask\\app.py\", line 2447, in wsgi_app\n",
      "    response = self.full_dispatch_request()\n",
      "  File \"C:\\ProgramData\\Anaconda3\\lib\\site-packages\\flask\\app.py\", line 1952, in full_dispatch_request\n",
      "    rv = self.handle_user_exception(e)\n",
      "  File \"C:\\ProgramData\\Anaconda3\\lib\\site-packages\\flask\\app.py\", line 1821, in handle_user_exception\n",
      "    reraise(exc_type, exc_value, tb)\n",
      "  File \"C:\\ProgramData\\Anaconda3\\lib\\site-packages\\flask\\_compat.py\", line 39, in reraise\n",
      "    raise value\n",
      "  File \"C:\\ProgramData\\Anaconda3\\lib\\site-packages\\flask\\app.py\", line 1950, in full_dispatch_request\n",
      "    rv = self.dispatch_request()\n",
      "  File \"C:\\ProgramData\\Anaconda3\\lib\\site-packages\\flask\\app.py\", line 1936, in dispatch_request\n",
      "    return self.view_functions[rule.endpoint](**req.view_args)\n",
      "  File \"C:\\Users\\AI\\AppData\\Local\\Temp\\ipykernel_31720\\562813637.py\", line 16, in join\n",
      "    dao = DAO()\n",
      "NameError: name 'DAO' is not defined\n",
      "192.168.70.145 - - [26/Sep/2022 10:46:29] \"POST /join HTTP/1.1\" 500 -\n"
     ]
    },
    {
     "name": "stdout",
     "output_type": "stream",
     "text": [
      "suzy 12344 수지\n"
     ]
    }
   ],
   "source": [
    "from flask import Flask, request, redirect\n",
    "\n",
    "app = Flask(__name__)\n",
    "@app.route('/')\n",
    "def index():\n",
    "    return '<h1>Hello World</h1>'\n",
    "\n",
    "@app.route('/join', methods=['POST'])\n",
    "def join():\n",
    "    \n",
    "    if request.method=='POST':\n",
    "        join_id = request.form['join_id']\n",
    "        join_pw = request.form['join_pw']\n",
    "        join_name = request.form['join_name']\n",
    "        print(join_id, join_pw, join_name)\n",
    "        dao = DAO()\n",
    "        try:\n",
    "            dao.insert(join_id, join_pw, join_name)\n",
    "            return redirect('/')\n",
    "        except:\n",
    "            return redirect('http://192.168.70.145:5500/index.html')\n",
    "        \n",
    "@app.route('/check', method=['POST'])\n",
    "def check_id():\n",
    "    if request.method=='POST':\n",
    "        join_id = request.form['join_id']\n",
    "        \n",
    "        dao = DAO()\n",
    "        cnt = dao.check(join_id)\n",
    "        return cnt\n",
    "\n",
    "@app.route('/login', methods=['GET', 'POST'])\n",
    "def login_db():\n",
    "    if request.method == 'POST':\n",
    "        login_id = request.form['login_id']\n",
    "        login_pw = request.form['login_pw']\n",
    "        \n",
    "    \n",
    "        print(login_id, login_pw)\n",
    "        \n",
    "        dao = DAO()\n",
    "        cnt= dao.login(login_id, login_pw)\n",
    "        \n",
    "        if cnt == 1:\n",
    "            url_success = 'http://sangmin.dothome.co.kr/success.html'\n",
    "            return redirect(url_success)\n",
    "        else:\n",
    "            url_fail = 'http://sangmin.dothome.co.kr/fail.html'\n",
    "            return redirect(url_fail)\n",
    "        \n",
    "        \n",
    "    return '로그인 페이지입니다.'\n",
    "\n",
    "if __name__ == '__main__':\n",
    "    app.run(host='192.168.70.145', port=5066)\n",
    "    "
   ]
  },
  {
   "cell_type": "code",
   "execution_count": 2,
   "id": "bc7d0ea4",
   "metadata": {},
   "outputs": [
    {
     "name": "stderr",
     "output_type": "stream",
     "text": [
      "C:\\ProgramData\\Anaconda3\\lib\\site-packages\\pandas\\io\\sql.py:761: UserWarning: pandas only support SQLAlchemy connectable(engine/connection) ordatabase string URI or sqlite3 DBAPI2 connectionother DBAPI2 objects are not tested, please consider using SQLAlchemy\n",
      "  warnings.warn(\n"
     ]
    },
    {
     "data": {
      "text/html": [
       "<div>\n",
       "<style scoped>\n",
       "    .dataframe tbody tr th:only-of-type {\n",
       "        vertical-align: middle;\n",
       "    }\n",
       "\n",
       "    .dataframe tbody tr th {\n",
       "        vertical-align: top;\n",
       "    }\n",
       "\n",
       "    .dataframe thead th {\n",
       "        text-align: right;\n",
       "    }\n",
       "</style>\n",
       "<table border=\"1\" class=\"dataframe\">\n",
       "  <thead>\n",
       "    <tr style=\"text-align: right;\">\n",
       "      <th></th>\n",
       "      <th>MEMID</th>\n",
       "      <th>ID</th>\n",
       "      <th>PW</th>\n",
       "      <th>NAME</th>\n",
       "      <th>MONEY</th>\n",
       "    </tr>\n",
       "  </thead>\n",
       "  <tbody>\n",
       "    <tr>\n",
       "      <th>0</th>\n",
       "      <td>131</td>\n",
       "      <td>you</td>\n",
       "      <td>0814</td>\n",
       "      <td>yjs</td>\n",
       "      <td>10000</td>\n",
       "    </tr>\n",
       "    <tr>\n",
       "      <th>1</th>\n",
       "      <td>124</td>\n",
       "      <td>ksm2</td>\n",
       "      <td>1234</td>\n",
       "      <td>sangmin2</td>\n",
       "      <td>10000</td>\n",
       "    </tr>\n",
       "    <tr>\n",
       "      <th>2</th>\n",
       "      <td>122</td>\n",
       "      <td>ksm</td>\n",
       "      <td>1234</td>\n",
       "      <td>sangmin</td>\n",
       "      <td>10000</td>\n",
       "    </tr>\n",
       "    <tr>\n",
       "      <th>3</th>\n",
       "      <td>127</td>\n",
       "      <td>ksm3</td>\n",
       "      <td>12345</td>\n",
       "      <td>sangmin3</td>\n",
       "      <td>10000</td>\n",
       "    </tr>\n",
       "    <tr>\n",
       "      <th>4</th>\n",
       "      <td>128</td>\n",
       "      <td>ksm4</td>\n",
       "      <td>12346</td>\n",
       "      <td>sangmin4</td>\n",
       "      <td>10000</td>\n",
       "    </tr>\n",
       "    <tr>\n",
       "      <th>5</th>\n",
       "      <td>129</td>\n",
       "      <td>ksm5</td>\n",
       "      <td>123467</td>\n",
       "      <td>sangmin5</td>\n",
       "      <td>10000</td>\n",
       "    </tr>\n",
       "    <tr>\n",
       "      <th>6</th>\n",
       "      <td>130</td>\n",
       "      <td>karina</td>\n",
       "      <td>123467</td>\n",
       "      <td>sangmin6</td>\n",
       "      <td>10000</td>\n",
       "    </tr>\n",
       "  </tbody>\n",
       "</table>\n",
       "</div>"
      ],
      "text/plain": [
       "   MEMID      ID      PW      NAME  MONEY\n",
       "0    131     you    0814       yjs  10000\n",
       "1    124    ksm2    1234  sangmin2  10000\n",
       "2    122     ksm    1234   sangmin  10000\n",
       "3    127    ksm3   12345  sangmin3  10000\n",
       "4    128    ksm4   12346  sangmin4  10000\n",
       "5    129    ksm5  123467  sangmin5  10000\n",
       "6    130  karina  123467  sangmin6  10000"
      ]
     },
     "execution_count": 2,
     "metadata": {},
     "output_type": "execute_result"
    }
   ],
   "source": [
    "dao = DAO()\n",
    "#dao.insert('you','0814', 'yjs')\n",
    "dao.select_df()"
   ]
  },
  {
   "cell_type": "code",
   "execution_count": 28,
   "id": "076c9e00",
   "metadata": {},
   "outputs": [
    {
     "name": "stderr",
     "output_type": "stream",
     "text": [
      "C:\\ProgramData\\Anaconda3\\lib\\site-packages\\pandas\\io\\sql.py:761: UserWarning: pandas only support SQLAlchemy connectable(engine/connection) ordatabase string URI or sqlite3 DBAPI2 connectionother DBAPI2 objects are not tested, please consider using SQLAlchemy\n",
      "  warnings.warn(\n"
     ]
    },
    {
     "data": {
      "text/html": [
       "<div>\n",
       "<style scoped>\n",
       "    .dataframe tbody tr th:only-of-type {\n",
       "        vertical-align: middle;\n",
       "    }\n",
       "\n",
       "    .dataframe tbody tr th {\n",
       "        vertical-align: top;\n",
       "    }\n",
       "\n",
       "    .dataframe thead th {\n",
       "        text-align: right;\n",
       "    }\n",
       "</style>\n",
       "<table border=\"1\" class=\"dataframe\">\n",
       "  <thead>\n",
       "    <tr style=\"text-align: right;\">\n",
       "      <th></th>\n",
       "      <th>MEMID</th>\n",
       "      <th>ID</th>\n",
       "      <th>PW</th>\n",
       "      <th>NAME</th>\n",
       "      <th>MONEY</th>\n",
       "    </tr>\n",
       "  </thead>\n",
       "  <tbody>\n",
       "    <tr>\n",
       "      <th>0</th>\n",
       "      <td>124</td>\n",
       "      <td>ksm2</td>\n",
       "      <td>1234</td>\n",
       "      <td>sangmin2</td>\n",
       "      <td>10000</td>\n",
       "    </tr>\n",
       "    <tr>\n",
       "      <th>1</th>\n",
       "      <td>122</td>\n",
       "      <td>ksm</td>\n",
       "      <td>1234</td>\n",
       "      <td>sangmin</td>\n",
       "      <td>10000</td>\n",
       "    </tr>\n",
       "    <tr>\n",
       "      <th>2</th>\n",
       "      <td>127</td>\n",
       "      <td>ksm3</td>\n",
       "      <td>12345</td>\n",
       "      <td>sangmin3</td>\n",
       "      <td>10000</td>\n",
       "    </tr>\n",
       "    <tr>\n",
       "      <th>3</th>\n",
       "      <td>128</td>\n",
       "      <td>ksm4</td>\n",
       "      <td>12346</td>\n",
       "      <td>sangmin4</td>\n",
       "      <td>10000</td>\n",
       "    </tr>\n",
       "    <tr>\n",
       "      <th>4</th>\n",
       "      <td>129</td>\n",
       "      <td>ksm5</td>\n",
       "      <td>123467</td>\n",
       "      <td>sangmin5</td>\n",
       "      <td>10000</td>\n",
       "    </tr>\n",
       "    <tr>\n",
       "      <th>5</th>\n",
       "      <td>130</td>\n",
       "      <td>karina</td>\n",
       "      <td>123467</td>\n",
       "      <td>sangmin6</td>\n",
       "      <td>10000</td>\n",
       "    </tr>\n",
       "  </tbody>\n",
       "</table>\n",
       "</div>"
      ],
      "text/plain": [
       "   MEMID      ID      PW      NAME  MONEY\n",
       "0    124    ksm2    1234  sangmin2  10000\n",
       "1    122     ksm    1234   sangmin  10000\n",
       "2    127    ksm3   12345  sangmin3  10000\n",
       "3    128    ksm4   12346  sangmin4  10000\n",
       "4    129    ksm5  123467  sangmin5  10000\n",
       "5    130  karina  123467  sangmin6  10000"
      ]
     },
     "execution_count": 28,
     "metadata": {},
     "output_type": "execute_result"
    }
   ],
   "source": [
    "dao = DAO()\n",
    "dao.select_df()"
   ]
  },
  {
   "cell_type": "code",
   "execution_count": null,
   "id": "492f9e02",
   "metadata": {},
   "outputs": [],
   "source": [
    "dao = DAO()\n",
    "r = dao.select()\n",
    "# for name, salary in r:\n",
    "#     print('name : {} / salary : {}'.format(name, salary))"
   ]
  },
  {
   "cell_type": "code",
   "execution_count": null,
   "id": "7b6f60b9",
   "metadata": {},
   "outputs": [],
   "source": []
  },
  {
   "cell_type": "code",
   "execution_count": null,
   "id": "4a03b782",
   "metadata": {},
   "outputs": [],
   "source": []
  },
  {
   "cell_type": "code",
   "execution_count": null,
   "id": "7a937a83",
   "metadata": {},
   "outputs": [],
   "source": []
  }
 ],
 "metadata": {
  "kernelspec": {
   "display_name": "Python 3 (ipykernel)",
   "language": "python",
   "name": "python3"
  },
  "language_info": {
   "codemirror_mode": {
    "name": "ipython",
    "version": 3
   },
   "file_extension": ".py",
   "mimetype": "text/x-python",
   "name": "python",
   "nbconvert_exporter": "python",
   "pygments_lexer": "ipython3",
   "version": "3.9.12"
  }
 },
 "nbformat": 4,
 "nbformat_minor": 5
}
