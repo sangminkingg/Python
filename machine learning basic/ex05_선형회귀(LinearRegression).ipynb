{
 "cells": [
  {
   "cell_type": "markdown",
   "id": "b353ebff",
   "metadata": {},
   "source": [
    "# 선형회귀 데이터 로딩(보스턴 주택가격 데이터)"
   ]
  },
  {
   "cell_type": "code",
   "execution_count": 1,
   "id": "f6e92f29",
   "metadata": {},
   "outputs": [],
   "source": [
    "from sklearn.datasets import load_boston\n",
    "import numpy as np\n",
    "import pandas as pd\n",
    "import matplotlib.pyplot as plt"
   ]
  },
  {
   "cell_type": "code",
   "execution_count": 2,
   "id": "f38911a7",
   "metadata": {},
   "outputs": [
    {
     "name": "stderr",
     "output_type": "stream",
     "text": [
      "C:\\ProgramData\\Anaconda3\\lib\\site-packages\\sklearn\\utils\\deprecation.py:87: FutureWarning: Function load_boston is deprecated; `load_boston` is deprecated in 1.0 and will be removed in 1.2.\n",
      "\n",
      "    The Boston housing prices dataset has an ethical problem. You can refer to\n",
      "    the documentation of this function for further details.\n",
      "\n",
      "    The scikit-learn maintainers therefore strongly discourage the use of this\n",
      "    dataset unless the purpose of the code is to study and educate about\n",
      "    ethical issues in data science and machine learning.\n",
      "\n",
      "    In this special case, you can fetch the dataset from the original\n",
      "    source::\n",
      "\n",
      "        import pandas as pd\n",
      "        import numpy as np\n",
      "\n",
      "        data_url = \"http://lib.stat.cmu.edu/datasets/boston\"\n",
      "        raw_df = pd.read_csv(data_url, sep=\"\\s+\", skiprows=22, header=None)\n",
      "        data = np.hstack([raw_df.values[::2, :], raw_df.values[1::2, :2]])\n",
      "        target = raw_df.values[1::2, 2]\n",
      "\n",
      "    Alternative datasets include the California housing dataset (i.e.\n",
      "    :func:`~sklearn.datasets.fetch_california_housing`) and the Ames housing\n",
      "    dataset. You can load the datasets as follows::\n",
      "\n",
      "        from sklearn.datasets import fetch_california_housing\n",
      "        housing = fetch_california_housing()\n",
      "\n",
      "    for the California housing dataset and::\n",
      "\n",
      "        from sklearn.datasets import fetch_openml\n",
      "        housing = fetch_openml(name=\"house_prices\", as_frame=True)\n",
      "\n",
      "    for the Ames housing dataset.\n",
      "  warnings.warn(msg, category=FutureWarning)\n"
     ]
    }
   ],
   "source": [
    "data = load_boston()"
   ]
  },
  {
   "cell_type": "code",
   "execution_count": 3,
   "id": "04905673",
   "metadata": {},
   "outputs": [
    {
     "data": {
      "text/plain": [
       "dict_keys(['data', 'target', 'feature_names', 'DESCR', 'filename', 'data_module'])"
      ]
     },
     "execution_count": 3,
     "metadata": {},
     "output_type": "execute_result"
    }
   ],
   "source": [
    "data.keys()"
   ]
  },
  {
   "cell_type": "code",
   "execution_count": 4,
   "id": "3c9b1d41",
   "metadata": {},
   "outputs": [],
   "source": [
    "X = data.data\n",
    "y = data.target"
   ]
  },
  {
   "cell_type": "code",
   "execution_count": 5,
   "id": "f6e86f99",
   "metadata": {},
   "outputs": [],
   "source": [
    "from sklearn.model_selection import train_test_split"
   ]
  },
  {
   "cell_type": "code",
   "execution_count": 6,
   "id": "b3f44fec",
   "metadata": {},
   "outputs": [],
   "source": [
    "X_train,X_test,y_train,y_test = train_test_split(X,y,test_size=0.2,\n",
    "                                                random_state=722)"
   ]
  },
  {
   "cell_type": "code",
   "execution_count": 7,
   "id": "e954f537",
   "metadata": {},
   "outputs": [
    {
     "data": {
      "text/plain": [
       "((404, 13), (404,))"
      ]
     },
     "execution_count": 7,
     "metadata": {},
     "output_type": "execute_result"
    }
   ],
   "source": [
    "X_train.shape, y_train.shape"
   ]
  },
  {
   "cell_type": "code",
   "execution_count": 8,
   "id": "99110652",
   "metadata": {},
   "outputs": [
    {
     "data": {
      "text/plain": [
       "((102, 13), (102,))"
      ]
     },
     "execution_count": 8,
     "metadata": {},
     "output_type": "execute_result"
    }
   ],
   "source": [
    "X_test.shape, y_test.shape"
   ]
  },
  {
   "cell_type": "code",
   "execution_count": 9,
   "id": "ecc191c0",
   "metadata": {},
   "outputs": [],
   "source": [
    "# 선형회귀모델\n",
    "from sklearn.linear_model import LinearRegression"
   ]
  },
  {
   "cell_type": "code",
   "execution_count": 10,
   "id": "cc91e8ec",
   "metadata": {},
   "outputs": [
    {
     "data": {
      "text/html": [
       "<style>#sk-container-id-1 {color: black;background-color: white;}#sk-container-id-1 pre{padding: 0;}#sk-container-id-1 div.sk-toggleable {background-color: white;}#sk-container-id-1 label.sk-toggleable__label {cursor: pointer;display: block;width: 100%;margin-bottom: 0;padding: 0.3em;box-sizing: border-box;text-align: center;}#sk-container-id-1 label.sk-toggleable__label-arrow:before {content: \"▸\";float: left;margin-right: 0.25em;color: #696969;}#sk-container-id-1 label.sk-toggleable__label-arrow:hover:before {color: black;}#sk-container-id-1 div.sk-estimator:hover label.sk-toggleable__label-arrow:before {color: black;}#sk-container-id-1 div.sk-toggleable__content {max-height: 0;max-width: 0;overflow: hidden;text-align: left;background-color: #f0f8ff;}#sk-container-id-1 div.sk-toggleable__content pre {margin: 0.2em;color: black;border-radius: 0.25em;background-color: #f0f8ff;}#sk-container-id-1 input.sk-toggleable__control:checked~div.sk-toggleable__content {max-height: 200px;max-width: 100%;overflow: auto;}#sk-container-id-1 input.sk-toggleable__control:checked~label.sk-toggleable__label-arrow:before {content: \"▾\";}#sk-container-id-1 div.sk-estimator input.sk-toggleable__control:checked~label.sk-toggleable__label {background-color: #d4ebff;}#sk-container-id-1 div.sk-label input.sk-toggleable__control:checked~label.sk-toggleable__label {background-color: #d4ebff;}#sk-container-id-1 input.sk-hidden--visually {border: 0;clip: rect(1px 1px 1px 1px);clip: rect(1px, 1px, 1px, 1px);height: 1px;margin: -1px;overflow: hidden;padding: 0;position: absolute;width: 1px;}#sk-container-id-1 div.sk-estimator {font-family: monospace;background-color: #f0f8ff;border: 1px dotted black;border-radius: 0.25em;box-sizing: border-box;margin-bottom: 0.5em;}#sk-container-id-1 div.sk-estimator:hover {background-color: #d4ebff;}#sk-container-id-1 div.sk-parallel-item::after {content: \"\";width: 100%;border-bottom: 1px solid gray;flex-grow: 1;}#sk-container-id-1 div.sk-label:hover label.sk-toggleable__label {background-color: #d4ebff;}#sk-container-id-1 div.sk-serial::before {content: \"\";position: absolute;border-left: 1px solid gray;box-sizing: border-box;top: 0;bottom: 0;left: 50%;z-index: 0;}#sk-container-id-1 div.sk-serial {display: flex;flex-direction: column;align-items: center;background-color: white;padding-right: 0.2em;padding-left: 0.2em;position: relative;}#sk-container-id-1 div.sk-item {position: relative;z-index: 1;}#sk-container-id-1 div.sk-parallel {display: flex;align-items: stretch;justify-content: center;background-color: white;position: relative;}#sk-container-id-1 div.sk-item::before, #sk-container-id-1 div.sk-parallel-item::before {content: \"\";position: absolute;border-left: 1px solid gray;box-sizing: border-box;top: 0;bottom: 0;left: 50%;z-index: -1;}#sk-container-id-1 div.sk-parallel-item {display: flex;flex-direction: column;z-index: 1;position: relative;background-color: white;}#sk-container-id-1 div.sk-parallel-item:first-child::after {align-self: flex-end;width: 50%;}#sk-container-id-1 div.sk-parallel-item:last-child::after {align-self: flex-start;width: 50%;}#sk-container-id-1 div.sk-parallel-item:only-child::after {width: 0;}#sk-container-id-1 div.sk-dashed-wrapped {border: 1px dashed gray;margin: 0 0.4em 0.5em 0.4em;box-sizing: border-box;padding-bottom: 0.4em;background-color: white;}#sk-container-id-1 div.sk-label label {font-family: monospace;font-weight: bold;display: inline-block;line-height: 1.2em;}#sk-container-id-1 div.sk-label-container {text-align: center;}#sk-container-id-1 div.sk-container {/* jupyter's `normalize.less` sets `[hidden] { display: none; }` but bootstrap.min.css set `[hidden] { display: none !important; }` so we also need the `!important` here to be able to override the default hidden behavior on the sphinx rendered scikit-learn.org. See: https://github.com/scikit-learn/scikit-learn/issues/21755 */display: inline-block !important;position: relative;}#sk-container-id-1 div.sk-text-repr-fallback {display: none;}</style><div id=\"sk-container-id-1\" class=\"sk-top-container\"><div class=\"sk-text-repr-fallback\"><pre>LinearRegression()</pre><b>In a Jupyter environment, please rerun this cell to show the HTML representation or trust the notebook. <br />On GitHub, the HTML representation is unable to render, please try loading this page with nbviewer.org.</b></div><div class=\"sk-container\" hidden><div class=\"sk-item\"><div class=\"sk-estimator sk-toggleable\"><input class=\"sk-toggleable__control sk-hidden--visually\" id=\"sk-estimator-id-1\" type=\"checkbox\" checked><label for=\"sk-estimator-id-1\" class=\"sk-toggleable__label sk-toggleable__label-arrow\">LinearRegression</label><div class=\"sk-toggleable__content\"><pre>LinearRegression()</pre></div></div></div></div></div>"
      ],
      "text/plain": [
       "LinearRegression()"
      ]
     },
     "execution_count": 10,
     "metadata": {},
     "output_type": "execute_result"
    }
   ],
   "source": [
    "model = LinearRegression()\n",
    "model.fit(X_train,y_train)"
   ]
  },
  {
   "cell_type": "code",
   "execution_count": 11,
   "id": "6ae7566c",
   "metadata": {},
   "outputs": [
    {
     "name": "stdout",
     "output_type": "stream",
     "text": [
      "가중치 :  [-1.18313515e-01  5.20521053e-02  1.76355388e-02  4.11554414e+00\n",
      " -2.01952839e+01  2.93408084e+00  1.01479948e-02 -1.56497280e+00\n",
      "  3.16556945e-01 -1.25687293e-02 -1.01868234e+00  6.75071633e-03\n",
      " -5.73138231e-01]\n",
      "절편 :  45.72482696295275\n"
     ]
    }
   ],
   "source": [
    "# 학습된 가중치와 절편 확인\n",
    "print(\"가중치 : \", model.coef_)\n",
    "print(\"절편 : \", model.intercept_)"
   ]
  },
  {
   "cell_type": "code",
   "execution_count": 12,
   "id": "7c2e7d9b",
   "metadata": {},
   "outputs": [
    {
     "data": {
      "text/plain": [
       "0.7454536557439619"
      ]
     },
     "execution_count": 12,
     "metadata": {},
     "output_type": "execute_result"
    }
   ],
   "source": [
    "# 모델평가\n",
    "model.score(X_test,y_test) # R square 점수"
   ]
  },
  {
   "cell_type": "code",
   "execution_count": 13,
   "id": "3dc75ca2",
   "metadata": {},
   "outputs": [],
   "source": [
    "# 다른 평가지표 사용\n",
    "from sklearn.metrics import mean_absolute_error # MAE\n",
    "from sklearn.metrics import mean_squared_error  # MSE"
   ]
  },
  {
   "cell_type": "code",
   "execution_count": 14,
   "id": "00a7802c",
   "metadata": {},
   "outputs": [
    {
     "name": "stdout",
     "output_type": "stream",
     "text": [
      "MAE :  3.028568457448007\n",
      "MSE :  17.925235768942024\n"
     ]
    }
   ],
   "source": [
    "pre = model.predict(X_test)   #예측값 생성\n",
    "print(\"MAE : \", mean_absolute_error(y_test,pre))\n",
    "print(\"MSE : \", mean_squared_error(y_test,pre))"
   ]
  },
  {
   "cell_type": "markdown",
   "id": "f1783bee",
   "metadata": {},
   "source": [
    "### 선형모델의 학습 원리\n",
    "1. 선형모델은 최적의 가중치(w)와 절편(b)를 선택하기 위해 MSE(평균제곱오차)를 이용해 각 가설의 적합성을 판단한다.\n",
    "2. 최적의 가중치(w)와 절편(b)를 만들기 위해서 2가지 방식을 활용한다.\n",
    "   - 해석적 방법(Ordinary Least Squares) -> LinearRegression 클래스로 구현됨\n",
    "   - 경사하강법(Gradient Descent Algorithm) -> SGDRegressir 클래스로 구현됨\n",
    "     - 초기 가중치로부터 기울기 값을 조금씩 수정해서 찾아가는 방식\n",
    "     - 기울기가 낮아지는 방향으로 계속 업데이트하는 공식"
   ]
  },
  {
   "cell_type": "markdown",
   "id": "1a6de5d4",
   "metadata": {},
   "source": [
    "#### 가중치변화에 따른 MSE변화 그래프를 그려보자"
   ]
  },
  {
   "cell_type": "code",
   "execution_count": 15,
   "id": "7470f8a7",
   "metadata": {},
   "outputs": [],
   "source": [
    "# 성젝데이터 생성\n",
    "data = pd.DataFrame([[2,20],[4,40],[8,80],[9,90]],\n",
    "                   index=['해도','예호','형','병관'],\n",
    "                   columns=['공부시간', '성적점수'])"
   ]
  },
  {
   "cell_type": "code",
   "execution_count": 16,
   "id": "06f0c77b",
   "metadata": {},
   "outputs": [
    {
     "data": {
      "text/html": [
       "<div>\n",
       "<style scoped>\n",
       "    .dataframe tbody tr th:only-of-type {\n",
       "        vertical-align: middle;\n",
       "    }\n",
       "\n",
       "    .dataframe tbody tr th {\n",
       "        vertical-align: top;\n",
       "    }\n",
       "\n",
       "    .dataframe thead th {\n",
       "        text-align: right;\n",
       "    }\n",
       "</style>\n",
       "<table border=\"1\" class=\"dataframe\">\n",
       "  <thead>\n",
       "    <tr style=\"text-align: right;\">\n",
       "      <th></th>\n",
       "      <th>공부시간</th>\n",
       "      <th>성적점수</th>\n",
       "    </tr>\n",
       "  </thead>\n",
       "  <tbody>\n",
       "    <tr>\n",
       "      <th>해도</th>\n",
       "      <td>2</td>\n",
       "      <td>20</td>\n",
       "    </tr>\n",
       "    <tr>\n",
       "      <th>예호</th>\n",
       "      <td>4</td>\n",
       "      <td>40</td>\n",
       "    </tr>\n",
       "    <tr>\n",
       "      <th>형</th>\n",
       "      <td>8</td>\n",
       "      <td>80</td>\n",
       "    </tr>\n",
       "    <tr>\n",
       "      <th>병관</th>\n",
       "      <td>9</td>\n",
       "      <td>90</td>\n",
       "    </tr>\n",
       "  </tbody>\n",
       "</table>\n",
       "</div>"
      ],
      "text/plain": [
       "    공부시간  성적점수\n",
       "해도     2    20\n",
       "예호     4    40\n",
       "형      8    80\n",
       "병관     9    90"
      ]
     },
     "execution_count": 16,
     "metadata": {},
     "output_type": "execute_result"
    }
   ],
   "source": [
    "data"
   ]
  },
  {
   "cell_type": "markdown",
   "id": "4c88e1b5",
   "metadata": {},
   "source": [
    "##### MSE함수 생성"
   ]
  },
  {
   "cell_type": "code",
   "execution_count": 17,
   "id": "4df8d3a4",
   "metadata": {},
   "outputs": [],
   "source": [
    "# 문제, 정답,가중치를 매개변수로 받는다.\n",
    "def MSE(X,y,w):\n",
    "    # 예측값 생성\n",
    "    y_pre = w*X + 0\n",
    "    #실제값과 예측값의 차이의 제곱 평균\n",
    "    error = y - y_pre # 오차\n",
    "    return(error ** 2).mean() # 평균 제곱오차"
   ]
  },
  {
   "cell_type": "code",
   "execution_count": 18,
   "id": "e86e1762",
   "metadata": {},
   "outputs": [
    {
     "data": {
      "text/plain": [
       "0.0"
      ]
     },
     "execution_count": 18,
     "metadata": {},
     "output_type": "execute_result"
    }
   ],
   "source": [
    "MSE(data['공부시간'], data['성적점수'], 10) # 결과값이 0이 나와야헌다."
   ]
  },
  {
   "cell_type": "markdown",
   "id": "4d235639",
   "metadata": {},
   "source": [
    "#### 그래프 그리기"
   ]
  },
  {
   "cell_type": "code",
   "execution_count": 19,
   "id": "e1bc0e54",
   "metadata": {},
   "outputs": [
    {
     "data": {
      "text/plain": [
       "array([ 0.        ,  0.40816327,  0.81632653,  1.2244898 ,  1.63265306,\n",
       "        2.04081633,  2.44897959,  2.85714286,  3.26530612,  3.67346939,\n",
       "        4.08163265,  4.48979592,  4.89795918,  5.30612245,  5.71428571,\n",
       "        6.12244898,  6.53061224,  6.93877551,  7.34693878,  7.75510204,\n",
       "        8.16326531,  8.57142857,  8.97959184,  9.3877551 ,  9.79591837,\n",
       "       10.20408163, 10.6122449 , 11.02040816, 11.42857143, 11.83673469,\n",
       "       12.24489796, 12.65306122, 13.06122449, 13.46938776, 13.87755102,\n",
       "       14.28571429, 14.69387755, 15.10204082, 15.51020408, 15.91836735,\n",
       "       16.32653061, 16.73469388, 17.14285714, 17.55102041, 17.95918367,\n",
       "       18.36734694, 18.7755102 , 19.18367347, 19.59183673, 20.        ])"
      ]
     },
     "execution_count": 19,
     "metadata": {},
     "output_type": "execute_result"
    }
   ],
   "source": [
    "# 변화하는 가중치(w) 생성\n",
    "weights = np.linspace(0,20)\n",
    "weights"
   ]
  },
  {
   "cell_type": "code",
   "execution_count": 20,
   "id": "c5f95064",
   "metadata": {},
   "outputs": [
    {
     "data": {
      "text/plain": [
       "[4125.0,\n",
       " 3795.1374427321953,\n",
       " 3479.019158683882,\n",
       " 3176.6451478550603,\n",
       " 2888.015410245731,\n",
       " 2613.1299458558933,\n",
       " 2351.9887546855475,\n",
       " 2104.5918367346935,\n",
       " 1870.939192003332,\n",
       " 1651.0308204914622,\n",
       " 1444.8667221990836,\n",
       " 1252.4468971261972,\n",
       " 1073.771345272803,\n",
       " 908.8400666389006,\n",
       " 757.6530612244896,\n",
       " 620.2103290295709,\n",
       " 496.5118700541441,\n",
       " 386.5576842982092,\n",
       " 290.3477717617659,\n",
       " 207.88213244481454,\n",
       " 139.1607663473552,\n",
       " 84.1836734693878,\n",
       " 42.950853810912015,\n",
       " 15.46230737192834,\n",
       " 1.718034152436478,\n",
       " 1.718034152436478,\n",
       " 15.46230737192834,\n",
       " 42.95085381091215,\n",
       " 84.1836734693878,\n",
       " 139.1607663473552,\n",
       " 207.88213244481489,\n",
       " 290.347771761766,\n",
       " 386.5576842982092,\n",
       " 496.5118700541442,\n",
       " 620.2103290295709,\n",
       " 757.6530612244901,\n",
       " 908.8400666389006,\n",
       " 1073.7713452728026,\n",
       " 1252.4468971261979,\n",
       " 1444.8667221990838,\n",
       " 1651.0308204914627,\n",
       " 1870.939192003332,\n",
       " 2104.5918367346935,\n",
       " 2351.988754685547,\n",
       " 2613.129945855895,\n",
       " 2888.015410245732,\n",
       " 3176.6451478550607,\n",
       " 3479.019158683883,\n",
       " 3795.1374427321957,\n",
       " 4125.0]"
      ]
     },
     "execution_count": 20,
     "metadata": {},
     "output_type": "execute_result"
    }
   ],
   "source": [
    "mse_list = []\n",
    "for w in weights:\n",
    "    mse_list.append(MSE(data['공부시간'], data['성적점수'], w))\n",
    "    \n",
    "mse_list"
   ]
  },
  {
   "cell_type": "code",
   "execution_count": 21,
   "id": "0ca7525c",
   "metadata": {},
   "outputs": [
    {
     "data": {
      "text/plain": [
       "<function matplotlib.pyplot.show(close=None, block=None)>"
      ]
     },
     "execution_count": 21,
     "metadata": {},
     "output_type": "execute_result"
    },
    {
     "data": {
      "image/png": "[encoded data removed]",
      "text/plain": [
       "<Figure size 720x360 with 1 Axes>"
      ]
     },
     "metadata": {
      "needs_background": "light"
     },
     "output_type": "display_data"
    }
   ],
   "source": [
    "plt.figure(figsize=(10,5))\n",
    "plt.plot( mse_list, marker='*')\n",
    "plt.ylabel(\"MSE\")\n",
    "plt.xlabel(\"W\")\n",
    "plt.show"
   ]
  },
  {
   "cell_type": "markdown",
   "id": "7306a41e",
   "metadata": {},
   "source": [
    "### 경사하강법으로 구현된 SGDRegressor를 사용해보자"
   ]
  },
  {
   "cell_type": "code",
   "execution_count": 22,
   "id": "a33c360d",
   "metadata": {},
   "outputs": [],
   "source": [
    "from sklearn.linear_model import SGDRegressor"
   ]
  },
  {
   "cell_type": "code",
   "execution_count": 23,
   "id": "e85d1a8a",
   "metadata": {},
   "outputs": [],
   "source": [
    "sgd_model = SGDRegressor(eta0=0.001, # 학습률\n",
    "                        max_iter=5000, # 반복횟수(가중치 업데이트 횟수)\n",
    "                        epsilon=0.001, # 최소 오차 기준값\n",
    "                        n_iter_no_change=15, # 업데이트시 오차가 변경되지 않는걸 허용하는 횟수\n",
    "                        verbose=1) "
   ]
  },
  {
   "cell_type": "code",
   "execution_count": 24,
   "id": "c0647e30",
   "metadata": {},
   "outputs": [
    {
     "name": "stdout",
     "output_type": "stream",
     "text": [
      "-- Epoch 1\n",
      "Norm: 1.19, NNZs: 1, Bias: 0.172587, T: 4, Avg. loss: 1902.064818\n",
      "Total training time: 0.00 seconds.\n",
      "-- Epoch 2\n",
      "Norm: 2.04, NNZs: 1, Bias: 0.293865, T: 8, Avg. loss: 1496.003802\n",
      "Total training time: 0.00 seconds.\n",
      "-- Epoch 3\n",
      "Norm: 2.73, NNZs: 1, Bias: 0.391502, T: 12, Avg. loss: 1222.558443\n",
      "Total training time: 0.00 seconds.\n",
      "-- Epoch 4\n",
      "Norm: 3.32, NNZs: 1, Bias: 0.473857, T: 16, Avg. loss: 1018.584795\n",
      "Total training time: 0.00 seconds.\n",
      "-- Epoch 5\n",
      "Norm: 3.83, NNZs: 1, Bias: 0.545088, T: 20, Avg. loss: 859.401225\n",
      "Total training time: 0.00 seconds.\n",
      "-- Epoch 6\n",
      "Norm: 4.28, NNZs: 1, Bias: 0.607697, T: 24, Avg. loss: 731.789642\n",
      "Total training time: 0.00 seconds.\n",
      "-- Epoch 7\n",
      "Norm: 4.67, NNZs: 1, Bias: 0.663352, T: 28, Avg. loss: 627.600367\n",
      "Total training time: 0.00 seconds.\n",
      "-- Epoch 8\n",
      "Norm: 5.03, NNZs: 1, Bias: 0.713248, T: 32, Avg. loss: 541.380743\n",
      "Total training time: 0.00 seconds.\n",
      "-- Epoch 9\n",
      "Norm: 5.35, NNZs: 1, Bias: 0.758277, T: 36, Avg. loss: 469.281461\n",
      "Total training time: 0.00 seconds.\n",
      "-- Epoch 10\n",
      "Norm: 5.65, NNZs: 1, Bias: 0.799132, T: 40, Avg. loss: 408.479777\n",
      "Total training time: 0.00 seconds.\n",
      "-- Epoch 11\n",
      "Norm: 5.91, NNZs: 1, Bias: 0.836366, T: 44, Avg. loss: 356.846108\n",
      "Total training time: 0.00 seconds.\n",
      "-- Epoch 12\n",
      "Norm: 6.16, NNZs: 1, Bias: 0.870426, T: 48, Avg. loss: 312.738003\n",
      "Total training time: 0.00 seconds.\n",
      "-- Epoch 13\n",
      "Norm: 6.38, NNZs: 1, Bias: 0.901684, T: 52, Avg. loss: 274.866173\n",
      "Total training time: 0.00 seconds.\n",
      "-- Epoch 14\n",
      "Norm: 6.59, NNZs: 1, Bias: 0.930449, T: 56, Avg. loss: 242.203822\n",
      "Total training time: 0.00 seconds.\n",
      "-- Epoch 15\n",
      "Norm: 6.78, NNZs: 1, Bias: 0.956987, T: 60, Avg. loss: 213.923275\n",
      "Total training time: 0.00 seconds.\n",
      "-- Epoch 16\n",
      "Norm: 6.96, NNZs: 1, Bias: 0.981523, T: 64, Avg. loss: 189.350493\n",
      "Total training time: 0.00 seconds.\n",
      "-- Epoch 17\n",
      "Norm: 7.12, NNZs: 1, Bias: 1.004253, T: 68, Avg. loss: 167.931690\n",
      "Total training time: 0.00 seconds.\n",
      "-- Epoch 18\n",
      "Norm: 7.28, NNZs: 1, Bias: 1.025346, T: 72, Avg. loss: 149.208377\n",
      "Total training time: 0.00 seconds.\n",
      "-- Epoch 19\n",
      "Norm: 7.42, NNZs: 1, Bias: 1.044952, T: 76, Avg. loss: 132.798384\n",
      "Total training time: 0.00 seconds.\n",
      "-- Epoch 20\n",
      "Norm: 7.55, NNZs: 1, Bias: 1.063202, T: 80, Avg. loss: 118.381249\n",
      "Total training time: 0.00 seconds.\n",
      "-- Epoch 21\n",
      "Norm: 7.68, NNZs: 1, Bias: 1.080213, T: 84, Avg. loss: 105.686807\n",
      "Total training time: 0.00 seconds.\n",
      "-- Epoch 22\n",
      "Norm: 7.79, NNZs: 1, Bias: 1.096087, T: 88, Avg. loss: 94.486193\n",
      "Total training time: 0.00 seconds.\n",
      "-- Epoch 23\n",
      "Norm: 7.90, NNZs: 1, Bias: 1.110918, T: 92, Avg. loss: 84.584682\n",
      "Total training time: 0.00 seconds.\n",
      "-- Epoch 24\n",
      "Norm: 8.00, NNZs: 1, Bias: 1.124789, T: 96, Avg. loss: 75.815935\n",
      "Total training time: 0.00 seconds.\n",
      "-- Epoch 25\n",
      "Norm: 8.09, NNZs: 1, Bias: 1.137774, T: 100, Avg. loss: 68.037341\n",
      "Total training time: 0.00 seconds.\n",
      "-- Epoch 26\n",
      "Norm: 8.18, NNZs: 1, Bias: 1.149941, T: 104, Avg. loss: 61.126225\n",
      "Total training time: 0.00 seconds.\n",
      "-- Epoch 27\n",
      "Norm: 8.27, NNZs: 1, Bias: 1.161351, T: 108, Avg. loss: 54.976729\n",
      "Total training time: 0.00 seconds.\n",
      "-- Epoch 28\n",
      "Norm: 8.35, NNZs: 1, Bias: 1.172059, T: 112, Avg. loss: 49.497250\n",
      "Total training time: 0.00 seconds.\n",
      "-- Epoch 29\n",
      "Norm: 8.42, NNZs: 1, Bias: 1.182117, T: 116, Avg. loss: 44.608305\n",
      "Total training time: 0.00 seconds.\n",
      "-- Epoch 30\n",
      "Norm: 8.49, NNZs: 1, Bias: 1.191569, T: 120, Avg. loss: 40.240756\n",
      "Total training time: 0.00 seconds.\n",
      "-- Epoch 31\n",
      "Norm: 8.56, NNZs: 1, Bias: 1.200459, T: 124, Avg. loss: 36.334326\n",
      "Total training time: 0.00 seconds.\n",
      "-- Epoch 32\n",
      "Norm: 8.62, NNZs: 1, Bias: 1.208824, T: 128, Avg. loss: 32.836347\n",
      "Total training time: 0.00 seconds.\n",
      "-- Epoch 33\n",
      "Norm: 8.68, NNZs: 1, Bias: 1.216701, T: 132, Avg. loss: 29.700702\n",
      "Total training time: 0.00 seconds.\n",
      "-- Epoch 34\n",
      "Norm: 8.73, NNZs: 1, Bias: 1.224121, T: 136, Avg. loss: 26.886938\n",
      "Total training time: 0.00 seconds.\n",
      "-- Epoch 35\n",
      "Norm: 8.78, NNZs: 1, Bias: 1.231115, T: 140, Avg. loss: 24.359500\n",
      "Total training time: 0.00 seconds.\n",
      "-- Epoch 36\n",
      "Norm: 8.83, NNZs: 1, Bias: 1.237710, T: 144, Avg. loss: 22.087088\n",
      "Total training time: 0.00 seconds.\n",
      "-- Epoch 37\n",
      "Norm: 8.88, NNZs: 1, Bias: 1.243932, T: 148, Avg. loss: 20.042098\n",
      "Total training time: 0.00 seconds.\n",
      "-- Epoch 38\n",
      "Norm: 8.92, NNZs: 1, Bias: 1.249804, T: 152, Avg. loss: 18.200153\n",
      "Total training time: 0.00 seconds.\n",
      "-- Epoch 39\n",
      "Norm: 8.96, NNZs: 1, Bias: 1.255348, T: 156, Avg. loss: 16.539689\n",
      "Total training time: 0.00 seconds.\n",
      "-- Epoch 40\n",
      "Norm: 9.00, NNZs: 1, Bias: 1.260584, T: 160, Avg. loss: 15.041606\n",
      "Total training time: 0.00 seconds.\n",
      "-- Epoch 41\n",
      "Norm: 9.04, NNZs: 1, Bias: 1.265532, T: 164, Avg. loss: 13.688964\n",
      "Total training time: 0.00 seconds.\n",
      "-- Epoch 42\n",
      "Norm: 9.08, NNZs: 1, Bias: 1.270208, T: 168, Avg. loss: 12.466717\n",
      "Total training time: 0.00 seconds.\n",
      "-- Epoch 43\n",
      "Norm: 9.11, NNZs: 1, Bias: 1.274628, T: 172, Avg. loss: 11.361487\n",
      "Total training time: 0.00 seconds.\n",
      "-- Epoch 44\n",
      "Norm: 9.14, NNZs: 1, Bias: 1.278809, T: 176, Avg. loss: 10.361363\n",
      "Total training time: 0.00 seconds.\n",
      "-- Epoch 45\n",
      "Norm: 9.17, NNZs: 1, Bias: 1.282763, T: 180, Avg. loss: 9.455732\n",
      "Total training time: 0.00 seconds.\n",
      "-- Epoch 46\n",
      "Norm: 9.20, NNZs: 1, Bias: 1.286505, T: 184, Avg. loss: 8.635121\n",
      "Total training time: 0.00 seconds.\n",
      "-- Epoch 47\n",
      "Norm: 9.23, NNZs: 1, Bias: 1.290046, T: 188, Avg. loss: 7.891071\n",
      "Total training time: 0.00 seconds.\n",
      "-- Epoch 48\n",
      "Norm: 9.25, NNZs: 1, Bias: 1.293397, T: 192, Avg. loss: 7.216020\n",
      "Total training time: 0.00 seconds.\n",
      "-- Epoch 49\n",
      "Norm: 9.28, NNZs: 1, Bias: 1.296570, T: 196, Avg. loss: 6.603198\n",
      "Total training time: 0.00 seconds.\n",
      "-- Epoch 50\n",
      "Norm: 9.30, NNZs: 1, Bias: 1.299574, T: 200, Avg. loss: 6.046542\n",
      "Total training time: 0.00 seconds.\n",
      "-- Epoch 51\n",
      "Norm: 9.32, NNZs: 1, Bias: 1.302419, T: 204, Avg. loss: 5.540616\n",
      "Total training time: 0.00 seconds.\n",
      "-- Epoch 52\n",
      "Norm: 9.35, NNZs: 1, Bias: 1.305114, T: 208, Avg. loss: 5.080542\n",
      "Total training time: 0.00 seconds.\n",
      "-- Epoch 53\n",
      "Norm: 9.37, NNZs: 1, Bias: 1.307666, T: 212, Avg. loss: 4.661938\n",
      "Total training time: 0.00 seconds.\n",
      "-- Epoch 54\n",
      "Norm: 9.39, NNZs: 1, Bias: 1.310084, T: 216, Avg. loss: 4.280866\n",
      "Total training time: 0.00 seconds.\n",
      "-- Epoch 55\n",
      "Norm: 9.40, NNZs: 1, Bias: 1.312374, T: 220, Avg. loss: 3.933784\n",
      "Total training time: 0.00 seconds.\n",
      "-- Epoch 56\n",
      "Norm: 9.42, NNZs: 1, Bias: 1.314544, T: 224, Avg. loss: 3.617501\n",
      "Total training time: 0.00 seconds.\n",
      "-- Epoch 57\n",
      "Norm: 9.44, NNZs: 1, Bias: 1.316600, T: 228, Avg. loss: 3.329145\n",
      "Total training time: 0.00 seconds.\n",
      "-- Epoch 58\n",
      "Norm: 9.45, NNZs: 1, Bias: 1.318548, T: 232, Avg. loss: 3.066126\n",
      "Total training time: 0.00 seconds.\n",
      "-- Epoch 59\n",
      "Norm: 9.47, NNZs: 1, Bias: 1.320393, T: 236, Avg. loss: 2.826105\n",
      "Total training time: 0.00 seconds.\n",
      "-- Epoch 60\n",
      "Norm: 9.48, NNZs: 1, Bias: 1.322141, T: 240, Avg. loss: 2.606972\n",
      "Total training time: 0.00 seconds.\n",
      "-- Epoch 61\n",
      "Norm: 9.50, NNZs: 1, Bias: 1.323798, T: 244, Avg. loss: 2.406822\n",
      "Total training time: 0.00 seconds.\n",
      "-- Epoch 62\n",
      "Norm: 9.51, NNZs: 1, Bias: 1.325367, T: 248, Avg. loss: 2.223931\n",
      "Total training time: 0.00 seconds.\n",
      "-- Epoch 63\n",
      "Norm: 9.52, NNZs: 1, Bias: 1.326853, T: 252, Avg. loss: 2.056739\n",
      "Total training time: 0.01 seconds.\n",
      "-- Epoch 64\n",
      "Norm: 9.53, NNZs: 1, Bias: 1.328260, T: 256, Avg. loss: 1.903837\n",
      "Total training time: 0.01 seconds.\n",
      "-- Epoch 65\n",
      "Norm: 9.55, NNZs: 1, Bias: 1.329593, T: 260, Avg. loss: 1.763946\n",
      "Total training time: 0.01 seconds.\n",
      "-- Epoch 66\n",
      "Norm: 9.56, NNZs: 1, Bias: 1.330855, T: 264, Avg. loss: 1.635909\n",
      "Total training time: 0.01 seconds.\n",
      "-- Epoch 67\n",
      "Norm: 9.57, NNZs: 1, Bias: 1.332050, T: 268, Avg. loss: 1.518675\n",
      "Total training time: 0.01 seconds.\n",
      "-- Epoch 68\n",
      "Norm: 9.58, NNZs: 1, Bias: 1.333180, T: 272, Avg. loss: 1.411292\n",
      "Total training time: 0.01 seconds.\n",
      "-- Epoch 69\n",
      "Norm: 9.59, NNZs: 1, Bias: 1.334250, T: 276, Avg. loss: 1.312896\n",
      "Total training time: 0.01 seconds.\n",
      "-- Epoch 70\n",
      "Norm: 9.60, NNZs: 1, Bias: 1.335262, T: 280, Avg. loss: 1.222701\n",
      "Total training time: 0.01 seconds.\n",
      "-- Epoch 71\n",
      "Norm: 9.60, NNZs: 1, Bias: 1.336218, T: 284, Avg. loss: 1.139994\n",
      "Total training time: 0.01 seconds.\n",
      "-- Epoch 72\n",
      "Norm: 9.61, NNZs: 1, Bias: 1.337123, T: 288, Avg. loss: 1.064128\n",
      "Total training time: 0.01 seconds.\n",
      "-- Epoch 73\n",
      "Norm: 9.62, NNZs: 1, Bias: 1.337977, T: 292, Avg. loss: 0.994511\n",
      "Total training time: 0.01 seconds.\n",
      "-- Epoch 74\n",
      "Norm: 9.63, NNZs: 1, Bias: 1.338784, T: 296, Avg. loss: 0.930608\n",
      "Total training time: 0.01 seconds.\n",
      "-- Epoch 75\n",
      "Norm: 9.64, NNZs: 1, Bias: 1.339546, T: 300, Avg. loss: 0.871930\n",
      "Total training time: 0.01 seconds.\n",
      "-- Epoch 76\n",
      "Norm: 9.64, NNZs: 1, Bias: 1.340265, T: 304, Avg. loss: 0.818032\n",
      "Total training time: 0.01 seconds.\n",
      "-- Epoch 77\n",
      "Norm: 9.65, NNZs: 1, Bias: 1.340943, T: 308, Avg. loss: 0.768508\n",
      "Total training time: 0.01 seconds.\n",
      "-- Epoch 78\n",
      "Norm: 9.66, NNZs: 1, Bias: 1.341582, T: 312, Avg. loss: 0.722990\n",
      "Total training time: 0.01 seconds.\n",
      "-- Epoch 79\n",
      "Norm: 9.66, NNZs: 1, Bias: 1.342184, T: 316, Avg. loss: 0.681139\n",
      "Total training time: 0.01 seconds.\n",
      "-- Epoch 80\n",
      "Norm: 9.67, NNZs: 1, Bias: 1.342751, T: 320, Avg. loss: 0.642650\n",
      "Total training time: 0.01 seconds.\n",
      "-- Epoch 81\n",
      "Norm: 9.67, NNZs: 1, Bias: 1.343283, T: 324, Avg. loss: 0.607240\n",
      "Total training time: 0.01 seconds.\n",
      "-- Epoch 82\n",
      "Norm: 9.68, NNZs: 1, Bias: 1.343784, T: 328, Avg. loss: 0.574654\n",
      "Total training time: 0.01 seconds.\n",
      "-- Epoch 83\n",
      "Norm: 9.68, NNZs: 1, Bias: 1.344253, T: 332, Avg. loss: 0.544658\n",
      "Total training time: 0.01 seconds.\n",
      "-- Epoch 84\n",
      "Norm: 9.69, NNZs: 1, Bias: 1.344694, T: 336, Avg. loss: 0.517038\n",
      "Total training time: 0.01 seconds.\n",
      "-- Epoch 85\n",
      "Norm: 9.69, NNZs: 1, Bias: 1.345106, T: 340, Avg. loss: 0.491598\n",
      "Total training time: 0.01 seconds.\n",
      "-- Epoch 86\n",
      "Norm: 9.70, NNZs: 1, Bias: 1.345492, T: 344, Avg. loss: 0.468159\n",
      "Total training time: 0.01 seconds.\n",
      "-- Epoch 87\n",
      "Norm: 9.70, NNZs: 1, Bias: 1.345853, T: 348, Avg. loss: 0.446559\n",
      "Total training time: 0.01 seconds.\n",
      "-- Epoch 88\n",
      "Norm: 9.71, NNZs: 1, Bias: 1.346189, T: 352, Avg. loss: 0.426647\n",
      "Total training time: 0.01 seconds.\n",
      "-- Epoch 89\n",
      "Norm: 9.71, NNZs: 1, Bias: 1.346502, T: 356, Avg. loss: 0.408286\n",
      "Total training time: 0.01 seconds.\n",
      "-- Epoch 90\n",
      "Norm: 9.71, NNZs: 1, Bias: 1.346793, T: 360, Avg. loss: 0.391351\n",
      "Total training time: 0.01 seconds.\n",
      "-- Epoch 91\n",
      "Norm: 9.72, NNZs: 1, Bias: 1.347063, T: 364, Avg. loss: 0.375727\n",
      "Total training time: 0.01 seconds.\n",
      "-- Epoch 92\n",
      "Norm: 9.72, NNZs: 1, Bias: 1.347312, T: 368, Avg. loss: 0.361308\n",
      "Total training time: 0.01 seconds.\n",
      "-- Epoch 93\n",
      "Norm: 9.72, NNZs: 1, Bias: 1.347543, T: 372, Avg. loss: 0.347999\n",
      "Total training time: 0.01 seconds.\n",
      "-- Epoch 94\n",
      "Norm: 9.73, NNZs: 1, Bias: 1.347755, T: 376, Avg. loss: 0.335710\n",
      "Total training time: 0.01 seconds.\n",
      "-- Epoch 95\n",
      "Norm: 9.73, NNZs: 1, Bias: 1.347949, T: 380, Avg. loss: 0.324360\n",
      "Total training time: 0.01 seconds.\n",
      "-- Epoch 96\n",
      "Norm: 9.73, NNZs: 1, Bias: 1.348126, T: 384, Avg. loss: 0.313874\n",
      "Total training time: 0.01 seconds.\n",
      "-- Epoch 97\n",
      "Norm: 9.74, NNZs: 1, Bias: 1.348288, T: 388, Avg. loss: 0.304185\n",
      "Total training time: 0.01 seconds.\n",
      "-- Epoch 98\n",
      "Norm: 9.74, NNZs: 1, Bias: 1.348434, T: 392, Avg. loss: 0.295230\n",
      "Total training time: 0.01 seconds.\n",
      "-- Epoch 99\n",
      "Norm: 9.74, NNZs: 1, Bias: 1.348566, T: 396, Avg. loss: 0.286950\n",
      "Total training time: 0.01 seconds.\n",
      "-- Epoch 100\n",
      "Norm: 9.75, NNZs: 1, Bias: 1.348683, T: 400, Avg. loss: 0.279293\n",
      "Total training time: 0.01 seconds.\n",
      "-- Epoch 101\n",
      "Norm: 9.75, NNZs: 1, Bias: 1.348787, T: 404, Avg. loss: 0.272210\n",
      "Total training time: 0.01 seconds.\n",
      "-- Epoch 102\n",
      "Norm: 9.75, NNZs: 1, Bias: 1.348878, T: 408, Avg. loss: 0.265657\n",
      "Total training time: 0.01 seconds.\n",
      "-- Epoch 103\n",
      "Norm: 9.75, NNZs: 1, Bias: 1.348957, T: 412, Avg. loss: 0.259592\n",
      "Total training time: 0.01 seconds.\n",
      "-- Epoch 104\n",
      "Norm: 9.75, NNZs: 1, Bias: 1.349025, T: 416, Avg. loss: 0.253977\n",
      "Total training time: 0.01 seconds.\n",
      "-- Epoch 105\n",
      "Norm: 9.76, NNZs: 1, Bias: 1.349081, T: 420, Avg. loss: 0.248778\n",
      "Total training time: 0.01 seconds.\n",
      "-- Epoch 106\n",
      "Norm: 9.76, NNZs: 1, Bias: 1.349126, T: 424, Avg. loss: 0.243963\n",
      "Total training time: 0.01 seconds.\n",
      "-- Epoch 107\n",
      "Norm: 9.76, NNZs: 1, Bias: 1.349161, T: 428, Avg. loss: 0.239501\n",
      "Total training time: 0.01 seconds.\n",
      "-- Epoch 108\n",
      "Norm: 9.76, NNZs: 1, Bias: 1.349186, T: 432, Avg. loss: 0.235367\n",
      "Total training time: 0.01 seconds.\n",
      "-- Epoch 109\n",
      "Norm: 9.76, NNZs: 1, Bias: 1.349202, T: 436, Avg. loss: 0.231534\n",
      "Total training time: 0.01 seconds.\n",
      "-- Epoch 110\n",
      "Norm: 9.77, NNZs: 1, Bias: 1.349209, T: 440, Avg. loss: 0.227981\n",
      "Total training time: 0.01 seconds.\n",
      "-- Epoch 111\n",
      "Norm: 9.77, NNZs: 1, Bias: 1.349207, T: 444, Avg. loss: 0.224685\n",
      "Total training time: 0.01 seconds.\n",
      "-- Epoch 112\n",
      "Norm: 9.77, NNZs: 1, Bias: 1.349197, T: 448, Avg. loss: 0.221627\n",
      "Total training time: 0.01 seconds.\n",
      "-- Epoch 113\n",
      "Norm: 9.77, NNZs: 1, Bias: 1.349179, T: 452, Avg. loss: 0.218790\n",
      "Total training time: 0.01 seconds.\n",
      "-- Epoch 114\n",
      "Norm: 9.77, NNZs: 1, Bias: 1.349154, T: 456, Avg. loss: 0.216156\n",
      "Total training time: 0.01 seconds.\n",
      "-- Epoch 115\n",
      "Norm: 9.77, NNZs: 1, Bias: 1.349121, T: 460, Avg. loss: 0.213710\n",
      "Total training time: 0.01 seconds.\n",
      "-- Epoch 116\n",
      "Norm: 9.77, NNZs: 1, Bias: 1.349082, T: 464, Avg. loss: 0.211438\n",
      "Total training time: 0.01 seconds.\n",
      "-- Epoch 117\n",
      "Norm: 9.78, NNZs: 1, Bias: 1.349035, T: 468, Avg. loss: 0.209328\n",
      "Total training time: 0.01 seconds.\n",
      "-- Epoch 118\n",
      "Norm: 9.78, NNZs: 1, Bias: 1.348983, T: 472, Avg. loss: 0.207366\n",
      "Total training time: 0.01 seconds.\n",
      "-- Epoch 119\n",
      "Norm: 9.78, NNZs: 1, Bias: 1.348924, T: 476, Avg. loss: 0.205542\n",
      "Total training time: 0.01 seconds.\n",
      "-- Epoch 120\n",
      "Norm: 9.78, NNZs: 1, Bias: 1.348860, T: 480, Avg. loss: 0.203846\n",
      "Total training time: 0.01 seconds.\n",
      "-- Epoch 121\n",
      "Norm: 9.78, NNZs: 1, Bias: 1.348790, T: 484, Avg. loss: 0.202268\n",
      "Total training time: 0.01 seconds.\n",
      "-- Epoch 122\n",
      "Norm: 9.78, NNZs: 1, Bias: 1.348715, T: 488, Avg. loss: 0.200800\n",
      "Total training time: 0.01 seconds.\n",
      "-- Epoch 123\n",
      "Norm: 9.78, NNZs: 1, Bias: 1.348634, T: 492, Avg. loss: 0.199433\n",
      "Total training time: 0.01 seconds.\n",
      "-- Epoch 124\n",
      "Norm: 9.78, NNZs: 1, Bias: 1.348549, T: 496, Avg. loss: 0.198159\n",
      "Total training time: 0.01 seconds.\n",
      "-- Epoch 125\n",
      "Norm: 9.79, NNZs: 1, Bias: 1.348459, T: 500, Avg. loss: 0.196973\n",
      "Total training time: 0.01 seconds.\n",
      "-- Epoch 126\n",
      "Norm: 9.79, NNZs: 1, Bias: 1.348365, T: 504, Avg. loss: 0.195868\n",
      "Total training time: 0.01 seconds.\n",
      "-- Epoch 127\n",
      "Norm: 9.79, NNZs: 1, Bias: 1.348266, T: 508, Avg. loss: 0.194837\n",
      "Total training time: 0.01 seconds.\n",
      "-- Epoch 128\n",
      "Norm: 9.79, NNZs: 1, Bias: 1.348164, T: 512, Avg. loss: 0.193875\n",
      "Total training time: 0.01 seconds.\n",
      "-- Epoch 129\n",
      "Norm: 9.79, NNZs: 1, Bias: 1.348057, T: 516, Avg. loss: 0.192978\n",
      "Total training time: 0.01 seconds.\n",
      "-- Epoch 130\n",
      "Norm: 9.79, NNZs: 1, Bias: 1.347947, T: 520, Avg. loss: 0.192140\n",
      "Total training time: 0.01 seconds.\n",
      "-- Epoch 131\n",
      "Norm: 9.79, NNZs: 1, Bias: 1.347833, T: 524, Avg. loss: 0.191357\n",
      "Total training time: 0.01 seconds.\n",
      "-- Epoch 132\n",
      "Norm: 9.79, NNZs: 1, Bias: 1.347715, T: 528, Avg. loss: 0.190626\n",
      "Total training time: 0.01 seconds.\n",
      "-- Epoch 133\n",
      "Norm: 9.79, NNZs: 1, Bias: 1.347594, T: 532, Avg. loss: 0.189942\n",
      "Total training time: 0.01 seconds.\n",
      "-- Epoch 134\n",
      "Norm: 9.79, NNZs: 1, Bias: 1.347470, T: 536, Avg. loss: 0.189302\n",
      "Total training time: 0.01 seconds.\n",
      "-- Epoch 135\n",
      "Norm: 9.79, NNZs: 1, Bias: 1.347344, T: 540, Avg. loss: 0.188704\n",
      "Total training time: 0.01 seconds.\n",
      "-- Epoch 136\n",
      "Norm: 9.79, NNZs: 1, Bias: 1.347214, T: 544, Avg. loss: 0.188143\n",
      "Total training time: 0.02 seconds.\n",
      "-- Epoch 137\n",
      "Norm: 9.79, NNZs: 1, Bias: 1.347081, T: 548, Avg. loss: 0.187617\n",
      "Total training time: 0.02 seconds.\n",
      "-- Epoch 138\n",
      "Norm: 9.80, NNZs: 1, Bias: 1.346946, T: 552, Avg. loss: 0.187125\n",
      "Total training time: 0.02 seconds.\n",
      "-- Epoch 139\n",
      "Norm: 9.80, NNZs: 1, Bias: 1.346808, T: 556, Avg. loss: 0.186663\n",
      "Total training time: 0.02 seconds.\n",
      "-- Epoch 140\n",
      "Norm: 9.80, NNZs: 1, Bias: 1.346668, T: 560, Avg. loss: 0.186229\n",
      "Total training time: 0.02 seconds.\n",
      "-- Epoch 141\n",
      "Norm: 9.80, NNZs: 1, Bias: 1.346525, T: 564, Avg. loss: 0.185821\n",
      "Total training time: 0.02 seconds.\n",
      "-- Epoch 142\n",
      "Norm: 9.80, NNZs: 1, Bias: 1.346381, T: 568, Avg. loss: 0.185437\n",
      "Total training time: 0.02 seconds.\n",
      "Convergence after 142 epochs took 0.02 seconds\n"
     ]
    },
    {
     "data": {
      "text/html": [
       "<style>#sk-container-id-2 {color: black;background-color: white;}#sk-container-id-2 pre{padding: 0;}#sk-container-id-2 div.sk-toggleable {background-color: white;}#sk-container-id-2 label.sk-toggleable__label {cursor: pointer;display: block;width: 100%;margin-bottom: 0;padding: 0.3em;box-sizing: border-box;text-align: center;}#sk-container-id-2 label.sk-toggleable__label-arrow:before {content: \"▸\";float: left;margin-right: 0.25em;color: #696969;}#sk-container-id-2 label.sk-toggleable__label-arrow:hover:before {color: black;}#sk-container-id-2 div.sk-estimator:hover label.sk-toggleable__label-arrow:before {color: black;}#sk-container-id-2 div.sk-toggleable__content {max-height: 0;max-width: 0;overflow: hidden;text-align: left;background-color: #f0f8ff;}#sk-container-id-2 div.sk-toggleable__content pre {margin: 0.2em;color: black;border-radius: 0.25em;background-color: #f0f8ff;}#sk-container-id-2 input.sk-toggleable__control:checked~div.sk-toggleable__content {max-height: 200px;max-width: 100%;overflow: auto;}#sk-container-id-2 input.sk-toggleable__control:checked~label.sk-toggleable__label-arrow:before {content: \"▾\";}#sk-container-id-2 div.sk-estimator input.sk-toggleable__control:checked~label.sk-toggleable__label {background-color: #d4ebff;}#sk-container-id-2 div.sk-label input.sk-toggleable__control:checked~label.sk-toggleable__label {background-color: #d4ebff;}#sk-container-id-2 input.sk-hidden--visually {border: 0;clip: rect(1px 1px 1px 1px);clip: rect(1px, 1px, 1px, 1px);height: 1px;margin: -1px;overflow: hidden;padding: 0;position: absolute;width: 1px;}#sk-container-id-2 div.sk-estimator {font-family: monospace;background-color: #f0f8ff;border: 1px dotted black;border-radius: 0.25em;box-sizing: border-box;margin-bottom: 0.5em;}#sk-container-id-2 div.sk-estimator:hover {background-color: #d4ebff;}#sk-container-id-2 div.sk-parallel-item::after {content: \"\";width: 100%;border-bottom: 1px solid gray;flex-grow: 1;}#sk-container-id-2 div.sk-label:hover label.sk-toggleable__label {background-color: #d4ebff;}#sk-container-id-2 div.sk-serial::before {content: \"\";position: absolute;border-left: 1px solid gray;box-sizing: border-box;top: 0;bottom: 0;left: 50%;z-index: 0;}#sk-container-id-2 div.sk-serial {display: flex;flex-direction: column;align-items: center;background-color: white;padding-right: 0.2em;padding-left: 0.2em;position: relative;}#sk-container-id-2 div.sk-item {position: relative;z-index: 1;}#sk-container-id-2 div.sk-parallel {display: flex;align-items: stretch;justify-content: center;background-color: white;position: relative;}#sk-container-id-2 div.sk-item::before, #sk-container-id-2 div.sk-parallel-item::before {content: \"\";position: absolute;border-left: 1px solid gray;box-sizing: border-box;top: 0;bottom: 0;left: 50%;z-index: -1;}#sk-container-id-2 div.sk-parallel-item {display: flex;flex-direction: column;z-index: 1;position: relative;background-color: white;}#sk-container-id-2 div.sk-parallel-item:first-child::after {align-self: flex-end;width: 50%;}#sk-container-id-2 div.sk-parallel-item:last-child::after {align-self: flex-start;width: 50%;}#sk-container-id-2 div.sk-parallel-item:only-child::after {width: 0;}#sk-container-id-2 div.sk-dashed-wrapped {border: 1px dashed gray;margin: 0 0.4em 0.5em 0.4em;box-sizing: border-box;padding-bottom: 0.4em;background-color: white;}#sk-container-id-2 div.sk-label label {font-family: monospace;font-weight: bold;display: inline-block;line-height: 1.2em;}#sk-container-id-2 div.sk-label-container {text-align: center;}#sk-container-id-2 div.sk-container {/* jupyter's `normalize.less` sets `[hidden] { display: none; }` but bootstrap.min.css set `[hidden] { display: none !important; }` so we also need the `!important` here to be able to override the default hidden behavior on the sphinx rendered scikit-learn.org. See: https://github.com/scikit-learn/scikit-learn/issues/21755 */display: inline-block !important;position: relative;}#sk-container-id-2 div.sk-text-repr-fallback {display: none;}</style><div id=\"sk-container-id-2\" class=\"sk-top-container\"><div class=\"sk-text-repr-fallback\"><pre>SGDRegressor(epsilon=0.001, eta0=0.001, max_iter=5000, n_iter_no_change=15,\n",
       "             verbose=1)</pre><b>In a Jupyter environment, please rerun this cell to show the HTML representation or trust the notebook. <br />On GitHub, the HTML representation is unable to render, please try loading this page with nbviewer.org.</b></div><div class=\"sk-container\" hidden><div class=\"sk-item\"><div class=\"sk-estimator sk-toggleable\"><input class=\"sk-toggleable__control sk-hidden--visually\" id=\"sk-estimator-id-2\" type=\"checkbox\" checked><label for=\"sk-estimator-id-2\" class=\"sk-toggleable__label sk-toggleable__label-arrow\">SGDRegressor</label><div class=\"sk-toggleable__content\"><pre>SGDRegressor(epsilon=0.001, eta0=0.001, max_iter=5000, n_iter_no_change=15,\n",
       "             verbose=1)</pre></div></div></div></div></div>"
      ],
      "text/plain": [
       "SGDRegressor(epsilon=0.001, eta0=0.001, max_iter=5000, n_iter_no_change=15,\n",
       "             verbose=1)"
      ]
     },
     "execution_count": 24,
     "metadata": {},
     "output_type": "execute_result"
    }
   ],
   "source": [
    "sgd_model.fit(data[['공부시간']], data['성적점수'])"
   ]
  },
  {
   "cell_type": "code",
   "execution_count": 25,
   "id": "1216b129",
   "metadata": {},
   "outputs": [
    {
     "name": "stdout",
     "output_type": "stream",
     "text": [
      "가중치 :  [9.79753564]\n",
      "절편 :  [1.34638064]\n"
     ]
    }
   ],
   "source": [
    "print(\"가중치 : \", sgd_model.coef_)\n",
    "print(\"절편 : \", sgd_model.intercept_)"
   ]
  },
  {
   "cell_type": "code",
   "execution_count": 26,
   "id": "8491febf",
   "metadata": {},
   "outputs": [
    {
     "name": "stderr",
     "output_type": "stream",
     "text": [
      "C:\\ProgramData\\Anaconda3\\lib\\site-packages\\sklearn\\base.py:450: UserWarning: X does not have valid feature names, but SGDRegressor was fitted with feature names\n",
      "  warnings.warn(\n"
     ]
    },
    {
     "data": {
      "text/plain": [
       "array([69.92913014, 50.33405886])"
      ]
     },
     "execution_count": 26,
     "metadata": {},
     "output_type": "execute_result"
    }
   ],
   "source": [
    "sgd_model.predict([[7],[5]])"
   ]
  },
  {
   "cell_type": "markdown",
   "id": "f128bdac",
   "metadata": {},
   "source": [
    "### 다항회귀\n",
    "- 선형 모델의 수식에서 입력특성에 2차항이 포함된 경우\n",
    "- 고차항이 포함되면 데이터의 특성을 더 fit하게 맞출 수 있어 성능 개선의 여지가 있다."
   ]
  },
  {
   "cell_type": "code",
   "execution_count": 27,
   "id": "8e5ae469",
   "metadata": {},
   "outputs": [
    {
     "name": "stderr",
     "output_type": "stream",
     "text": [
      "C:\\ProgramData\\Anaconda3\\lib\\site-packages\\sklearn\\utils\\deprecation.py:87: FutureWarning: Function load_boston is deprecated; `load_boston` is deprecated in 1.0 and will be removed in 1.2.\n",
      "\n",
      "    The Boston housing prices dataset has an ethical problem. You can refer to\n",
      "    the documentation of this function for further details.\n",
      "\n",
      "    The scikit-learn maintainers therefore strongly discourage the use of this\n",
      "    dataset unless the purpose of the code is to study and educate about\n",
      "    ethical issues in data science and machine learning.\n",
      "\n",
      "    In this special case, you can fetch the dataset from the original\n",
      "    source::\n",
      "\n",
      "        import pandas as pd\n",
      "        import numpy as np\n",
      "\n",
      "        data_url = \"http://lib.stat.cmu.edu/datasets/boston\"\n",
      "        raw_df = pd.read_csv(data_url, sep=\"\\s+\", skiprows=22, header=None)\n",
      "        data = np.hstack([raw_df.values[::2, :], raw_df.values[1::2, :2]])\n",
      "        target = raw_df.values[1::2, 2]\n",
      "\n",
      "    Alternative datasets include the California housing dataset (i.e.\n",
      "    :func:`~sklearn.datasets.fetch_california_housing`) and the Ames housing\n",
      "    dataset. You can load the datasets as follows::\n",
      "\n",
      "        from sklearn.datasets import fetch_california_housing\n",
      "        housing = fetch_california_housing()\n",
      "\n",
      "    for the California housing dataset and::\n",
      "\n",
      "        from sklearn.datasets import fetch_openml\n",
      "        housing = fetch_openml(name=\"house_prices\", as_frame=True)\n",
      "\n",
      "    for the Ames housing dataset.\n",
      "  warnings.warn(msg, category=FutureWarning)\n"
     ]
    },
    {
     "data": {
      "text/plain": [
       "dict_keys(['data', 'target', 'feature_names', 'DESCR', 'filename', 'data_module'])"
      ]
     },
     "execution_count": 27,
     "metadata": {},
     "output_type": "execute_result"
    }
   ],
   "source": [
    "boston = load_boston()\n",
    "boston.keys()"
   ]
  },
  {
   "cell_type": "code",
   "execution_count": 28,
   "id": "d49241e5",
   "metadata": {},
   "outputs": [],
   "source": [
    "data = pd.DataFrame(boston.data, columns=boston.feature_names)"
   ]
  },
  {
   "cell_type": "code",
   "execution_count": 29,
   "id": "f9a41977",
   "metadata": {},
   "outputs": [],
   "source": [
    "X_train,X_test,y_train,y_test = train_test_split(data, boston.target,\n",
    "                                                random_state=726)"
   ]
  },
  {
   "cell_type": "code",
   "execution_count": 30,
   "id": "78d9c497",
   "metadata": {},
   "outputs": [
    {
     "data": {
      "text/plain": [
       "<function matplotlib.pyplot.show(close=None, block=None)>"
      ]
     },
     "execution_count": 30,
     "metadata": {},
     "output_type": "execute_result"
    },
    {
     "data": {
      "image/png": "[encoded data removed]",
      "text/plain": [
       "<Figure size 360x360 with 1 Axes>"
      ]
     },
     "metadata": {
      "needs_background": "light"
     },
     "output_type": "display_data"
    }
   ],
   "source": [
    "plt.figure(figsize=(5,5)) #가로,세로 크기\n",
    "plt.scatter(X_train['LSTAT'], y_train, label='original')\n",
    "\n",
    "# 선형모델 학습\n",
    "LSTAT_model = LinearRegression()\n",
    "LSTAT_model.fit(X_train[['LSTAT']], y_train)\n",
    "# 선형모델의 예측결과 확인\n",
    "pre = LSTAT_model.predict(X_train[['LSTAT']])\n",
    "plt.scatter(X_train[['LSTAT']],pre, label='predict')\n",
    "\n",
    "plt.legend() #범례\n",
    "plt.xlabel('LSTAT')\n",
    "plt.ylabel('PRICE')\n",
    "plt.show"
   ]
  },
  {
   "cell_type": "markdown",
   "id": "f6a5c73f",
   "metadata": {},
   "source": [
    "## 다항회귀 구현하기\n",
    "1. 특성확장을 통해서 다항식을 만들어준다.\n",
    "2. sklearn의 PolynomialFeatures를 이용한다."
   ]
  },
  {
   "cell_type": "code",
   "execution_count": 31,
   "id": "f955bf99",
   "metadata": {},
   "outputs": [],
   "source": [
    "# 특성확장\n",
    "X_train['LSTAT x LSTAT'] = X_train['LSTAT'] * X_train['LSTAT']"
   ]
  },
  {
   "cell_type": "code",
   "execution_count": 32,
   "id": "034aa6ee",
   "metadata": {},
   "outputs": [],
   "source": [
    "# 모델학습\n",
    "LSTAT_model2 = LinearRegression()\n",
    "LSTAT_model2.fit(X_train[['LSTAT','LSTAT x LSTAT']], y_train)\n",
    "# 모델예측\n",
    "pre2 = LSTAT_model2.predict(X_train[['LSTAT','LSTAT x LSTAT']])"
   ]
  },
  {
   "cell_type": "code",
   "execution_count": 33,
   "id": "c1b76c3d",
   "metadata": {},
   "outputs": [
    {
     "data": {
      "text/plain": [
       "<function matplotlib.pyplot.show(close=None, block=None)>"
      ]
     },
     "execution_count": 33,
     "metadata": {},
     "output_type": "execute_result"
    },
    {
     "data": {
      "image/png": "[encoded data removed]",
      "text/plain": [
       "<Figure size 360x360 with 1 Axes>"
      ]
     },
     "metadata": {
      "needs_background": "light"
     },
     "output_type": "display_data"
    }
   ],
   "source": [
    "plt.figure(figsize=(5,5))\n",
    "plt.scatter(X_train['LSTAT'], y_train, label='original') #오리지날 데이터\n",
    "plt.scatter(X_train['LSTAT'], pre2, label='predict') # 다항회귀 결과\n",
    "\n",
    "plt.legend() #범례\n",
    "plt.xlabel('LSTAT')\n",
    "plt.ylabel('PRICE')\n",
    "plt.show"
   ]
  },
  {
   "cell_type": "code",
   "execution_count": null,
   "id": "1cb1492f",
   "metadata": {},
   "outputs": [],
   "source": []
  },
  {
   "cell_type": "code",
   "execution_count": null,
   "id": "2fc3c300",
   "metadata": {},
   "outputs": [],
   "source": []
  },
  {
   "cell_type": "code",
   "execution_count": null,
   "id": "066ca61d",
   "metadata": {},
   "outputs": [],
   "source": []
  },
  {
   "cell_type": "code",
   "execution_count": null,
   "id": "141ab1f0",
   "metadata": {},
   "outputs": [],
   "source": []
  },
  {
   "cell_type": "code",
   "execution_count": null,
   "id": "1548a9c9",
   "metadata": {},
   "outputs": [],
   "source": []
  }
 ],
 "metadata": {
  "kernelspec": {
   "display_name": "Python 3 (ipykernel)",
   "language": "python",
   "name": "python3"
  },
  "language_info": {
   "codemirror_mode": {
    "name": "ipython",
    "version": 3
   },
   "file_extension": ".py",
   "mimetype": "text/x-python",
   "name": "python",
   "nbconvert_exporter": "python",
   "pygments_lexer": "ipython3",
   "version": "3.9.12"
  },
  "toc": {
   "base_numbering": 1,
   "nav_menu": {},
   "number_sections": true,
   "sideBar": true,
   "skip_h1_title": false,
   "title_cell": "Table of Contents",
   "title_sidebar": "Contents",
   "toc_cell": false,
   "toc_position": {},
   "toc_section_display": true,
   "toc_window_display": false
  }
 },
 "nbformat": 4,
 "nbformat_minor": 5
}
