{
 "cells": [
  {
   "cell_type": "code",
   "execution_count": 37,
   "id": "6e700edc",
   "metadata": {},
   "outputs": [
    {
     "data": {
      "text/plain": [
       "{'name': '김상민', 'age': 26, 'phone': '01044291188'}"
      ]
     },
     "execution_count": 37,
     "metadata": {},
     "output_type": "execute_result"
    }
   ],
   "source": [
    "dic1 = {\"name\":\"김상민\", \"age\":26, \"phone\": \"01044291188\" }\n",
    "dic1"
   ]
  },
  {
   "cell_type": "code",
   "execution_count": 22,
   "id": "95da6b83",
   "metadata": {},
   "outputs": [
    {
     "data": {
      "text/plain": [
       "dict"
      ]
     },
     "execution_count": 22,
     "metadata": {},
     "output_type": "execute_result"
    }
   ],
   "source": [
    "type(dic1)"
   ]
  },
  {
   "cell_type": "code",
   "execution_count": 38,
   "id": "433605b8",
   "metadata": {},
   "outputs": [],
   "source": [
    "dic1['birth'] = '12.12'  #key값먼저 입력 = value"
   ]
  },
  {
   "cell_type": "code",
   "execution_count": 24,
   "id": "f1974264",
   "metadata": {},
   "outputs": [
    {
     "data": {
      "text/plain": [
       "{'name': '김상민', 'age': 26, 'phone': '01044291188', 'birth': '12.12'}"
      ]
     },
     "execution_count": 24,
     "metadata": {},
     "output_type": "execute_result"
    }
   ],
   "source": [
    "dic1"
   ]
  },
  {
   "cell_type": "code",
   "execution_count": 25,
   "id": "d56b9b69",
   "metadata": {
    "scrolled": true
   },
   "outputs": [
    {
     "data": {
      "text/plain": [
       "{'노래제목': '참고사항', '가수': '이무진', '날짜': '2022,06,23'}"
      ]
     },
     "execution_count": 25,
     "metadata": {},
     "output_type": "execute_result"
    }
   ],
   "source": [
    "dic_test = {\"노래제목\":\"참고사항\", \"가수\":\"이무진\", \"날짜\": \"2022,06,23\"}\n",
    "dic_test"
   ]
  },
  {
   "cell_type": "code",
   "execution_count": 26,
   "id": "88614a3e",
   "metadata": {},
   "outputs": [],
   "source": [
    "del dic1['age']"
   ]
  },
  {
   "cell_type": "code",
   "execution_count": 27,
   "id": "7cc8859d",
   "metadata": {},
   "outputs": [
    {
     "data": {
      "text/plain": [
       "{'name': '김상민', 'phone': '01044291188', 'birth': '12.12'}"
      ]
     },
     "execution_count": 27,
     "metadata": {},
     "output_type": "execute_result"
    }
   ],
   "source": [
    "dic1"
   ]
  },
  {
   "cell_type": "code",
   "execution_count": 28,
   "id": "8d51c8fd",
   "metadata": {},
   "outputs": [
    {
     "data": {
      "text/plain": [
       "'김상민'"
      ]
     },
     "execution_count": 28,
     "metadata": {},
     "output_type": "execute_result"
    }
   ],
   "source": [
    "dic1['name']"
   ]
  },
  {
   "cell_type": "code",
   "execution_count": 29,
   "id": "8a14ee56",
   "metadata": {},
   "outputs": [
    {
     "data": {
      "text/plain": [
       "'12.12'"
      ]
     },
     "execution_count": 29,
     "metadata": {},
     "output_type": "execute_result"
    }
   ],
   "source": [
    "dic1['birth']"
   ]
  },
  {
   "cell_type": "code",
   "execution_count": 30,
   "id": "b4a95e20",
   "metadata": {},
   "outputs": [
    {
     "data": {
      "text/plain": [
       "{'name': '김상민', 'phone': '01044291188', 'birth': '12.12'}"
      ]
     },
     "execution_count": 30,
     "metadata": {},
     "output_type": "execute_result"
    }
   ],
   "source": [
    "dic1"
   ]
  },
  {
   "cell_type": "code",
   "execution_count": 34,
   "id": "dbd8d3ef",
   "metadata": {},
   "outputs": [
    {
     "data": {
      "text/plain": [
       "'김상민'"
      ]
     },
     "execution_count": 34,
     "metadata": {},
     "output_type": "execute_result"
    }
   ],
   "source": [
    "dic1.get('name')"
   ]
  },
  {
   "cell_type": "code",
   "execution_count": 32,
   "id": "1f5b986a",
   "metadata": {},
   "outputs": [
    {
     "data": {
      "text/plain": [
       "'12.12'"
      ]
     },
     "execution_count": 32,
     "metadata": {},
     "output_type": "execute_result"
    }
   ],
   "source": [
    "dic1.get('birth')"
   ]
  },
  {
   "cell_type": "code",
   "execution_count": 39,
   "id": "85823567",
   "metadata": {},
   "outputs": [
    {
     "data": {
      "text/plain": [
       "dict_keys(['name', 'age', 'phone', 'birth'])"
      ]
     },
     "execution_count": 39,
     "metadata": {},
     "output_type": "execute_result"
    }
   ],
   "source": [
    "dic1.keys()"
   ]
  },
  {
   "cell_type": "code",
   "execution_count": 40,
   "id": "3b5475b1",
   "metadata": {},
   "outputs": [
    {
     "data": {
      "text/plain": [
       "['name', 'age', 'phone', 'birth']"
      ]
     },
     "execution_count": 40,
     "metadata": {},
     "output_type": "execute_result"
    }
   ],
   "source": [
    "list(dic1.keys())"
   ]
  },
  {
   "cell_type": "code",
   "execution_count": 41,
   "id": "c2951cc8",
   "metadata": {},
   "outputs": [
    {
     "data": {
      "text/plain": [
       "dict_values(['김상민', 26, '01044291188', '12.12'])"
      ]
     },
     "execution_count": 41,
     "metadata": {},
     "output_type": "execute_result"
    }
   ],
   "source": [
    "dic1.values()"
   ]
  },
  {
   "cell_type": "code",
   "execution_count": 42,
   "id": "180c9d7a",
   "metadata": {},
   "outputs": [
    {
     "data": {
      "text/plain": [
       "['김상민', 26, '01044291188', '12.12']"
      ]
     },
     "execution_count": 42,
     "metadata": {},
     "output_type": "execute_result"
    }
   ],
   "source": [
    "list(dic1.values())"
   ]
  },
  {
   "cell_type": "code",
   "execution_count": 44,
   "id": "2ee91ee1",
   "metadata": {},
   "outputs": [
    {
     "name": "stdout",
     "output_type": "stream",
     "text": [
      "name\n",
      "age\n",
      "phone\n",
      "birth\n"
     ]
    }
   ],
   "source": [
    "for key in dic1.keys():\n",
    "    print(key)"
   ]
  },
  {
   "cell_type": "code",
   "execution_count": 45,
   "id": "a3dd7430",
   "metadata": {},
   "outputs": [
    {
     "name": "stdout",
     "output_type": "stream",
     "text": [
      "김상민\n",
      "26\n",
      "01044291188\n",
      "12.12\n"
     ]
    }
   ],
   "source": [
    "for value in dic1.values():\n",
    "    print(value)"
   ]
  },
  {
   "cell_type": "code",
   "execution_count": 48,
   "id": "e14821bc",
   "metadata": {},
   "outputs": [
    {
     "name": "stdout",
     "output_type": "stream",
     "text": [
      "name \t 김상민\n",
      "age \t 26\n",
      "phone \t 01044291188\n",
      "birth \t 12.12\n"
     ]
    }
   ],
   "source": [
    "for key, value in dic1.items():\n",
    "    print(key,\"\\t\", value)             #실제로는 dic.items()를 많이씀"
   ]
  },
  {
   "cell_type": "code",
   "execution_count": 49,
   "id": "9fbc320e",
   "metadata": {},
   "outputs": [
    {
     "data": {
      "text/plain": [
       "dict_items([('name', '김상민'), ('age', 26), ('phone', '01044291188'), ('birth', '12.12')])"
      ]
     },
     "execution_count": 49,
     "metadata": {},
     "output_type": "execute_result"
    }
   ],
   "source": [
    "dic1.items()"
   ]
  },
  {
   "cell_type": "code",
   "execution_count": 50,
   "id": "5e845879",
   "metadata": {},
   "outputs": [
    {
     "data": {
      "text/plain": [
       "True"
      ]
     },
     "execution_count": 50,
     "metadata": {},
     "output_type": "execute_result"
    }
   ],
   "source": [
    "'name' in dic1"
   ]
  },
  {
   "cell_type": "code",
   "execution_count": 51,
   "id": "9b82a32b",
   "metadata": {},
   "outputs": [
    {
     "data": {
      "text/plain": [
       "False"
      ]
     },
     "execution_count": 51,
     "metadata": {},
     "output_type": "execute_result"
    }
   ],
   "source": [
    "'gender' in dic1"
   ]
  },
  {
   "cell_type": "code",
   "execution_count": 52,
   "id": "7fb686cc",
   "metadata": {},
   "outputs": [
    {
     "data": {
      "text/plain": [
       "True"
      ]
     },
     "execution_count": 52,
     "metadata": {},
     "output_type": "execute_result"
    }
   ],
   "source": [
    "'phone' in dic1"
   ]
  },
  {
   "cell_type": "code",
   "execution_count": 54,
   "id": "88ae725f",
   "metadata": {},
   "outputs": [
    {
     "data": {
      "text/plain": [
       "False"
      ]
     },
     "execution_count": 54,
     "metadata": {},
     "output_type": "execute_result"
    }
   ],
   "source": [
    "26 in dic1  #value는 안됌"
   ]
  },
  {
   "cell_type": "code",
   "execution_count": 55,
   "id": "83a7bb17",
   "metadata": {},
   "outputs": [
    {
     "data": {
      "text/plain": [
       "{'name': '김상민', 'age': 26, 'phone': '01044291188', 'birth': '12.12'}"
      ]
     },
     "execution_count": 55,
     "metadata": {},
     "output_type": "execute_result"
    }
   ],
   "source": [
    "dic1"
   ]
  },
  {
   "cell_type": "code",
   "execution_count": 56,
   "id": "869afee3",
   "metadata": {},
   "outputs": [],
   "source": [
    "dic1.clear()"
   ]
  },
  {
   "cell_type": "code",
   "execution_count": 57,
   "id": "bf0b7c77",
   "metadata": {},
   "outputs": [
    {
     "data": {
      "text/plain": [
       "{}"
      ]
     },
     "execution_count": 57,
     "metadata": {},
     "output_type": "execute_result"
    }
   ],
   "source": [
    "dic1"
   ]
  },
  {
   "cell_type": "code",
   "execution_count": 58,
   "id": "aa8077b4",
   "metadata": {},
   "outputs": [],
   "source": [
    "number = 1"
   ]
  },
  {
   "cell_type": "code",
   "execution_count": 61,
   "id": "9b2f1ff0",
   "metadata": {},
   "outputs": [],
   "source": [
    "def number_sum(num1, num2):\n",
    "    result = num1+num2\n",
    "    return result"
   ]
  },
  {
   "cell_type": "code",
   "execution_count": 64,
   "id": "24b6e971",
   "metadata": {},
   "outputs": [
    {
     "data": {
      "text/plain": [
       "134679584"
      ]
     },
     "execution_count": 64,
     "metadata": {},
     "output_type": "execute_result"
    }
   ],
   "source": [
    "number_sum(333534,134346050)"
   ]
  },
  {
   "cell_type": "code",
   "execution_count": 65,
   "id": "1b85d479",
   "metadata": {},
   "outputs": [
    {
     "data": {
      "text/plain": [
       "134679584"
      ]
     },
     "execution_count": 65,
     "metadata": {},
     "output_type": "execute_result"
    }
   ],
   "source": [
    "number = number_sum(333534,134346050)\n",
    "number"
   ]
  },
  {
   "cell_type": "code",
   "execution_count": 66,
   "id": "22949164",
   "metadata": {},
   "outputs": [
    {
     "data": {
      "text/plain": [
       "134679584"
      ]
     },
     "execution_count": 66,
     "metadata": {},
     "output_type": "execute_result"
    }
   ],
   "source": [
    "number"
   ]
  },
  {
   "cell_type": "code",
   "execution_count": 75,
   "id": "d9fecb44",
   "metadata": {},
   "outputs": [
    {
     "name": "stdout",
     "output_type": "stream",
     "text": [
      "첫번째 정수 입력 >> 3\n",
      "두번째 정수 입력 >> 10\n",
      "7\n"
     ]
    }
   ],
   "source": [
    "def number_minus(num1, num2):\n",
    "    result = 0\n",
    "    if num1 > num2 :\n",
    "        result = num1 - num2\n",
    "    else:\n",
    "        result = num2 - num1\n",
    "    return result"
   ]
  },
  {
   "cell_type": "code",
   "execution_count": 76,
   "id": "b7dabae6",
   "metadata": {},
   "outputs": [
    {
     "name": "stdout",
     "output_type": "stream",
     "text": [
      "첫번째 정수 입력 >> 3\n",
      "두번째 정수 입력 >> 10\n"
     ]
    },
    {
     "data": {
      "text/plain": [
       "7"
      ]
     },
     "execution_count": 76,
     "metadata": {},
     "output_type": "execute_result"
    }
   ],
   "source": [
    "num1 = int(input(\"첫번째 정수 입력 >> \"))\n",
    "num2 = int(input(\"두번째 정수 입력 >> \"))\n",
    "result = number_minus(num1, num2)\n",
    "result"
   ]
  },
  {
   "cell_type": "code",
   "execution_count": 7,
   "id": "73ea2167",
   "metadata": {
    "collapsed": true
   },
   "outputs": [],
   "source": [
    "def s_replace(voca):\n",
    "    if 'ㅋ' in voca:\n",
    "        result = voca.replace('ㅋ', '')\n",
    "    return result"
   ]
  },
  {
   "cell_type": "code",
   "execution_count": 9,
   "id": "9c1e0386",
   "metadata": {},
   "outputs": [
    {
     "name": "stdout",
     "output_type": "stream",
     "text": [
      "들어갈 값을 입력하시오 >> ㅋ을 모두 지워주세요 ㅋㅋㅋㅋㅋㅋㅋㅋㅋㅋㅋㅋㅋㅋㅋ\n"
     ]
    },
    {
     "data": {
      "text/plain": [
       "'을 모두 지워주세요 '"
      ]
     },
     "execution_count": 9,
     "metadata": {},
     "output_type": "execute_result"
    }
   ],
   "source": [
    "s = input(\"들어갈 값을 입력하시오 >> \")\n",
    "result = s_replace(s)\n",
    "result"
   ]
  },
  {
   "cell_type": "code",
   "execution_count": 14,
   "id": "711c617b",
   "metadata": {},
   "outputs": [],
   "source": [
    "def cal (num1, num2, op):\n",
    "    \"\"\"덧셈과 뺄셈을 계산하는 함수입니다!\"\"\"\n",
    "    if op == '+':\n",
    "        result = num1 + num2\n",
    "    else: \n",
    "        result = num1 - num2\n",
    "    return result"
   ]
  },
  {
   "cell_type": "code",
   "execution_count": 13,
   "id": "7b862e8e",
   "metadata": {},
   "outputs": [
    {
     "name": "stdout",
     "output_type": "stream",
     "text": [
      "첫 번째 정수 입력 >> 3\n",
      "두 번째 정수 입력 >> 33\n",
      "연산자 입력(+,-) >> -\n",
      "결과 : -30\n"
     ]
    }
   ],
   "source": [
    "num1 = int(input(\"첫 번째 정수 입력 >> \"))\n",
    "num2 = int(input(\"두 번째 정수 입력 >> \"))\n",
    "op = input(\"연산자 입력(+,-) >> \")\n",
    "result = cal(num1, num2, op)\n",
    "print(f\"결과 : {result}\")"
   ]
  },
  {
   "cell_type": "code",
   "execution_count": 16,
   "id": "cea54166",
   "metadata": {},
   "outputs": [
    {
     "name": "stdout",
     "output_type": "stream",
     "text": [
      "오늘 하루 정말 좋았습니다^^화이팅!\n"
     ]
    }
   ],
   "source": [
    "print(\"오늘 하루 정말 좋았습니다\", \"화이팅!\", sep='^^')"
   ]
  },
  {
   "cell_type": "code",
   "execution_count": 21,
   "id": "87e27ff5",
   "metadata": {},
   "outputs": [],
   "source": [
    "def divisor(nums):\n",
    "    for i in range(1, nums+1):\n",
    "        if(nums%i == 0):\n",
    "            print(i, end=\" \")"
   ]
  },
  {
   "cell_type": "code",
   "execution_count": 32,
   "id": "cde80e55",
   "metadata": {},
   "outputs": [
    {
     "name": "stdout",
     "output_type": "stream",
     "text": [
      "1\n"
     ]
    }
   ],
   "source": [
    "for i in range(1, 11, 1):\n",
    "    if(11%i == 0):\n",
    "        print(i)"
   ]
  },
  {
   "cell_type": "code",
   "execution_count": 22,
   "id": "3c8bd52c",
   "metadata": {},
   "outputs": [
    {
     "name": "stdout",
     "output_type": "stream",
     "text": [
      "1 2 5 10 "
     ]
    }
   ],
   "source": [
    "divisor(10)"
   ]
  },
  {
   "cell_type": "code",
   "execution_count": 23,
   "id": "db9553d2",
   "metadata": {},
   "outputs": [],
   "source": [
    "def add(*args):\n",
    "    print(args)"
   ]
  },
  {
   "cell_type": "code",
   "execution_count": 24,
   "id": "3d85e727",
   "metadata": {},
   "outputs": [
    {
     "name": "stdout",
     "output_type": "stream",
     "text": [
      "(1, 2, 3)\n"
     ]
    }
   ],
   "source": [
    "add(1,2,3)"
   ]
  },
  {
   "cell_type": "code",
   "execution_count": 25,
   "id": "6a743d02",
   "metadata": {},
   "outputs": [
    {
     "name": "stdout",
     "output_type": "stream",
     "text": [
      "(1, 2, 3, 4, 5, 6, 7, 8, 9, 10)\n"
     ]
    }
   ],
   "source": [
    "add(1,2,3,4,5,6,7,8,9,10)"
   ]
  },
  {
   "cell_type": "code",
   "execution_count": 42,
   "id": "a0613448",
   "metadata": {},
   "outputs": [],
   "source": [
    "def add(*args):\n",
    "    return sum(args)\n"
   ]
  },
  {
   "cell_type": "code",
   "execution_count": 44,
   "id": "e208d385",
   "metadata": {},
   "outputs": [
    {
     "data": {
      "text/plain": [
       "42572"
      ]
     },
     "execution_count": 44,
     "metadata": {},
     "output_type": "execute_result"
    }
   ],
   "source": [
    "add(1,2,3,3,4,3,42323,233)"
   ]
  },
  {
   "cell_type": "code",
   "execution_count": 1,
   "id": "a482e0b0",
   "metadata": {},
   "outputs": [],
   "source": [
    "review_naver = [\"윌 스미스가 하드캐리 ㅋㅋㅋㅋㅋㅋㅋㅋㅋㅋㅋㅋㅋ\",\n",
    "                \"쟈스민 넘 멋지고 팬 엄청 생길듯 ㅋ\",\n",
    "                \"기대보다 더욱 재밌는 영화였다^^\"\n",
    "               ]\n",
    "review_google = [\"색감도 노래도 너무 화려하고 재밌었어요 ㅋㅋㅋㅋㅋㅋㅋㅋ\",\n",
    "                 \"오늘부터 디즈니 팬입니다. ㅋㅋㅋㅋㅋ\",\n",
    "                 \"디즈니의 새로운 해석도 놀랍고, 윌스미스도 신의한수!\"\n",
    "                ]"
   ]
  },
  {
   "cell_type": "code",
   "execution_count": 7,
   "id": "0056917c",
   "metadata": {},
   "outputs": [
    {
     "ename": "AttributeError",
     "evalue": "'list' object has no attribute 'replace'",
     "output_type": "error",
     "traceback": [
      "\u001b[1;31m---------------------------------------------------------------------------\u001b[0m",
      "\u001b[1;31mAttributeError\u001b[0m                            Traceback (most recent call last)",
      "Input \u001b[1;32mIn [7]\u001b[0m, in \u001b[0;36m<cell line: 1>\u001b[1;34m()\u001b[0m\n\u001b[1;32m----> 1\u001b[0m \u001b[43mreview_naver\u001b[49m\u001b[38;5;241;43m.\u001b[39;49m\u001b[43mreplace\u001b[49m(\u001b[38;5;124m\"\u001b[39m\u001b[38;5;124mㅋ\u001b[39m\u001b[38;5;124m\"\u001b[39m, \u001b[38;5;124m\"\u001b[39m\u001b[38;5;124m\"\u001b[39m)\n",
      "\u001b[1;31mAttributeError\u001b[0m: 'list' object has no attribute 'replace'"
     ]
    }
   ],
   "source": [
    "review_naver.replace(\"ㅋ\", \"\")    #replace는 문자열에서만 사용가능 list에서는 사용불가능\n",
    "                                  # for i in @@@ 로 만들어서 replace를 사용해야한다"
   ]
  },
  {
   "cell_type": "code",
   "execution_count": 9,
   "id": "cf8646b4",
   "metadata": {},
   "outputs": [],
   "source": [
    "def string_replace(num_list):\n",
    "    for i in num_list:\n",
    "        print(i.replace(\"ㅋ\", \"\"))"
   ]
  },
  {
   "cell_type": "code",
   "execution_count": 10,
   "id": "14fa1456",
   "metadata": {},
   "outputs": [
    {
     "name": "stdout",
     "output_type": "stream",
     "text": [
      "윌 스미스가 하드캐리 \n",
      "쟈스민 넘 멋지고 팬 엄청 생길듯 \n",
      "기대보다 더욱 재밌는 영화였다^^\n",
      "색감도 노래도 너무 화려하고 재밌었어요 \n",
      "오늘부터 디즈니 팬입니다. \n",
      "디즈니의 새로운 해석도 놀랍고, 윌스미스도 신의한수!\n"
     ]
    }
   ],
   "source": [
    "string_replace(review_naver)\n",
    "string_replace(review_google)"
   ]
  },
  {
   "cell_type": "code",
   "execution_count": null,
   "id": "c200d8f6",
   "metadata": {},
   "outputs": [],
   "source": []
  },
  {
   "cell_type": "code",
   "execution_count": null,
   "id": "07809221",
   "metadata": {},
   "outputs": [],
   "source": []
  }
 ],
 "metadata": {
  "kernelspec": {
   "display_name": "Python 3 (ipykernel)",
   "language": "python",
   "name": "python3"
  },
  "language_info": {
   "codemirror_mode": {
    "name": "ipython",
    "version": 3
   },
   "file_extension": ".py",
   "mimetype": "text/x-python",
   "name": "python",
   "nbconvert_exporter": "python",
   "pygments_lexer": "ipython3",
   "version": "3.9.12"
  }
 },
 "nbformat": 4,
 "nbformat_minor": 5
}
