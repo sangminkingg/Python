{
 "cells": [
  {
   "cell_type": "code",
   "execution_count": null,
   "id": "a3b09254",
   "metadata": {},
   "outputs": [],
   "source": [
    "if a > 10 :\n",
    "    "
   ]
  },
  {
   "cell_type": "code",
   "execution_count": 1,
   "id": "33830e2e",
   "metadata": {},
   "outputs": [
    {
     "name": "stdout",
     "output_type": "stream",
     "text": [
      "실행문자 실행\n"
     ]
    }
   ],
   "source": [
    "if True :\n",
    "    print(\"실행문자 실행\")"
   ]
  },
  {
   "cell_type": "code",
   "execution_count": 2,
   "id": "de483e9a",
   "metadata": {},
   "outputs": [],
   "source": [
    "if False:\n",
    "    print(\"실행문자 실행\")"
   ]
  },
  {
   "cell_type": "code",
   "execution_count": 3,
   "id": "37f0801a",
   "metadata": {},
   "outputs": [
    {
     "name": "stdout",
     "output_type": "stream",
     "text": [
      "실행문자 실행\n",
      "if문 밖에 있는 실행문장\n"
     ]
    }
   ],
   "source": [
    "if True:\n",
    "    print(\"실행문자 실행\")\n",
    "print(\"if문 밖에 있는 실행문장\")"
   ]
  },
  {
   "cell_type": "code",
   "execution_count": 5,
   "id": "ac857539",
   "metadata": {},
   "outputs": [
    {
     "name": "stdout",
     "output_type": "stream",
     "text": [
      "if문 밖에 있는 실행문장\n"
     ]
    }
   ],
   "source": [
    "if False:\n",
    "    print(\"실행문장 실행\")\n",
    "print(\"if문 밖에 있는 실행문장\")"
   ]
  },
  {
   "cell_type": "code",
   "execution_count": 11,
   "id": "4231762a",
   "metadata": {},
   "outputs": [
    {
     "name": "stdout",
     "output_type": "stream",
     "text": [
      "money >>> 9000\n",
      "택시를 탄다\n"
     ]
    }
   ],
   "source": [
    "money = 11000\n",
    "if money >= 10000:\n",
    "    print(\"택시를 탄다\")"
   ]
  },
  {
   "cell_type": "code",
   "execution_count": 7,
   "id": "15a69ee7",
   "metadata": {},
   "outputs": [],
   "source": [
    "money = 9000\n",
    "if money >= 10000:\n",
    "    print(\"택시를 탄다\")"
   ]
  },
  {
   "cell_type": "code",
   "execution_count": 14,
   "id": "a541ecf6",
   "metadata": {},
   "outputs": [
    {
     "name": "stdout",
     "output_type": "stream",
     "text": [
      "버스를 탄다\n"
     ]
    }
   ],
   "source": [
    "moeny = 9000\n",
    "if moeny >=10000 :\n",
    "    print(\"택시를 탄다\")\n",
    "else:\n",
    "    print(\"버스를 탄다\")"
   ]
  },
  {
   "cell_type": "code",
   "execution_count": 15,
   "id": "a2a4d0b7",
   "metadata": {},
   "outputs": [
    {
     "name": "stdout",
     "output_type": "stream",
     "text": [
      "택시를 탄다\n"
     ]
    }
   ],
   "source": [
    "money = 11000\n",
    "print(\"택시를 탄다\") if money >= 10000 else print(\"버스를 탄다\")"
   ]
  },
  {
   "cell_type": "code",
   "execution_count": 3,
   "id": "f6eac969",
   "metadata": {},
   "outputs": [
    {
     "name": "stdout",
     "output_type": "stream",
     "text": [
      "정수 입력 >> 225\n",
      "3과 5의 배수입니다.\n"
     ]
    }
   ],
   "source": [
    "num = int(input(\"정수 입력 >> \"))\n",
    "if num%3 == 0 or num%5 == 0 :\n",
    "    print(\"3과 5의 배수입니다.\")\n",
    "else:\n",
    "    print(\"3과 5의 배수가 아닙니다.\")"
   ]
  },
  {
   "cell_type": "code",
   "execution_count": 17,
   "id": "7533b271",
   "metadata": {},
   "outputs": [
    {
     "name": "stdout",
     "output_type": "stream",
     "text": [
      "주민등록 번호 뒷자리 입력 >> 35584\n",
      "당신은 남자 입니다 ^^7\n"
     ]
    }
   ],
   "source": [
    "num = input(\"주민등록 번호 뒷자리 입력 >> \")\n",
    "if num[0] == '1' or num[0] == '3':\n",
    "    print(\"당신은 남자 입니다 ^^7\")\n",
    "else:\n",
    "    print(\"당신은 여자 입니다^^*\")\n"
   ]
  },
  {
   "cell_type": "code",
   "execution_count": 22,
   "id": "bc28685f",
   "metadata": {},
   "outputs": [
    {
     "name": "stdout",
     "output_type": "stream",
     "text": [
      "주민등록 번호 뒷자리 입력 >> 51\n",
      "당신은 여자 입니다^^*\n"
     ]
    }
   ],
   "source": [
    "num = int(input(\"주민등록 번호 뒷자리 입력 >> \"))  ##크기가 정해져 있는 숫자 이기때문에 몫으로도 알 수 있다.\n",
    "\n",
    "if num//1000000 == 1 or num//1000000 == 3:\n",
    "    print(\"당신은 남자 입니다 ^^7\")\n",
    "else:\n",
    "    print(\"당신은 여자 입니다^^*\")\n",
    "    "
   ]
  },
  {
   "cell_type": "code",
   "execution_count": 30,
   "id": "aa387f53",
   "metadata": {},
   "outputs": [
    {
     "name": "stdout",
     "output_type": "stream",
     "text": [
      "이름 입력 >> 성우\n",
      "나이 입력 >> 22\n",
      "카드 소지 여부(소지, 미소지) >> 소지\n",
      "성우님은 입장료 24500.0 원에 예약되셨습니다.\n",
      "성우님은 입장료 35000원에 예약되셨습니다.\n"
     ]
    }
   ],
   "source": [
    "name = input(\"이름 입력 >> \")\n",
    "old = int(input(\"나이 입력 >> \"))\n",
    "m = 35000\n",
    "km = 17500\n",
    "card = input(\"카드 소지 여부(소지, 미소지) >> \")\n",
    "if old >= 19 and len(card) == 2:\n",
    "    print(f\"{name}님은 입장료 {m*0.7} 원에 예약되셨습니다.\")\n",
    "if old < 19 and len(card) == 2 :\n",
    "    print(f\"{name}님은 입장료 {km * 0.9}원에 예약되셨습니다.\")\n",
    "if old < 19 and len(card) == 3:\n",
    "    print(f\"{name}님은 입장료 {km}원에 예약되셨습니다.\")\n",
    "else:\n",
    "    print(f\"{name}님은 입장료 {m}원에 예약되셨습니다.\")\n"
   ]
  },
  {
   "cell_type": "code",
   "execution_count": 37,
   "id": "3f3d35da",
   "metadata": {},
   "outputs": [
    {
     "name": "stdout",
     "output_type": "stream",
     "text": [
      "이름 입력 >> 성우\n",
      "나이 입력 >> 20\n",
      "카드 소지 여부(소지, 미소지)>>소지\n",
      "성우님은 입장료 24500원에 예약되셨습니다.\n"
     ]
    }
   ],
   "source": [
    "name = input(\"이름 입력 >> \")\n",
    "age = int(input(\"나이 입력 >> \"))\n",
    "card = input(\"카드 소지 여부(소지, 미소지)>>\")\n",
    "fee = 35000\n",
    "\n",
    "if age < 19 :\n",
    "    fee *=0.5\n",
    "    if card == \"소지\":\n",
    "        fee *= 0.9\n",
    "        \n",
    "else :\n",
    "    fee = fee\n",
    "    if card == \"소지\" :\n",
    "        fee *= 0.7\n",
    "print(f\"{name}님은 입장료 {int(fee)}원에 예약되셨습니다.\")\n",
    "        "
   ]
  },
  {
   "cell_type": "code",
   "execution_count": 47,
   "id": "63e9070b",
   "metadata": {},
   "outputs": [
    {
     "name": "stdout",
     "output_type": "stream",
     "text": [
      "마스크 개수 입력 >> 25\n",
      "8개들이 포장지 개수 : 3\n",
      "개들이 포장지 개수 : 1\n"
     ]
    }
   ],
   "source": [
    "countOfMast = int(input(\"마스크 개수 입력 >> \"))\n",
    "if countOfMast%8 == 0:\n",
    "    print(f\"8개들이 포장지 개수 : {countOfMast//8}\")\n",
    "    print(\"5개들이 포장지 개수 : 0\")\n",
    "else:\n",
    "    print(f\"8개들이 포장지 개수 : {countOfMast//8}\")\n",
    "    print(f\"5개들이 포장지 개수 : {countOfMast%8}\")"
   ]
  },
  {
   "cell_type": "code",
   "execution_count": 52,
   "id": "e382e04f",
   "metadata": {},
   "outputs": [
    {
     "name": "stdout",
     "output_type": "stream",
     "text": [
      "마스크 개수 입력 >> 88\n",
      "8개 들이 포장지 개수 : 11\n",
      "5개 들이 포장지 개수 : 0\n"
     ]
    }
   ],
   "source": [
    "countOfMask = int(input(\"마스크 개수 입력 >> \"))\n",
    "#8들이 개수\n",
    "eightBox = countOfMask // 8\n",
    "#8개들이 포장 후에 5개들이 포장지로 포장한 다음 남은 마스크가 1개라도 있다면\n",
    "if ((countOfMask % 8) % 5) > 0 :\n",
    "    fiveBox = ((countOfMask % 8) // 5) + 1\n",
    "#8개들이, 5개들이 포장한  후 남은 마스크가 하나도 없을 경우\n",
    "else:\n",
    "    fiveBox = ((countOfMask % 8) // 5)\n",
    "\n",
    "print(f\"8개 들이 포장지 개수 : {eightBox}\")\n",
    "print(f\"5개 들이 포장지 개수 : {fiveBox}\")"
   ]
  },
  {
   "cell_type": "code",
   "execution_count": 54,
   "id": "b36e3838",
   "metadata": {},
   "outputs": [
    {
     "name": "stdout",
     "output_type": "stream",
     "text": [
      "실행문자1\n"
     ]
    }
   ],
   "source": [
    "if True :\n",
    "    print(\"실행문자1\")\n",
    "elif True:\n",
    "    print(\"실행문자2\")"
   ]
  },
  {
   "cell_type": "code",
   "execution_count": 55,
   "id": "c7b96c4d",
   "metadata": {},
   "outputs": [
    {
     "name": "stdout",
     "output_type": "stream",
     "text": [
      "실행문자2\n"
     ]
    }
   ],
   "source": [
    "if False :\n",
    "    print(\"실행문자1\")\n",
    "elif True:\n",
    "    print(\"실행문자2\")"
   ]
  },
  {
   "cell_type": "code",
   "execution_count": 64,
   "id": "0d96646e",
   "metadata": {},
   "outputs": [
    {
     "name": "stdout",
     "output_type": "stream",
     "text": [
      "첫번째 정수 입력 >> 7\n",
      "두번째 정수 입력 >> 7\n",
      "두 정수가 똑같습니다.\n"
     ]
    }
   ],
   "source": [
    "#elif 실습 \n",
    "num1 = int(input(\"첫번째 정수 입력 >> \"))\n",
    "num2 = int(input(\"두번째 정수 입력 >> \"))\n",
    "if num1 > num2 :\n",
    "    print(\"첫번째 정수가 더 큽니다,\")\n",
    "elif num1 < num2 :\n",
    "    print(\"두번째 정수가 더 큽니다.\")\n",
    "else:\n",
    "    print(\"두 정수가 똑같습니다.\")\n",
    "    "
   ]
  },
  {
   "cell_type": "code",
   "execution_count": 76,
   "id": "d9d6c167",
   "metadata": {},
   "outputs": [
    {
     "name": "stdout",
     "output_type": "stream",
     "text": [
      "점수 입력 >> 555\n",
      "555은 점수 초과입니다.\n"
     ]
    }
   ],
   "source": [
    "score = int(input(\"점수 입력 >> \"))\n",
    "if 100 >= score >= 90 :\n",
    "    print(f\"{score}점은 A학점 입니다.\")\n",
    "elif 90 > score >= 80 :\n",
    "    print(f\"{score}점은 B학점 입니다.\")\n",
    "elif 80 > score >= 70 :\n",
    "    print(f\"{score}점은 C학점 입니다.\")\n",
    "elif 70 > score >= 60 :\n",
    "    print(f\"{score}점은 D학점 입니다.\")\n",
    "elif 100 < score :\n",
    "    print(f\"{score}은 점수 초과입니다.\")\n",
    "else :\n",
    "    print(f\"{score}점은 F학점 입니다.\")"
   ]
  },
  {
   "cell_type": "code",
   "execution_count": 80,
   "id": "b5b6c338",
   "metadata": {},
   "outputs": [
    {
     "name": "stdout",
     "output_type": "stream",
     "text": [
      "점수 입력 >> 66\n",
      "66점은 D학점 입니다.\n"
     ]
    }
   ],
   "source": [
    "score = int(input(\"점수 입력 >> \"))\n",
    "\n",
    "if score >= 90 :\n",
    "    grade = 'A'\n",
    "elif score >= 80 :\n",
    "    grade = 'B'\n",
    "elif score >= 70 :\n",
    "    grade = 'C'\n",
    "elif score >= 60 :\n",
    "    grade = 'D'\n",
    "\n",
    "else :\n",
    "    grad ='F'\n",
    "print(f\"{score}점은 {grade}학점 입니다.\")"
   ]
  },
  {
   "cell_type": "code",
   "execution_count": 83,
   "id": "4b70435d",
   "metadata": {},
   "outputs": [
    {
     "name": "stdout",
     "output_type": "stream",
     "text": [
      "x값을 입력하세요 : -6\n",
      "y값을 입력하세요 : -7\n",
      "좌표(-6,-7)는 3사분면 입니다,\n"
     ]
    }
   ],
   "source": [
    "x = int(input(\"x값을 입력하세요 : \"))\n",
    "y = int(input(\"y값을 입력하세요 : \"))\n",
    "if x > 0 and y > 0 :\n",
    "    print(f\"좌표({x},{y})는 1사분면 입니다,\")\n",
    "elif x > 0 and y < 0 :\n",
    "    print(f\"좌표({x},{y})는 4사분면 입니다,\")\n",
    "elif x < 0 and y < 0 :\n",
    "    print(f\"좌표({x},{y})는 3사분면 입니다,\")\n",
    "elif x < 0 and y >  0 :\n",
    "    print(f\"좌표({x},{y})는 2사분면 입니다,\")\n",
    "\n",
    "else :\n",
    "    print(\"원점입니다.\")"
   ]
  },
  {
   "cell_type": "code",
   "execution_count": null,
   "id": "78387587",
   "metadata": {},
   "outputs": [],
   "source": [
    "x = int(input(\"x값을 입력하세요 : \"))\n",
    "y = int(input(\"y값을 입력하세요 : \"))\n",
    "if x > 0 and y > 0 :\n",
    "    print(f\"좌표({x},{y})는 1사분면 입니다,\")\n",
    "elif x > 0 and y < 0 :\n",
    "    print(f\"좌표({x},{y})는 4사분면 입니다,\")\n",
    "elif x < 0 and y < 0 :\n",
    "    print(f\"좌표({x},{y})는 3사분면 입니다,\")\n",
    "elif x < 0 and y >  0 :\n",
    "    print(f\"좌표({x},{y})는 2사분면 입니다,\")\n",
    "\n",
    "else :\n",
    "    print(\"원점입니다.\")"
   ]
  },
  {
   "cell_type": "code",
   "execution_count": 85,
   "id": "8a3994a3",
   "metadata": {},
   "outputs": [
    {
     "name": "stdout",
     "output_type": "stream",
     "text": [
      "x값을 입력하세요 : -1\n",
      "y값을 입력하세요 : -2\n",
      "좌표(-1,-2)는 4사분면 입니다.\n"
     ]
    }
   ],
   "source": [
    "x = int(input(\"x값을 입력하세요 : \"))\n",
    "y = int(input(\"y값을 입력하세요 : \"))\n",
    "if x > 0 and y > 0  :\n",
    "    field = '1'\n",
    "elif x < 0 and y > 0:\n",
    "    field = '2'\n",
    "elif x <0 and y > 0:\n",
    "    field = '3'\n",
    "else:\n",
    "    field = '4'\n",
    "    \n",
    "print(f\"좌표({x},{y})는 {field}사분면 입니다.\")\n",
    "    "
   ]
  },
  {
   "cell_type": "code",
   "execution_count": 100,
   "id": "dd7018bf",
   "metadata": {},
   "outputs": [
    {
     "name": "stdout",
     "output_type": "stream",
     "text": [
      "나이 입력 >> 55\n",
      "요금은 1500원 입니다.\n"
     ]
    }
   ],
   "source": [
    "age = int(input(\"나이 입력 >> \")) # 버스 기본요금 프로그램\n",
    "fee = 1500\n",
    "if age < 5 :\n",
    "    fee *= 0.5\n",
    "elif age < 20: # 5 <= age 를 쓸 필요가 없다.\n",
    "    fee *= 0.75\n",
    "elif age >= 65 :\n",
    "    fee *= 0.25\n",
    "\n",
    "else :\n",
    "    fee = fee\n",
    "\n",
    "print(f\"요금은 {int(fee)}원 입니다.\")"
   ]
  },
  {
   "cell_type": "code",
   "execution_count": 2,
   "id": "9ecab70c",
   "metadata": {},
   "outputs": [
    {
     "name": "stdout",
     "output_type": "stream",
     "text": [
      "insert coin >> 2700\n",
      "메뉴 선택 >> 2\n",
      "잔돈 >> 1000원 1개, 500원 1개, 100원 4원 \n"
     ]
    }
   ],
   "source": [
    "insertcoin = int(input(\"insert coin >> \")) #자판기 만들기 내가 만든거\n",
    "drink = int(input(\"메뉴 선택 >> \"))\n",
    "if drink == 1:\n",
    "    coin = insertcoin - 600\n",
    "elif drink == 2:\n",
    "    coin = insertcoin - 800\n",
    "elif drink == 3:\n",
    "    coin = insertcoin - 1000\n",
    "if coin < 600 :\n",
    "    print(\"돈을 더 넣어주세요\") \n",
    "    coin = insertcoin\n",
    "\n",
    "th = coin // 1000\n",
    "oh = (coin%1000)//500\n",
    "hd = (coin % 500)//100\n",
    "\n",
    "print(f\"잔돈 >> 1000원 {th}개, 500원 {oh}개, 100원 {hd}원 \")"
   ]
  },
  {
   "cell_type": "markdown",
   "id": "252ebd9f",
   "metadata": {},
   "source": [
    "###자판기문제 풀이"
   ]
  },
  {
   "cell_type": "code",
   "execution_count": 6,
   "id": "81298f1d",
   "metadata": {},
   "outputs": [
    {
     "name": "stdout",
     "output_type": "stream",
     "text": [
      "insert coin >> 2000\n",
      "메뉴 선택 >> 6\n",
      "잘못된 메뉴 입니다!\n",
      "잔돈 >> 천원 2개, 오백원0개, 백원0개\n"
     ]
    }
   ],
   "source": [
    "money = int(input(\"insert coin >> \"))\n",
    "num = int(input(\"메뉴 선택 >> \"))\n",
    "\n",
    "#메뉴 선택하기\n",
    "if money >= 600 :\n",
    "    if num == 1 :\n",
    "        money -= 600\n",
    "    elif num == 2 :\n",
    "        money -= 800\n",
    "    elif num == 3 :\n",
    "        money -= 1000\n",
    "    else :\n",
    "        print(\"잘못된 메뉴 입니다!\")\n",
    "    #잔돈 계산\n",
    "    cash_1000, cash_500, cash_100 = 0,0,0\n",
    "\n",
    "    if money >= 1000:\n",
    "        cash_1000 = money//1000\n",
    "        cash_500 = (money%1000)//500\n",
    "        cash_100 = (money%500)//100\n",
    "    elif money > 500 :\n",
    "        cash_500 = money // 500\n",
    "        cash_100 = money % 500 // 100\n",
    "    else :\n",
    "        cash_100 = money // 100\n",
    "    \n",
    "    print(f\"잔돈 >> 천원 {cash_1000}개, 오백원{cash_500}개, 백원{cash_100}개\")\n",
    "    \n",
    "    \n",
    "else:\n",
    "    print(\"돈을 더 넣어주세요~~!\")"
   ]
  },
  {
   "cell_type": "code",
   "execution_count": null,
   "id": "28e7c103",
   "metadata": {},
   "outputs": [],
   "source": []
  },
  {
   "cell_type": "code",
   "execution_count": null,
   "id": "de7189d3",
   "metadata": {},
   "outputs": [],
   "source": []
  },
  {
   "cell_type": "code",
   "execution_count": null,
   "id": "9ae317ac",
   "metadata": {},
   "outputs": [],
   "source": []
  },
  {
   "cell_type": "code",
   "execution_count": null,
   "id": "013a6b1c",
   "metadata": {},
   "outputs": [],
   "source": []
  }
 ],
 "metadata": {
  "kernelspec": {
   "display_name": "Python 3 (ipykernel)",
   "language": "python",
   "name": "python3"
  },
  "language_info": {
   "codemirror_mode": {
    "name": "ipython",
    "version": 3
   },
   "file_extension": ".py",
   "mimetype": "text/x-python",
   "name": "python",
   "nbconvert_exporter": "python",
   "pygments_lexer": "ipython3",
   "version": "3.9.12"
  }
 },
 "nbformat": 4,
 "nbformat_minor": 5
}
