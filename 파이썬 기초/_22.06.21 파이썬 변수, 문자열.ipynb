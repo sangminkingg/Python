{
 "cells": [
  {
   "cell_type": "code",
   "execution_count": null,
   "id": "631e7852",
   "metadata": {},
   "outputs": [],
   "source": [
    "num1 = 13\n",
    "print(num1)"
   ]
  },
  {
   "cell_type": "code",
   "execution_count": null,
   "id": "d2ad04e7",
   "metadata": {},
   "outputs": [],
   "source": [
    "num2 = 25\n",
    "print(num2)"
   ]
  },
  {
   "cell_type": "code",
   "execution_count": null,
   "id": "d6b1f5d3",
   "metadata": {},
   "outputs": [],
   "source": [
    "num3 = 77\n",
    "print(num3)"
   ]
  },
  {
   "cell_type": "code",
   "execution_count": null,
   "id": "2d6329af",
   "metadata": {},
   "outputs": [],
   "source": [
    "type(num2) #변수의 자료형 확인"
   ]
  },
  {
   "cell_type": "code",
   "execution_count": null,
   "id": "a8842391",
   "metadata": {},
   "outputs": [],
   "source": [
    "num4 = 3.14\n",
    "num4"
   ]
  },
  {
   "cell_type": "code",
   "execution_count": null,
   "id": "4762ddc5",
   "metadata": {},
   "outputs": [],
   "source": [
    "type(num4)"
   ]
  },
  {
   "cell_type": "code",
   "execution_count": 1,
   "id": "33472121",
   "metadata": {},
   "outputs": [
    {
     "data": {
      "text/plain": [
       "'Life is short You need Python'"
      ]
     },
     "execution_count": 1,
     "metadata": {},
     "output_type": "execute_result"
    }
   ],
   "source": [
    "str1 = \"Life is short You need Python\"\n",
    "str1"
   ]
  },
  {
   "cell_type": "code",
   "execution_count": 2,
   "id": "fdf8ddcd",
   "metadata": {},
   "outputs": [
    {
     "data": {
      "text/plain": [
       "str"
      ]
     },
     "execution_count": 2,
     "metadata": {},
     "output_type": "execute_result"
    }
   ],
   "source": [
    "type(str1)"
   ]
  },
  {
   "cell_type": "code",
   "execution_count": null,
   "id": "d4312a0d",
   "metadata": {},
   "outputs": [],
   "source": [
    "number = 10\n",
    "Number = 20\n",
    "print(\"number :\", number)\n",
    "print(\"Number :\", Number)"
   ]
  },
  {
   "cell_type": "code",
   "execution_count": null,
   "id": "5328e8fa",
   "metadata": {},
   "outputs": [],
   "source": [
    "import keyword\n",
    "keyword.kwlist"
   ]
  },
  {
   "cell_type": "code",
   "execution_count": null,
   "id": "8945a9c4",
   "metadata": {},
   "outputs": [],
   "source": [
    "a = 10\n",
    "b = 15\n",
    "print(a)\n",
    "print(b)"
   ]
  },
  {
   "cell_type": "code",
   "execution_count": null,
   "id": "b94ab215",
   "metadata": {},
   "outputs": [],
   "source": [
    "a, b = 10, 15\n",
    "print(a)\n",
    "print(b)"
   ]
  },
  {
   "cell_type": "code",
   "execution_count": null,
   "id": "d946b328",
   "metadata": {},
   "outputs": [],
   "source": [
    "str1 = str2 = \"python\"\n",
    "print(str1)\n",
    "print(str2)"
   ]
  },
  {
   "cell_type": "code",
   "execution_count": null,
   "id": "67122184",
   "metadata": {},
   "outputs": [],
   "source": [
    "x = 100\n",
    "y = 200\n",
    "sum = x + y\n",
    "print(sum)"
   ]
  },
  {
   "cell_type": "code",
   "execution_count": 1,
   "id": "8ea542d9",
   "metadata": {},
   "outputs": [
    {
     "data": {
      "text/plain": [
       "6"
      ]
     },
     "execution_count": 1,
     "metadata": {},
     "output_type": "execute_result"
    }
   ],
   "source": [
    "sum([1,2,3])"
   ]
  },
  {
   "cell_type": "code",
   "execution_count": 4,
   "id": "2032e2e3",
   "metadata": {},
   "outputs": [
    {
     "ename": "SyntaxError",
     "evalue": "invalid syntax (3758320302.py, line 1)",
     "output_type": "error",
     "traceback": [
      "\u001b[1;36m  Input \u001b[1;32mIn [4]\u001b[1;36m\u001b[0m\n\u001b[1;33m    s = 'she's gone'\u001b[0m\n\u001b[1;37m             ^\u001b[0m\n\u001b[1;31mSyntaxError\u001b[0m\u001b[1;31m:\u001b[0m invalid syntax\n"
     ]
    }
   ],
   "source": [
    "s = 'she's gone'\n",
    "s"
   ]
  },
  {
   "cell_type": "code",
   "execution_count": 10,
   "id": "b6a8ced8",
   "metadata": {},
   "outputs": [
    {
     "name": "stdout",
     "output_type": "stream",
     "text": [
      "he said that \"she is gone\"\n",
      "he said that \"she is gone\"\n"
     ]
    }
   ],
   "source": [
    "s1 = 'he said that \"she is gone\"'\n",
    "s2 = \"he said that \\\"she is gone\\\"\"\n",
    "print(s1)\n",
    "print(s2)"
   ]
  },
  {
   "cell_type": "code",
   "execution_count": 11,
   "id": "e9a8c854",
   "metadata": {},
   "outputs": [
    {
     "name": "stdout",
     "output_type": "stream",
     "text": [
      "여러줄로 구성된 \n",
      "문자열을 하나로 대입할 때\n"
     ]
    }
   ],
   "source": [
    "s = \"여러줄로 구성된 \\n문자열을 하나로 대입할 때\"\n",
    "print(s)"
   ]
  },
  {
   "cell_type": "code",
   "execution_count": 12,
   "id": "ea016a16",
   "metadata": {},
   "outputs": [
    {
     "name": "stdout",
     "output_type": "stream",
     "text": [
      "여러줄로 구성된\n",
      "문자열을 하나로\n",
      "대입할 때\n"
     ]
    }
   ],
   "source": [
    "s = '''여러줄로 구성된\n",
    "문자열을 하나로\n",
    "대입할 때'''\n",
    "print(s)"
   ]
  },
  {
   "cell_type": "code",
   "execution_count": 13,
   "id": "90345de4",
   "metadata": {},
   "outputs": [
    {
     "name": "stdout",
     "output_type": "stream",
     "text": [
      "여러줄로 구성된\n",
      "문자열을 하나로\n",
      "대입할 때\n"
     ]
    }
   ],
   "source": [
    "s = \"\"\"여러줄로 구성된\n",
    "문자열을 하나로\n",
    "대입할 때\"\"\"\n",
    "print(s)"
   ]
  },
  {
   "cell_type": "code",
   "execution_count": 18,
   "id": "1627f8f2",
   "metadata": {},
   "outputs": [
    {
     "name": "stdout",
     "output_type": "stream",
     "text": [
      "여러줄로 구성된\n",
      "문자열을 \t하나로\n",
      "대입할 때\n"
     ]
    }
   ],
   "source": [
    "s = '''여러줄로 구성된\n",
    "문자열을 \\t하나로\n",
    "대입할 때'''\n",
    "print(s)"
   ]
  },
  {
   "cell_type": "code",
   "execution_count": 21,
   "id": "c0374fe8",
   "metadata": {},
   "outputs": [
    {
     "name": "stdout",
     "output_type": "stream",
     "text": [
      "S\n",
      "y\n"
     ]
    }
   ],
   "source": [
    "s = \"My name is SW\"\n",
    "print(s[-2])\n",
    "print(s[-12])"
   ]
  },
  {
   "cell_type": "code",
   "execution_count": 36,
   "id": "1e6f7f6c",
   "metadata": {},
   "outputs": [
    {
     "name": "stdout",
     "output_type": "stream",
     "text": [
      "My\n",
      "name\n",
      "is\n"
     ]
    }
   ],
   "source": [
    "s = \"My name is SW\"\n",
    "print(s[:2])\n",
    "print(s[3:7])\n",
    "print(s[8:10])"
   ]
  },
  {
   "cell_type": "code",
   "execution_count": 23,
   "id": "58ff5581",
   "metadata": {},
   "outputs": [
    {
     "name": "stdout",
     "output_type": "stream",
     "text": [
      "My name\n",
      "My name\n"
     ]
    }
   ],
   "source": [
    "s = \"My name is SW\"\n",
    "print(s[0:7])\n",
    "print(s[:7])"
   ]
  },
  {
   "cell_type": "code",
   "execution_count": 28,
   "id": "6c9ddbe8",
   "metadata": {},
   "outputs": [
    {
     "name": "stdout",
     "output_type": "stream",
     "text": [
      "is SW\n",
      "is SW\n",
      "is SW\n"
     ]
    }
   ],
   "source": [
    "s = \"My name is SW\"\n",
    "print(s[8:13])\n",
    "print(s[8:])\n",
    "print(s[-5:])"
   ]
  },
  {
   "cell_type": "code",
   "execution_count": 33,
   "id": "425f7c73",
   "metadata": {},
   "outputs": [
    {
     "name": "stdout",
     "output_type": "stream",
     "text": [
      "My name is SW\n",
      "My name is SW\n",
      "My name is SW\n"
     ]
    }
   ],
   "source": [
    "s = \"My name is SW\"\n",
    "print(s[:])\n",
    "print(s)\n",
    "print(s[-13:])"
   ]
  },
  {
   "cell_type": "code",
   "execution_count": 35,
   "id": "fa38f200",
   "metadata": {},
   "outputs": [
    {
     "name": "stdout",
     "output_type": "stream",
     "text": [
      "날짜: 2020년 3월 3일\n",
      "날씨: 맑음\n"
     ]
    }
   ],
   "source": [
    "s = \"2020년 3월 3일의 날씨는 맑음입니다.\"\n",
    "print(\"날짜:\",s[0:11])\n",
    "print(\"날씨:\",s[-6:-4])"
   ]
  }
 ],
 "metadata": {
  "kernelspec": {
   "display_name": "Python 3 (ipykernel)",
   "language": "python",
   "name": "python3"
  },
  "language_info": {
   "codemirror_mode": {
    "name": "ipython",
    "version": 3
   },
   "file_extension": ".py",
   "mimetype": "text/x-python",
   "name": "python",
   "nbconvert_exporter": "python",
   "pygments_lexer": "ipython3",
   "version": "3.9.12"
  }
 },
 "nbformat": 4,
 "nbformat_minor": 5
}
