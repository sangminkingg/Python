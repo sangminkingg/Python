{
 "cells": [
  {
   "cell_type": "code",
   "execution_count": null,
   "id": "038364a6",
   "metadata": {},
   "outputs": [],
   "source": [
    "for i in range(1, 1001):\n",
    "    print(i)aaa"
   ]
  },
  {
   "cell_type": "code",
   "execution_count": 1,
   "id": "a1d60597",
   "metadata": {},
   "outputs": [
    {
     "name": "stdout",
     "output_type": "stream",
     "text": [
      "1\n",
      "2\n",
      "3\n"
     ]
    }
   ],
   "source": [
    "number = 1\n",
    "while number <= 3:\n",
    "    print(number)\n",
    "    number += 1"
   ]
  },
  {
   "cell_type": "code",
   "execution_count": null,
   "id": "3b87fad0",
   "metadata": {},
   "outputs": [],
   "source": [
    "py = 0\n",
    "while py < 10:\n",
    "    print(\"파이썬 최고!!\")\n",
    "    py += 1"
   ]
  },
  {
   "cell_type": "code",
   "execution_count": null,
   "id": "6d58e52b",
   "metadata": {},
   "outputs": [],
   "source": [
    "while True :\n",
    "    print('무한루프')\n",
    "    break"
   ]
  },
  {
   "cell_type": "code",
   "execution_count": null,
   "id": "9ed7a0c7",
   "metadata": {},
   "outputs": [],
   "source": [
    "number = 1\n",
    "while True:\n",
    "    print(number)\n",
    "    number += 1\n",
    "    if number > 3:\n",
    "        break"
   ]
  },
  {
   "cell_type": "code",
   "execution_count": null,
   "id": "0594cdd9",
   "metadata": {},
   "outputs": [],
   "source": [
    "num = 1\n",
    "while num <= 10:\n",
    "    print(f\"{num}번째 반복중..\")\n",
    "    if num >= 4:\n",
    "        print(\"여기서 부터는 num이 증가하지 않습니다...\")\n",
    "        continue\n",
    "    num += 1"
   ]
  },
  {
   "cell_type": "code",
   "execution_count": null,
   "id": "5f785cb1",
   "metadata": {},
   "outputs": [],
   "source": [
    "while True:\n",
    "    name = input(\"이름 입력 >> \")\n",
    "    \n",
    "    if name == \"최성우\":\n",
    "        print(f\"{name} 멋지다\")\n",
    "        break\n",
    "        \n",
    "    print(f\"{name} 최고!! \")"
   ]
  },
  {
   "cell_type": "code",
   "execution_count": null,
   "id": "9f2020c2",
   "metadata": {},
   "outputs": [],
   "source": [
    "while True:\n",
    "    num1 = int(input(\"첫 번째 정수 입력 >> \"))\n",
    "    num2 = int(input(\"두 번째 정수 입력 >> \"))\n",
    "    \n",
    "    if num1 == 0 and num2 == 0:\n",
    "        print(\"프로그램이 종료되었습니다.\")\n",
    "        break\n",
    "        \n",
    "    print(f\"두 정수의 합 : {num1+num2} \")\n",
    "        "
   ]
  },
  {
   "cell_type": "code",
   "execution_count": null,
   "id": "00498c94",
   "metadata": {},
   "outputs": [],
   "source": [
    "nw = int(input(\"현재 몸무게 : \"))\n",
    "gw = int(input(\"목표 몸무게 : \"))\n",
    "num = 1\n",
    "while nw >= gw:\n",
    "    ww = int(input(f\"{num}주차별 감량 몸무게 : \"))\n",
    "    num += 1 \n",
    "    nw -= ww\n",
    "\n",
    "print(f\"{nw}kg 달성 !! 축하합니다.\")"
   ]
  },
  {
   "cell_type": "code",
   "execution_count": null,
   "id": "b5f03b1f",
   "metadata": {},
   "outputs": [],
   "source": [
    "import random\n",
    "random.randint(1, 50)"
   ]
  },
  {
   "cell_type": "code",
   "execution_count": null,
   "id": "079e65e8",
   "metadata": {},
   "outputs": [],
   "source": [
    "num = random.randint(1, 50)\n",
    "\n",
    "while True :\n",
    "    a = int(input(\"숫자를 입력하세요 >> \"))\n",
    "    \n",
    "    if num > a:\n",
    "        print(f\"{a}보다 큰 수 입니다.\")\n",
    "    elif num < a:\n",
    "        print(f\"{a}보다 작은 수 입니다.\")\n",
    "    else:\n",
    "        print(\"정답을 맞추셨습니다,\")\n",
    "        break"
   ]
  },
  {
   "cell_type": "code",
   "execution_count": null,
   "id": "d307f206",
   "metadata": {},
   "outputs": [],
   "source": [
    "list_food = [\"햄버거\", \"치킨\", \"피자\"]\n",
    "for food in list_food:\n",
    "    print(food)"
   ]
  },
  {
   "cell_type": "code",
   "execution_count": null,
   "id": "96d97ffa",
   "metadata": {},
   "outputs": [],
   "source": [
    "hi = \"안녕하세요\"\n",
    "for s in hi:\n",
    "    print(s)"
   ]
  },
  {
   "cell_type": "code",
   "execution_count": null,
   "id": "194b6019",
   "metadata": {},
   "outputs": [],
   "source": [
    "score_list = [70, 45, 70, 60, 55]\n",
    "num = 0\n",
    "for i in score_list:\n",
    "    num += 1\n",
    "    if i >= 60:\n",
    "        print(f\"{num}번 학생은 합격입니다\")\n",
    "    else: \n",
    "        print(f\"{num}번 학생은 불합격입니다\")\n"
   ]
  },
  {
   "cell_type": "code",
   "execution_count": null,
   "id": "e039139d",
   "metadata": {},
   "outputs": [],
   "source": [
    "python_score = [57, 86, 63, 92, 35, 79]\n",
    "num = 0\n",
    "for i in python_score:\n",
    "    num += 1\n",
    "    if i >= 80 :\n",
    "        grade = 'A'\n",
    "    elif i >= 60:\n",
    "        grade = 'B'\n",
    "    else:\n",
    "        grade = 'C'\n",
    "        \n",
    "    num += 1\n",
    "    print(f\"{num}번은 {i}점 이며, {grade}등급 입니다.\")"
   ]
  },
  {
   "cell_type": "code",
   "execution_count": null,
   "id": "28492c41",
   "metadata": {},
   "outputs": [],
   "source": [
    "for i in range(1, 10, 1):\n",
    "    print(i, end=\" \")"
   ]
  },
  {
   "cell_type": "code",
   "execution_count": null,
   "id": "c39bd714",
   "metadata": {},
   "outputs": [],
   "source": [
    "for i in range(97, 76 , -1):\n",
    "    print(i, end=\" \")"
   ]
  },
  {
   "cell_type": "code",
   "execution_count": null,
   "id": "a506f2f9",
   "metadata": {},
   "outputs": [],
   "source": [
    "for i in range(2, 101, 2):\n",
    "    print(i, end=\" \")"
   ]
  },
  {
   "cell_type": "code",
   "execution_count": null,
   "id": "b534460c",
   "metadata": {},
   "outputs": [],
   "source": [
    "for i in range(3, 101, 3):\n",
    "    print(i, end=\" \")"
   ]
  },
  {
   "cell_type": "code",
   "execution_count": 3,
   "id": "4ef0cfc3",
   "metadata": {},
   "outputs": [
    {
     "name": "stdout",
     "output_type": "stream",
     "text": [
      "2\n",
      "4\n",
      "6\n"
     ]
    }
   ],
   "source": [
    "list1 = [[1,2], [3,4],[5,6]]\n",
    "for i,j in list1:\n",
    "    print( j)"
   ]
  },
  {
   "cell_type": "code",
   "execution_count": null,
   "id": "0c393f0a",
   "metadata": {},
   "outputs": [],
   "source": [
    "list2 = [4,5,2,1,99,15,2,7,27]\n",
    "max_num = list2[0]\n",
    "for i in list2:\n",
    "    if i > max_num :\n",
    "        max_num = i\n",
    "        \n",
    "print(max_num)"
   ]
  },
  {
   "cell_type": "code",
   "execution_count": null,
   "id": "5c17697c",
   "metadata": {},
   "outputs": [],
   "source": [
    "list2 = [4,5,2,1,99,15,2,7,27]\n",
    "min_num = list2[0]\n",
    "for i in list2:\n",
    "    if i < min_num :\n",
    "        min_num = i\n",
    "   \n",
    "        \n",
    "print(min_num)"
   ]
  },
  {
   "cell_type": "code",
   "execution_count": null,
   "id": "16f8fb8d",
   "metadata": {},
   "outputs": [],
   "source": [
    "total = 0\n",
    "for i in range (3, 101, 3):\n",
    "    total += i\n",
    "print(total)"
   ]
  },
  {
   "cell_type": "code",
   "execution_count": null,
   "id": "ab18ed80",
   "metadata": {},
   "outputs": [],
   "source": [
    "for i in range(1, 10, 1):\n",
    "    print(f\"2 * {i} = {2*i}\")"
   ]
  },
  {
   "cell_type": "code",
   "execution_count": null,
   "id": "8051549f",
   "metadata": {},
   "outputs": [],
   "source": [
    "num = int(input(\"정수 입력 >> \"))\n",
    "for i in range(1, num+1, 1):\n",
    "    if num % i == 0 :\n",
    "        print(i, end=\" \")"
   ]
  },
  {
   "cell_type": "code",
   "execution_count": null,
   "id": "32a7f0f5",
   "metadata": {},
   "outputs": [],
   "source": [
    "line = int(input(\"줄 수 입력 >> \"))\n",
    "for i in range(1, line+1, 1):\n",
    "    print(\"*\"*i)"
   ]
  },
  {
   "cell_type": "code",
   "execution_count": null,
   "id": "ad655598",
   "metadata": {},
   "outputs": [],
   "source": [
    "for i in range (1, 6 ,1):\n",
    "    print(\"*\"*i)\n",
    "for i in range (6, 0, -1):\n",
    "    print(\"*\"*i)"
   ]
  },
  {
   "cell_type": "code",
   "execution_count": null,
   "id": "aff8cc32",
   "metadata": {},
   "outputs": [],
   "source": [
    "start = int(input(\"첫 번째 점수 >>\"))\n",
    "end = int(input(\"두 번째 점수 >>\"))\n",
    "total = 0\n",
    "for i in range(start, end+1, 1):\n",
    "    print(i, end=\" \")"
   ]
  },
  {
   "cell_type": "code",
   "execution_count": null,
   "id": "7e099701",
   "metadata": {},
   "outputs": [],
   "source": [
    "start = int(input(\"첫 번째 점수 >>\"))\n",
    "end = int(input(\"두 번째 점수 >>\"))\n",
    "bb = int(input(\"배수 입력 >>\"))\n",
    "total = 0\n",
    "for i in range(start, end+1, 1):\n",
    "    if i % bb == 0 :\n",
    "        total += i\n",
    "print(f\"{bb}의 배수의 합 : {total}\")"
   ]
  },
  {
   "cell_type": "code",
   "execution_count": null,
   "id": "d50db01f",
   "metadata": {},
   "outputs": [],
   "source": [
    "for i in range(1, 10, 3):\n",
    "    print(i)"
   ]
  },
  {
   "cell_type": "code",
   "execution_count": null,
   "id": "9f11800a",
   "metadata": {},
   "outputs": [],
   "source": [
    "#구구단\n",
    "for dan in range(2, 10, 1):\n",
    "    for su in range(1, 10, 1):\n",
    "        print(f\"{dan}*{su}={dan*su}\\t\")\n",
    "        "
   ]
  },
  {
   "cell_type": "code",
   "execution_count": null,
   "id": "a36d5bf1",
   "metadata": {},
   "outputs": [],
   "source": [
    "#구구단\n",
    "for su in range(1, 10, 1):\n",
    "    for dan in range(2, 10, 1):\n",
    "        print(f\"{dan}*{su}={dan*su}\\t\", end=\" \")\n",
    "    print()"
   ]
  },
  {
   "cell_type": "code",
   "execution_count": null,
   "id": "d3e969c6",
   "metadata": {},
   "outputs": [],
   "source": [
    "list1 = [1,30,7,9,17,3,5,23,44]\n",
    "odd = 0\n",
    "even = 0\n",
    "\n",
    "for i in list1: \n",
    "    if i % 2 == 0:\n",
    "        even += 1\n",
    "    else :\n",
    "        odd += 1\n",
    "print(f\"짝수는 {even}개, 홀수는 {odd}개\")"
   ]
  },
  {
   "cell_type": "code",
   "execution_count": null,
   "id": "9d496a92",
   "metadata": {},
   "outputs": [],
   "source": [
    "quiz = input(\"ox 입력 >> \")\n",
    "score = 0\n",
    "result = 0\n",
    "for i in quiz :\n",
    "    if i == \"o\":\n",
    "        score += 1\n",
    "        result += score\n",
    "    else:\n",
    "        score += 0\n",
    "print(f\"{result}점\")    #연속으로 더하기 안됌\n"
   ]
  },
  {
   "cell_type": "code",
   "execution_count": null,
   "id": "869a953f",
   "metadata": {},
   "outputs": [],
   "source": [
    "ox = input(\"OX 입력 >> \")\n",
    "score = 0\n",
    "result = 0\n",
    "for i in range(0 , len(ox), 1): # range 마지막 1 은 생랴가능\n",
    "    if ox[i] == 'O':\n",
    "        score += 1\n",
    "        result += score # result =result + score\n",
    "    else:\n",
    "        score = 0\n",
    "print(f\"{result}점\")\n",
    "    "
   ]
  },
  {
   "cell_type": "code",
   "execution_count": null,
   "id": "f1006462",
   "metadata": {},
   "outputs": [],
   "source": [
    "score_list = [[\"박매일\",89,78,99],\n",
    "              [\"김미희\",67,88,77],\n",
    "              [\"강예진\",100,55,96],\n",
    "              [\"최성우\", 99, 99, 99]\n",
    "             ]"
   ]
  },
  {
   "cell_type": "code",
   "execution_count": null,
   "id": "26045c66",
   "metadata": {},
   "outputs": [],
   "source": [
    "len(score_list)"
   ]
  },
  {
   "cell_type": "code",
   "execution_count": null,
   "id": "90695f63",
   "metadata": {},
   "outputs": [],
   "source": [
    "# for i in score_list :\n",
    "#     print(i)"
   ]
  },
  {
   "cell_type": "code",
   "execution_count": null,
   "id": "763ed2a6",
   "metadata": {},
   "outputs": [],
   "source": [
    "print(\"=\"*50)\n",
    "print(\"이름\\t\", \"Python\\t\", \"Java\\t\", \"DB\\t\", \"평균\\t\", \"학점\\t\")\n",
    "print(\"=\"*50)\n",
    "\n",
    "python, java, db = 0, 0, 0\n",
    "\n",
    "for i in score_list :\n",
    "    #선생님별 평균\n",
    "    avg = (i[1]+i[2]+i[3])/3\n",
    "    #과목별 평균\n",
    "    avg_P, avg_J, avg_D = 0, 0, 0\n",
    "    \n",
    "    if avg >= 90 :\n",
    "        grade = \"A\"\n",
    "    elif avg >= 80:\n",
    "        grade = \"B\"\n",
    "    elif avg >= 70:\n",
    "        grade = \"C\"\n",
    "    elif avg >= 60:\n",
    "        grade = \"D\"\n",
    "    else:\n",
    "        grade = \"F\"\n",
    "    print(i[0], \"\\t\", i[1], \"\\t\", i[2], \"\\t\", i[3], \"\\t\", int(avg), \"\\t\", f\" {grade}\")\n",
    "    \n",
    "    \n",
    "    #과목별 평균\n",
    "    python += i[1]\n",
    "    java += i[2]\n",
    "    db += i[3]\n",
    "    \n",
    "avg_P = python / len(score_list)\n",
    "avg_J = java / len(score_list)\n",
    "avg_D = db / len(score_list)\n",
    "\n",
    "print(\"=\"*50)\n",
    "#맨 마지막줄\n",
    "print(\"평균\\t\", int(avg_P), \"\\t\", int(avg_J), \"\\t\", int(avg_D) )"
   ]
  },
  {
   "cell_type": "markdown",
   "id": "9bfc9f7d",
   "metadata": {},
   "source": [
    "### 네이버 영화 리뷰 간단 분석"
   ]
  },
  {
   "cell_type": "code",
   "execution_count": null,
   "id": "995da652",
   "metadata": {},
   "outputs": [],
   "source": [
    "#pickle : 리스트와 같은 자료구조 자체를 저장하거나 불러오게 해주는 \n",
    "#         라이브러리(기능들의 집합)\n",
    "import pickle"
   ]
  },
  {
   "cell_type": "code",
   "execution_count": null,
   "id": "5e591984",
   "metadata": {},
   "outputs": [],
   "source": [
    "with open('data/movie_review.pikle', )"
   ]
  },
  {
   "cell_type": "code",
   "execution_count": null,
   "id": "bf52e316",
   "metadata": {},
   "outputs": [],
   "source": []
  },
  {
   "cell_type": "code",
   "execution_count": null,
   "id": "72d7fce3",
   "metadata": {},
   "outputs": [],
   "source": []
  },
  {
   "cell_type": "code",
   "execution_count": null,
   "id": "37a61cd6",
   "metadata": {},
   "outputs": [],
   "source": []
  },
  {
   "cell_type": "code",
   "execution_count": null,
   "id": "c1707d27",
   "metadata": {},
   "outputs": [],
   "source": []
  },
  {
   "cell_type": "code",
   "execution_count": null,
   "id": "fa8d40b2",
   "metadata": {},
   "outputs": [],
   "source": []
  },
  {
   "cell_type": "code",
   "execution_count": null,
   "id": "2f6956b1",
   "metadata": {},
   "outputs": [],
   "source": []
  },
  {
   "cell_type": "code",
   "execution_count": null,
   "id": "0ea84a8c",
   "metadata": {},
   "outputs": [],
   "source": []
  }
 ],
 "metadata": {
  "kernelspec": {
   "display_name": "Python 3 (ipykernel)",
   "language": "python",
   "name": "python3"
  },
  "language_info": {
   "codemirror_mode": {
    "name": "ipython",
    "version": 3
   },
   "file_extension": ".py",
   "mimetype": "text/x-python",
   "name": "python",
   "nbconvert_exporter": "python",
   "pygments_lexer": "ipython3",
   "version": "3.9.12"
  }
 },
 "nbformat": 4,
 "nbformat_minor": 5
}
