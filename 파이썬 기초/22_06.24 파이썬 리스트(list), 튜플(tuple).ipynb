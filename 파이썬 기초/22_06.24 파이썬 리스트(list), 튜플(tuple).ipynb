{
 "cells": [
  {
   "cell_type": "code",
   "execution_count": 4,
   "id": "11b2e04c",
   "metadata": {},
   "outputs": [
    {
     "name": "stdout",
     "output_type": "stream",
     "text": [
      "2\n",
      "9\n",
      "17\n"
     ]
    }
   ],
   "source": [
    "list1 = [2, 5, 7, 9, 10]\n",
    "print(list1[0])\n",
    "print(list1[3])\n",
    "print(list1[2]+list1[-1])"
   ]
  },
  {
   "cell_type": "code",
   "execution_count": 7,
   "id": "c9bd98c6",
   "metadata": {},
   "outputs": [
    {
     "name": "stdout",
     "output_type": "stream",
     "text": [
      "2\n"
     ]
    }
   ],
   "source": [
    "list1 = [2, 5, 7, 9, 10]\n",
    "print(list1[0])"
   ]
  },
  {
   "cell_type": "code",
   "execution_count": null,
   "id": "a40ac25e",
   "metadata": {},
   "outputs": [],
   "source": [
    "list2 = [1, 2, 3, ['a', 'b', 'c']]   #list 안에 리스트가 있으면 2차원 보통 2차원 까지만 복잡은 문제는 3차워까지 사용\n",
    "temp = list2[-1]\n",
    "print(temp)\n",
    "print(temp[1])"
   ]
  },
  {
   "cell_type": "code",
   "execution_count": null,
   "id": "c57cc128",
   "metadata": {},
   "outputs": [],
   "source": [
    "list2[3][1]"
   ]
  },
  {
   "cell_type": "code",
   "execution_count": null,
   "id": "a0df2d67",
   "metadata": {},
   "outputs": [],
   "source": [
    "list3 = [0, 1, 2, 3, 4]\n",
    "list3[1:3]\n"
   ]
  },
  {
   "cell_type": "code",
   "execution_count": null,
   "id": "1d572a39",
   "metadata": {},
   "outputs": [],
   "source": [
    "list3[:2]\n"
   ]
  },
  {
   "cell_type": "code",
   "execution_count": null,
   "id": "7130b9a4",
   "metadata": {},
   "outputs": [],
   "source": [
    "list3[3:]"
   ]
  },
  {
   "cell_type": "code",
   "execution_count": null,
   "id": "9857102b",
   "metadata": {},
   "outputs": [],
   "source": [
    "list3[3:4]"
   ]
  },
  {
   "cell_type": "code",
   "execution_count": null,
   "id": "3e09d058",
   "metadata": {},
   "outputs": [],
   "source": [
    "list4 = [1, 2, 3]\n",
    "list5 = [3, 4, 5, 6]\n",
    "list4 +list5"
   ]
  },
  {
   "cell_type": "code",
   "execution_count": null,
   "id": "51857d96",
   "metadata": {},
   "outputs": [],
   "source": [
    "list5 = [0, 1, 2, 3, 4]\n",
    "list5.append(5)\n",
    "list5\n",
    "list5.append(6)\n",
    "list5"
   ]
  },
  {
   "cell_type": "code",
   "execution_count": null,
   "id": "22eb3913",
   "metadata": {},
   "outputs": [],
   "source": [
    "list_ = ['사과', '포도', ['수박', '멜론'], '복숭아', '딸기', '오렌지']\n"
   ]
  },
  {
   "cell_type": "code",
   "execution_count": null,
   "id": "1996ed31",
   "metadata": {},
   "outputs": [],
   "source": [
    "a = list_[0]\n",
    "b = list_[2][0]\n",
    "c = list_[-1]"
   ]
  },
  {
   "cell_type": "code",
   "execution_count": null,
   "id": "253abe87",
   "metadata": {},
   "outputs": [],
   "source": [
    "choice_list = []\n",
    "choice_list.append(a)\n",
    "choice_list"
   ]
  },
  {
   "cell_type": "code",
   "execution_count": null,
   "id": "f3d22ca1",
   "metadata": {},
   "outputs": [],
   "source": [
    "choice_list.append(c)\n",
    "choice_list"
   ]
  },
  {
   "cell_type": "code",
   "execution_count": null,
   "id": "4dfbd8d0",
   "metadata": {},
   "outputs": [],
   "source": [
    "choice_list.append(b)\n",
    "choice_list"
   ]
  },
  {
   "cell_type": "code",
   "execution_count": null,
   "id": "dd240d43",
   "metadata": {},
   "outputs": [],
   "source": [
    "list5 = [0, 1, 2, 3, 4]\n",
    "list5.insert(1, 5)\n",
    "list5"
   ]
  },
  {
   "cell_type": "code",
   "execution_count": null,
   "id": "7b3a8f0f",
   "metadata": {},
   "outputs": [],
   "source": [
    "list5.insert(5, 6)\n",
    "list5"
   ]
  },
  {
   "cell_type": "code",
   "execution_count": null,
   "id": "ac6eb376",
   "metadata": {},
   "outputs": [],
   "source": [
    "music_list = [[\"LOVE DIVE\", \"아이브\"],\n",
    "              [\"TOMBOY\", \"(여자)아이들\"],\n",
    "              [\"That That\", \"싸이\"]]\n",
    "music_list.insert(1, [\"사랑인가봐\", \"멜로망스\"])\n",
    "music_list.insert(3, [\"봄여름가을겨울\", \"빅뱅\"])\n",
    "music_list"
   ]
  },
  {
   "cell_type": "code",
   "execution_count": null,
   "id": "073338a5",
   "metadata": {},
   "outputs": [],
   "source": []
  },
  {
   "cell_type": "code",
   "execution_count": null,
   "id": "e8d88abb",
   "metadata": {},
   "outputs": [],
   "source": [
    "index_value = int(input(\"인덱스 입력 >> \"))\n",
    "song = input(\"노래 제목 >> \")\n",
    "singer = input(\"가수명 >> \")\n",
    "\n",
    "music_list.insert(index_value,[ song, singer])\n",
    "music_list"
   ]
  },
  {
   "cell_type": "code",
   "execution_count": 14,
   "id": "21a28cf2",
   "metadata": {},
   "outputs": [
    {
     "name": "stdout",
     "output_type": "stream",
     "text": [
      "수정 전 : 1\n",
      "수정 후: 7\n"
     ]
    },
    {
     "data": {
      "text/plain": [
       "[0, 7, 2, 3, 4]"
      ]
     },
     "execution_count": 14,
     "metadata": {},
     "output_type": "execute_result"
    }
   ],
   "source": [
    "list6 = [0, 1, 2, 3, 4]\n",
    "print(\"수정 전 :\" ,list6[1])\n",
    "list6[1]=7\n",
    "print(\"수정 후:\" ,list6[1])\n",
    "list6"
   ]
  },
  {
   "cell_type": "code",
   "execution_count": 10,
   "id": "c13b6821",
   "metadata": {},
   "outputs": [
    {
     "ename": "TypeError",
     "evalue": "can only assign an iterable",
     "output_type": "error",
     "traceback": [
      "\u001b[1;31m---------------------------------------------------------------------------\u001b[0m",
      "\u001b[1;31mTypeError\u001b[0m                                 Traceback (most recent call last)",
      "Input \u001b[1;32mIn [10]\u001b[0m, in \u001b[0;36m<cell line: 1>\u001b[1;34m()\u001b[0m\n\u001b[1;32m----> 1\u001b[0m list6[\u001b[38;5;241m2\u001b[39m:\u001b[38;5;241m4\u001b[39m] \u001b[38;5;241m=\u001b[39m \u001b[38;5;241m7\u001b[39m\n\u001b[0;32m      2\u001b[0m list6\n",
      "\u001b[1;31mTypeError\u001b[0m: can only assign an iterable"
     ]
    }
   ],
   "source": [
    "list6[2:4] = 7\n",
    "list6"
   ]
  },
  {
   "cell_type": "code",
   "execution_count": 15,
   "id": "d32e564e",
   "metadata": {},
   "outputs": [
    {
     "name": "stdout",
     "output_type": "stream",
     "text": [
      "[2, 3]\n"
     ]
    },
    {
     "data": {
      "text/plain": [
       "[0, 7, 7, 4]"
      ]
     },
     "execution_count": 15,
     "metadata": {},
     "output_type": "execute_result"
    }
   ],
   "source": [
    "print(list6[2:4])\n",
    "list6[2:4] = [7]\n",
    "list6"
   ]
  },
  {
   "cell_type": "code",
   "execution_count": 23,
   "id": "9eea114b",
   "metadata": {},
   "outputs": [
    {
     "data": {
      "text/plain": [
       "[1, 2, 3, 4, 7]"
      ]
     },
     "execution_count": 23,
     "metadata": {},
     "output_type": "execute_result"
    }
   ],
   "source": [
    "array = [1, 2, 3, 4 ,5]\n",
    "array[-1] = 7\n",
    "array"
   ]
  },
  {
   "cell_type": "code",
   "execution_count": 24,
   "id": "6d050a2b",
   "metadata": {},
   "outputs": [
    {
     "data": {
      "text/plain": [
       "[1, ['a', 'b', 'c'], 3, 4, 7]"
      ]
     },
     "execution_count": 24,
     "metadata": {},
     "output_type": "execute_result"
    }
   ],
   "source": [
    "array[1] = ['a', 'b', 'c']\n",
    "array"
   ]
  },
  {
   "cell_type": "code",
   "execution_count": 25,
   "id": "7a705083",
   "metadata": {},
   "outputs": [
    {
     "data": {
      "text/plain": [
       "[1, ['a', 'b', 'c'], 3, 'd', 'e', 'f', 'g']"
      ]
     },
     "execution_count": 25,
     "metadata": {},
     "output_type": "execute_result"
    }
   ],
   "source": [
    "array[3:] = 'd', 'e', 'f', 'g'\n",
    "array"
   ]
  },
  {
   "cell_type": "code",
   "execution_count": 26,
   "id": "47f0246d",
   "metadata": {},
   "outputs": [
    {
     "data": {
      "text/plain": [
       "['h', 'i', 'j', ['a', 'b', 'c'], 3, 'd', 'e', 'f', 'g']"
      ]
     },
     "execution_count": 26,
     "metadata": {},
     "output_type": "execute_result"
    }
   ],
   "source": [
    "array[0:1] = 'h', 'i', 'j'\n",
    "array"
   ]
  },
  {
   "cell_type": "code",
   "execution_count": null,
   "id": "ed114e67",
   "metadata": {},
   "outputs": [],
   "source": [
    "list7 = [0, 1, 2, 3, 4, 5]\n",
    "del list7[1]\n",
    "list7"
   ]
  },
  {
   "cell_type": "code",
   "execution_count": null,
   "id": "1dedf2c8",
   "metadata": {},
   "outputs": [],
   "source": [
    "list7 = [0, 1, 2, 3, 4, 5]\n",
    "del list7 [1:5]\n",
    "list7"
   ]
  },
  {
   "cell_type": "code",
   "execution_count": null,
   "id": "224f70a1",
   "metadata": {},
   "outputs": [],
   "source": [
    "list7 = ['a', 'b', 'c', 'd', 'e']\n",
    "list7.remove('b')\n",
    "list7"
   ]
  },
  {
   "cell_type": "code",
   "execution_count": null,
   "id": "52b1f1df",
   "metadata": {},
   "outputs": [],
   "source": [
    "list7.remove('b')"
   ]
  },
  {
   "cell_type": "code",
   "execution_count": 27,
   "id": "81c2633f",
   "metadata": {},
   "outputs": [
    {
     "data": {
      "text/plain": [
       "[9, 77, 13, 51, 100, 3]"
      ]
     },
     "execution_count": 27,
     "metadata": {},
     "output_type": "execute_result"
    }
   ],
   "source": [
    "list8 = [9, 77, 13, 51, 100, 3]\n",
    "list8"
   ]
  },
  {
   "cell_type": "code",
   "execution_count": 28,
   "id": "22a99643",
   "metadata": {},
   "outputs": [
    {
     "data": {
      "text/plain": [
       "[3, 9, 13, 51, 77, 100]"
      ]
     },
     "execution_count": 28,
     "metadata": {},
     "output_type": "execute_result"
    }
   ],
   "source": [
    "list8.sort()\n",
    "list8"
   ]
  },
  {
   "cell_type": "code",
   "execution_count": null,
   "id": "32c72734",
   "metadata": {},
   "outputs": [],
   "source": [
    "list8.reverse()\n",
    "list8"
   ]
  },
  {
   "cell_type": "code",
   "execution_count": 29,
   "id": "d47f82c1",
   "metadata": {},
   "outputs": [
    {
     "data": {
      "text/plain": [
       "[9, 77, 13, 51, 100, 3]"
      ]
     },
     "execution_count": 29,
     "metadata": {},
     "output_type": "execute_result"
    }
   ],
   "source": [
    "list10 = [9, 77, 13, 51, 100, 3]\n",
    "list10"
   ]
  },
  {
   "cell_type": "code",
   "execution_count": 30,
   "id": "835a4a2d",
   "metadata": {},
   "outputs": [
    {
     "data": {
      "text/plain": [
       "[3, 9, 13, 51, 77, 100]"
      ]
     },
     "execution_count": 30,
     "metadata": {},
     "output_type": "execute_result"
    }
   ],
   "source": [
    "list10.sort()\n",
    "list10"
   ]
  },
  {
   "cell_type": "code",
   "execution_count": 31,
   "id": "39405220",
   "metadata": {},
   "outputs": [
    {
     "data": {
      "text/plain": [
       "[100, 77, 51, 13, 9, 3]"
      ]
     },
     "execution_count": 31,
     "metadata": {},
     "output_type": "execute_result"
    }
   ],
   "source": [
    "list10.reverse()\n",
    "list10"
   ]
  },
  {
   "cell_type": "code",
   "execution_count": 32,
   "id": "0d2e7a9f",
   "metadata": {},
   "outputs": [
    {
     "data": {
      "text/plain": [
       "[100, 77, 51, 13, 9, 3]"
      ]
     },
     "execution_count": 32,
     "metadata": {},
     "output_type": "execute_result"
    }
   ],
   "source": [
    "#내림차순 정렬\n",
    "list10.sort(reverse=True)\n",
    "list10"
   ]
  },
  {
   "cell_type": "code",
   "execution_count": 14,
   "id": "c3c4aef2",
   "metadata": {},
   "outputs": [
    {
     "data": {
      "text/plain": [
       "2"
      ]
     },
     "execution_count": 14,
     "metadata": {},
     "output_type": "execute_result"
    }
   ],
   "source": [
    "list11 = ['a', 'b', 'c', 'd', 'e', 'f']\n",
    "list11.index('c')"
   ]
  },
  {
   "cell_type": "code",
   "execution_count": 16,
   "id": "4e92e09b",
   "metadata": {},
   "outputs": [
    {
     "data": {
      "text/plain": [
       "'f'"
      ]
     },
     "execution_count": 16,
     "metadata": {},
     "output_type": "execute_result"
    }
   ],
   "source": [
    "list12 = ['a', 'b', 'c', 'd', 'e', 'f']\n",
    "list12.pop()"
   ]
  },
  {
   "cell_type": "code",
   "execution_count": 17,
   "id": "1e792743",
   "metadata": {},
   "outputs": [
    {
     "data": {
      "text/plain": [
       "['a', 'b', 'c', 'd', 'e']"
      ]
     },
     "execution_count": 17,
     "metadata": {},
     "output_type": "execute_result"
    }
   ],
   "source": [
    "list12"
   ]
  },
  {
   "cell_type": "code",
   "execution_count": null,
   "id": "62dd6f9f",
   "metadata": {},
   "outputs": [],
   "source": [
    "len(list12), len(list10)"
   ]
  },
  {
   "cell_type": "code",
   "execution_count": null,
   "id": "f180c462",
   "metadata": {},
   "outputs": [],
   "source": [
    "tuple1 = (0, 1, 2, 3, ('a', 'b', 'c'), 5)\n",
    "tuple1[2]"
   ]
  },
  {
   "cell_type": "code",
   "execution_count": null,
   "id": "a31dfa9f",
   "metadata": {},
   "outputs": [],
   "source": [
    "tuple1[4]"
   ]
  },
  {
   "cell_type": "code",
   "execution_count": null,
   "id": "9e2b7a60",
   "metadata": {},
   "outputs": [],
   "source": [
    "tuple1[1:3]"
   ]
  },
  {
   "cell_type": "code",
   "execution_count": null,
   "id": "4b37981a",
   "metadata": {},
   "outputs": [],
   "source": [
    "tuple1[3:]"
   ]
  },
  {
   "cell_type": "code",
   "execution_count": null,
   "id": "b1a22d56",
   "metadata": {},
   "outputs": [],
   "source": [
    "len(tuple1)"
   ]
  },
  {
   "cell_type": "code",
   "execution_count": null,
   "id": "cd60da7b",
   "metadata": {},
   "outputs": [],
   "source": [
    "tuple2 = ['a', 'b', 'c', 'd', 'e', 'f']"
   ]
  },
  {
   "cell_type": "code",
   "execution_count": null,
   "id": "7891628f",
   "metadata": {},
   "outputs": [],
   "source": [
    "str1 = \"파이썬 최고\""
   ]
  },
  {
   "cell_type": "code",
   "execution_count": null,
   "id": "7189cd4d",
   "metadata": {},
   "outputs": [],
   "source": [
    "\"파이썬\" in str1"
   ]
  },
  {
   "cell_type": "code",
   "execution_count": null,
   "id": "566c065b",
   "metadata": {},
   "outputs": [],
   "source": [
    "\"파이썬\" not in str1"
   ]
  },
  {
   "cell_type": "code",
   "execution_count": 4,
   "id": "9830d466",
   "metadata": {},
   "outputs": [
    {
     "data": {
      "text/plain": [
       "False"
      ]
     },
     "execution_count": 4,
     "metadata": {},
     "output_type": "execute_result"
    }
   ],
   "source": [
    "list1 = [77, 38, 10]\n",
    "33 in list1"
   ]
  },
  {
   "cell_type": "code",
   "execution_count": null,
   "id": "6798b1a2",
   "metadata": {},
   "outputs": [],
   "source": [
    "33 not in list1"
   ]
  },
  {
   "cell_type": "code",
   "execution_count": 1,
   "id": "3d073a36",
   "metadata": {},
   "outputs": [],
   "source": [
    "s = \"Hi, My name is SeongWoo\""
   ]
  },
  {
   "cell_type": "code",
   "execution_count": 19,
   "id": "f5efbe98",
   "metadata": {},
   "outputs": [
    {
     "name": "stdout",
     "output_type": "stream",
     "text": [
      "검색할 문자를 입력하세요 : o\n",
      "o는 3번 들어있네유!\n"
     ]
    }
   ],
   "source": [
    "a = input(\"검색할 문자를 입력하세요 : \")\n",
    "b = s.count(a)\n",
    "\n",
    "if a  not in s :\n",
    "    print(f\"{a}는 들어있지 않네유... \")\n",
    "else:\n",
    "    print(f\"{a}는 {b}번 들어있네유!\")"
   ]
  },
  {
   "cell_type": "code",
   "execution_count": 15,
   "id": "0b865a96",
   "metadata": {},
   "outputs": [
    {
     "ename": "SyntaxError",
     "evalue": "invalid syntax (4227313725.py, line 1)",
     "output_type": "error",
     "traceback": [
      "\u001b[1;36m  Input \u001b[1;32mIn [15]\u001b[1;36m\u001b[0m\n\u001b[1;33m    count 3\u001b[0m\n\u001b[1;37m          ^\u001b[0m\n\u001b[1;31mSyntaxError\u001b[0m\u001b[1;31m:\u001b[0m invalid syntax\n"
     ]
    }
   ],
   "source": []
  },
  {
   "cell_type": "code",
   "execution_count": null,
   "id": "bcb106d5",
   "metadata": {},
   "outputs": [],
   "source": []
  },
  {
   "cell_type": "code",
   "execution_count": null,
   "id": "4818442b",
   "metadata": {},
   "outputs": [],
   "source": []
  },
  {
   "cell_type": "code",
   "execution_count": null,
   "id": "a1704d26",
   "metadata": {},
   "outputs": [],
   "source": []
  }
 ],
 "metadata": {
  "kernelspec": {
   "display_name": "Python 3 (ipykernel)",
   "language": "python",
   "name": "python3"
  },
  "language_info": {
   "codemirror_mode": {
    "name": "ipython",
    "version": 3
   },
   "file_extension": ".py",
   "mimetype": "text/x-python",
   "name": "python",
   "nbconvert_exporter": "python",
   "pygments_lexer": "ipython3",
   "version": "3.9.12"
  }
 },
 "nbformat": 4,
 "nbformat_minor": 5
}
